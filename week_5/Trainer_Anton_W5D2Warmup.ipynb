{
 "cells": [
  {
   "cell_type": "code",
   "execution_count": 7,
   "metadata": {},
   "outputs": [],
   "source": [
    "# Question 1\n",
    "\n",
    "def summation():\n",
    "    lowerBound = int(input('Enter lower Bound: '))\n",
    "    upperBound = int(input('Enter Upper Bound: '))\n",
    "    \n",
    "    sum = 0    \n",
    "    \n",
    "    for num in range(lowerBound, upperBound + 1, 1):\n",
    "        sum += num\n",
    "    return sum\n"
   ]
  },
  {
   "cell_type": "code",
   "execution_count": 9,
   "metadata": {},
   "outputs": [
    {
     "name": "stdout",
     "output_type": "stream",
     "text": [
      "Enter lower Bound: 1\n",
      "Enter Upper Bound: 5\n"
     ]
    },
    {
     "data": {
      "text/plain": [
       "15"
      ]
     },
     "execution_count": 9,
     "metadata": {},
     "output_type": "execute_result"
    }
   ],
   "source": [
    "summation()"
   ]
  },
  {
   "cell_type": "code",
   "execution_count": 21,
   "metadata": {},
   "outputs": [],
   "source": [
    "# question 2\n",
    "\n",
    "def square(numbers):\n",
    "    squares = []\n",
    "    \n",
    "    for num in numbers:\n",
    "        squares.append(num * num)\n",
    "    \n",
    "    return squares"
   ]
  },
  {
   "cell_type": "code",
   "execution_count": 22,
   "metadata": {},
   "outputs": [
    {
     "data": {
      "text/plain": [
       "[1, 4, 9, 16]"
      ]
     },
     "execution_count": 22,
     "metadata": {},
     "output_type": "execute_result"
    }
   ],
   "source": [
    "square([1,2,3,4])"
   ]
  },
  {
   "cell_type": "code",
   "execution_count": 27,
   "metadata": {},
   "outputs": [],
   "source": [
    "# question 3\n",
    "\n",
    "def levels(level):\n",
    "    if level < 250000:\n",
    "        print('Bronze')\n",
    "    elif level >= 250000 and level < 500000:\n",
    "        print('Silver')\n",
    "    elif level >= 500000 and level < 750000:\n",
    "        print('Gold')\n",
    "    else:\n",
    "        print('Platinum')\n",
    "        \n",
    "    "
   ]
  },
  {
   "cell_type": "code",
   "execution_count": 28,
   "metadata": {
    "scrolled": true
   },
   "outputs": [
    {
     "name": "stdout",
     "output_type": "stream",
     "text": [
      "Bronze\n",
      "Silver\n",
      "Gold\n",
      "Platinum\n"
     ]
    }
   ],
   "source": [
    "levels(200000)\n",
    "levels(300000)\n",
    "levels(600000)\n",
    "levels(1000000)"
   ]
  }
 ],
 "metadata": {
  "kernelspec": {
   "display_name": "Python 3",
   "language": "python",
   "name": "python3"
  },
  "language_info": {
   "codemirror_mode": {
    "name": "ipython",
    "version": 3
   },
   "file_extension": ".py",
   "mimetype": "text/x-python",
   "name": "python",
   "nbconvert_exporter": "python",
   "pygments_lexer": "ipython3",
   "version": "3.7.4"
  }
 },
 "nbformat": 4,
 "nbformat_minor": 2
}
