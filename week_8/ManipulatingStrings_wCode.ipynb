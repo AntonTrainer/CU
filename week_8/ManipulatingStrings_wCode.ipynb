{
 "cells": [
  {
   "cell_type": "code",
   "execution_count": null,
   "metadata": {},
   "outputs": [],
   "source": [
    "#The first cell is just to align our markdown tables to the left vs. center"
   ]
  },
  {
   "cell_type": "code",
   "execution_count": null,
   "metadata": {},
   "outputs": [],
   "source": [
    "%%html\n",
    "<style>\n",
    "table {float:left}\n",
    "</style>"
   ]
  },
  {
   "cell_type": "markdown",
   "metadata": {},
   "source": [
    "# Manipulating Strings\n",
    "## Teaching Notes\n",
    "***\n",
    "## Learning Objectives\n",
    "In this lesson you will: \n",
    "\n",
    "        1. Learn the fundamentals of processing text stored in string values\n",
    "        2. Apply various methods to strings\n",
    ">- Note: This lesson concludes our Python fundamentals section of this course and the material for the Midterm\n",
    ">- After this, we should have enough of the basic understanding of Python to start working on applied business analytics problems!\n",
    "               \n",
    "## Modules covered in this lesson: \n",
    ">- `pyperclip`, used to copy and paste text from the clipboard\n",
    "\n",
    "## Links to topics and functions:\n",
    ">- <a id='Lists'></a>[String Literals](#String-Literals)\n",
    ">- <a id='methods'></a>[String Methods](#String-Methods)\n",
    ">- <a id='HW'></a> [Homework](#Homework)\n",
    "\n",
    "## Path to main python folder: C:\\\\Users\\\\mimc2537\\OneDrive - UCB-O365\\python\\week6\n",
    "### References: Sweigart(2015, pp. 123-143)\n",
    "#### Don't forget about the Python visualizer tool: http://pythontutor.com/visualize.html#mode=display\n",
    "\n",
    "## Functions covered in this lesson:\n",
    "|Methods/Functions  | Module     |Description    |\n",
    "|:-----------:      |:----------:|:-------------|\n",
    "|upper()            |            |Returns a new string with all UPPER CASE LETTERS|\n",
    "|lower()            |            |Returns a new string with all lower case letters|\n",
    "|isupper()          |            |Checks whether all the letters in a string are UPPER CASE|\n",
    "|islower()          |            |Checks whether all the letters in a string are lower case|\n",
    "|isalpha()          |            |Checks whether a string only has letters and is not blank|\n",
    "|isalnum()          |            |Checks whether only letters and numbers are in the string|   \n",
    "|isdecimal()        |            |Checks whether the string only consists only numeric characters|\n",
    "|isspace()          |            |Checks whether the string only contains: spaces, tabs, and new lines|\n",
    "|istitle()          |            |Checks whether the string only contains words that start with upper followed by lower case|\n",
    "|startswith()       |            |Checks if the string value begins with the string passed to the method\n",
    "|endswith()         |            |Checks if the string value ends with the string passed to the method\n",
    "|join()             |            |Concatenates a list of strings into one string\n",
    "|split()            |            |Basically, \"unconcatenates\" a string into a list of strings\n",
    "|rjust()            |            |Right justifies a string based on an integer value of spaces\n",
    "|ljust()            |            |Left justifies a string based on an integer value of spaces\n",
    "|center()           |            |Centers a string based on an integer value of spaces\n",
    "|strip()            |            |Removes whitespace characters at the beginning and end of string\n",
    "|rstrip()           |            |Removes whitespace from the right end of the string\n",
    "|lstrip()           |            |Removes whitespace from the left end of the string\n",
    "|copy()             |pyperclip   |Copies the output from a program to the clipboard\n",
    "|paste()            |pyperclip   |Pastes/returns whatever is the clipboard (including outside of your program)\n",
    "\n",
    "\n",
    "\n"
   ]
  },
  {
   "cell_type": "markdown",
   "metadata": {
    "slideshow": {
     "slide_type": "slide"
    }
   },
   "source": [
    "# String Literals\n",
    ">- Basically, this is telling Python where a string begins and ends\n",
    ">- We have already used single `'` and `\"` quotes but what if we want to mix these? \n"
   ]
  },
  {
   "cell_type": "markdown",
   "metadata": {},
   "source": [
    "### Using double quotes\n",
    ">- One wrong and correct way to define a string in Python using quotes"
   ]
  },
  {
   "cell_type": "code",
   "execution_count": null,
   "metadata": {},
   "outputs": [],
   "source": [
    "#the wrong way\n",
    "\n",
    "ralphie = 'Ralphie is CU's mascot'"
   ]
  },
  {
   "cell_type": "code",
   "execution_count": null,
   "metadata": {},
   "outputs": [],
   "source": [
    "#One correct way\n",
    "\n",
    "ralphie = \"Ralphie is CU's mascot\"\n",
    "print(ralphie)"
   ]
  },
  {
   "cell_type": "markdown",
   "metadata": {},
   "source": [
    "#### Another way using escape characters"
   ]
  },
  {
   "cell_type": "code",
   "execution_count": null,
   "metadata": {},
   "outputs": [],
   "source": [
    "ralphie = 'Ralphie is CU\\'s mascot'\n",
    "print(ralphie)"
   ]
  },
  {
   "cell_type": "markdown",
   "metadata": {},
   "source": [
    "### Escape characters allow us to put characters in a string that would otherwise be impossible\n",
    "\n",
    "#### Here are some common escape characters\n",
    "\n",
    "|Escape Character   | Prints as     |\n",
    ":-----------:       |:----------:   |\n",
    "|\\\\'                 |Single quote   |\n",
    "|\\\\\"                 |Double quote   |\n",
    "|\\t                 |Tab            |\n",
    "|\\n                 |New line       |\n",
    "|\\\\\\                 |Backslash      |"
   ]
  },
  {
   "cell_type": "code",
   "execution_count": null,
   "metadata": {
    "scrolled": true
   },
   "outputs": [],
   "source": [
    "ralphieSaid = \"\\\"I'm the best mascot in all of college sports\\\"\"\n",
    "print(ralphieSaid)"
   ]
  },
  {
   "cell_type": "code",
   "execution_count": null,
   "metadata": {},
   "outputs": [],
   "source": [
    "ralphie2Line = \"\\\"I'm the best mascot \\n in all of college sprots\\\"\"\n",
    "print(ralphie2Line)"
   ]
  },
  {
   "cell_type": "code",
   "execution_count": null,
   "metadata": {},
   "outputs": [],
   "source": [
    "ralphie2LineTab = \"\\\"I'm the best mascot \\n \\t in all of college sports\\\"\"\n",
    "print(ralphie2LineTab)"
   ]
  },
  {
   "cell_type": "markdown",
   "metadata": {},
   "source": [
    "#### Raw strings ignore all escape characters\n",
    ">- The use of this will become more evident when we discuss regular expressions\n",
    ">- To print a raw string preface a string literal with `r`"
   ]
  },
  {
   "cell_type": "code",
   "execution_count": null,
   "metadata": {},
   "outputs": [],
   "source": [
    "print(r\"\\\"I'm the best mascot \\n \\t in all of college sports\\\"\")"
   ]
  },
  {
   "cell_type": "markdown",
   "metadata": {},
   "source": [
    "### Multi-line Strings \n",
    ">- Use triple quotes\n",
    ">- All text within triple quotes is considered part of the string\n",
    ">- This is particularly useful when commenting out your code"
   ]
  },
  {
   "cell_type": "code",
   "execution_count": null,
   "metadata": {},
   "outputs": [],
   "source": [
    "''' \n",
    "* Here is some text that can \n",
    "    carry over to multiple lines \n",
    "    and Python treats this\n",
    "    as one string. We can have\n",
    "    single quotes' and \n",
    "    double \"\" within the triple quotes\n",
    "    and this is still all part of the\n",
    "    same block\n",
    "\n",
    "'''"
   ]
  },
  {
   "cell_type": "markdown",
   "metadata": {},
   "source": [
    "### Indexing and Slicing Strings\n",
    ">- Recall how we used indexes and slicing with lists: `list[1]`, `list[0:3]`, etc\n",
    ">- Also recall how we said strings are \"list-like\" \n",
    ">- We can think of a string as a list with each character having an index"
   ]
  },
  {
   "cell_type": "markdown",
   "metadata": {},
   "source": [
    "Here's how the string, \"Hello\", can be viewed as list-like with an index for each character\n",
    "\n",
    "|             |   |   |    |    |   |\n",
    "|:-----------:|:-:|:-:|:-: |:-: |:-:|\n",
    "|Character    |H | e | l   | l  | o |\n",
    "|Index        |0 | 1 | 2   | 3  | 4 |\n"
   ]
  },
  {
   "cell_type": "markdown",
   "metadata": {},
   "source": [
    "#### Let's slice up some strings"
   ]
  },
  {
   "cell_type": "code",
   "execution_count": 1,
   "metadata": {},
   "outputs": [],
   "source": [
    "ralphie = \"Go Buffs!\""
   ]
  },
  {
   "cell_type": "code",
   "execution_count": 2,
   "metadata": {},
   "outputs": [
    {
     "data": {
      "text/plain": [
       "'B'"
      ]
     },
     "execution_count": 2,
     "metadata": {},
     "output_type": "execute_result"
    }
   ],
   "source": [
    "ralphie[3]"
   ]
  },
  {
   "cell_type": "code",
   "execution_count": null,
   "metadata": {},
   "outputs": [],
   "source": [
    "ralphie[2:5]"
   ]
  },
  {
   "cell_type": "code",
   "execution_count": null,
   "metadata": {},
   "outputs": [],
   "source": [
    "team = ralphie[-6:-1]\n",
    "print(team)"
   ]
  },
  {
   "cell_type": "markdown",
   "metadata": {},
   "source": [
    "### How many times does each character appear in `ralphie`? "
   ]
  },
  {
   "cell_type": "code",
   "execution_count": null,
   "metadata": {},
   "outputs": [],
   "source": [
    "charCount = {}\n",
    "\n",
    "for char in ralphie:\n",
    "    charCount.setdefault(char,0)\n",
    "    charCount[char] = charCount[char] + 1\n",
    "\n",
    "charCount"
   ]
  },
  {
   "cell_type": "markdown",
   "metadata": {},
   "source": [
    "## String Methods"
   ]
  },
  {
   "cell_type": "markdown",
   "metadata": {},
   "source": [
    "### upper(), lower(), isupper(), islower()"
   ]
  },
  {
   "cell_type": "code",
   "execution_count": null,
   "metadata": {
    "scrolled": true
   },
   "outputs": [],
   "source": [
    "ralphie.upper()"
   ]
  },
  {
   "cell_type": "code",
   "execution_count": null,
   "metadata": {},
   "outputs": [],
   "source": [
    "ralphie.lower()"
   ]
  },
  {
   "cell_type": "code",
   "execution_count": null,
   "metadata": {},
   "outputs": [],
   "source": [
    "ralphie.isupper()"
   ]
  },
  {
   "cell_type": "code",
   "execution_count": null,
   "metadata": {},
   "outputs": [],
   "source": [
    "ralphie.islower()"
   ]
  },
  {
   "cell_type": "code",
   "execution_count": null,
   "metadata": {},
   "outputs": [],
   "source": [
    "'HELLO'.isupper()"
   ]
  },
  {
   "cell_type": "code",
   "execution_count": null,
   "metadata": {},
   "outputs": [],
   "source": [
    "'hello'.islower()"
   ]
  },
  {
   "cell_type": "code",
   "execution_count": null,
   "metadata": {},
   "outputs": [],
   "source": [
    "'hello123'.islower()"
   ]
  },
  {
   "cell_type": "code",
   "execution_count": null,
   "metadata": {},
   "outputs": [],
   "source": [
    "'123'.islower()"
   ]
  },
  {
   "cell_type": "markdown",
   "metadata": {},
   "source": [
    "### `isalpha()`, `isalnum()`, `isdecimal()`, `isspace()`, `istitle()`\n",
    "\n",
    ">- These can be useful for data validation"
   ]
  },
  {
   "cell_type": "code",
   "execution_count": null,
   "metadata": {},
   "outputs": [],
   "source": [
    "ralphie.isalpha()"
   ]
  },
  {
   "cell_type": "code",
   "execution_count": null,
   "metadata": {},
   "outputs": [],
   "source": [
    "ralphie.isalnum()"
   ]
  },
  {
   "cell_type": "code",
   "execution_count": null,
   "metadata": {},
   "outputs": [],
   "source": [
    "ralphie.isdecimal()"
   ]
  },
  {
   "cell_type": "code",
   "execution_count": null,
   "metadata": {},
   "outputs": [],
   "source": [
    "'ralphie123'.isalpha()"
   ]
  },
  {
   "cell_type": "code",
   "execution_count": null,
   "metadata": {},
   "outputs": [],
   "source": [
    "'ralphie123'.isalnum()"
   ]
  },
  {
   "cell_type": "code",
   "execution_count": null,
   "metadata": {},
   "outputs": [],
   "source": [
    "'12345'.isalnum()"
   ]
  },
  {
   "cell_type": "code",
   "execution_count": null,
   "metadata": {},
   "outputs": [],
   "source": [
    "'12345'.isdecimal()"
   ]
  },
  {
   "cell_type": "code",
   "execution_count": null,
   "metadata": {},
   "outputs": [],
   "source": [
    "ralphie.istitle()"
   ]
  },
  {
   "cell_type": "markdown",
   "metadata": {},
   "source": [
    "#### Example of where using the `isX` methods is useful\n",
    ">- Task: create a program that will ask a user for their age and print their age to the screen\n",
    ">>- Create data validation for age requiring only numbers for the input\n",
    ">>- If the user does not enter a number, ask them to enter one. "
   ]
  },
  {
   "cell_type": "code",
   "execution_count": null,
   "metadata": {},
   "outputs": [],
   "source": [
    "while True:\n",
    "    \n",
    "    age = input(f\"What is your age? \")\n",
    "    if age.isdecimal():\n",
    "        break\n",
    "    else:\n",
    "        print(f\"Please enter a number for your age\")\n",
    "\n",
    "print(age)\n"
   ]
  },
  {
   "cell_type": "markdown",
   "metadata": {},
   "source": [
    "### `startswith()` and `endswith()` methods"
   ]
  },
  {
   "cell_type": "code",
   "execution_count": null,
   "metadata": {},
   "outputs": [],
   "source": [
    "ralphie.startswith('Go')"
   ]
  },
  {
   "cell_type": "code",
   "execution_count": null,
   "metadata": {},
   "outputs": [],
   "source": [
    "'Hello'.startswith('He')"
   ]
  },
  {
   "cell_type": "code",
   "execution_count": null,
   "metadata": {},
   "outputs": [],
   "source": [
    "ralphie.startswith('Buffs')"
   ]
  },
  {
   "cell_type": "code",
   "execution_count": null,
   "metadata": {},
   "outputs": [],
   "source": [
    "ralphie.endswith('!')"
   ]
  },
  {
   "cell_type": "markdown",
   "metadata": {},
   "source": [
    "### `join()` and `split()` methods"
   ]
  },
  {
   "cell_type": "markdown",
   "metadata": {},
   "source": [
    "#### `join()`\n",
    ">- Take a list of strings and concatenate them into one string\n",
    ">- The join method is called on a string value and is passed a list value"
   ]
  },
  {
   "cell_type": "code",
   "execution_count": null,
   "metadata": {},
   "outputs": [],
   "source": [
    "cuLeeds = ['marketing','finance', 'management', 'analytics']"
   ]
  },
  {
   "cell_type": "code",
   "execution_count": null,
   "metadata": {},
   "outputs": [],
   "source": [
    "cuLeedsJoin = ', '.join(cuLeeds)\n",
    "cuLeedsJoin"
   ]
  },
  {
   "cell_type": "code",
   "execution_count": null,
   "metadata": {},
   "outputs": [],
   "source": [
    "' and '.join(cuLeeds)"
   ]
  },
  {
   "cell_type": "markdown",
   "metadata": {},
   "source": [
    "#### `split()`\n",
    ">- Commonly used to split a multi-line string along the newline characters\n",
    ">- The split method is called on a string value  and returns a list of strings"
   ]
  },
  {
   "cell_type": "code",
   "execution_count": 1,
   "metadata": {},
   "outputs": [],
   "source": [
    "deanLetter = '''\n",
    "Dear Dean Matusik:\n",
    "   \n",
    "    We have been working really hard\n",
    "    to learn Python this semester. \n",
    "    The skills we are learning in \n",
    "    the analytics program will\n",
    "    translate into highly demanded\n",
    "    jobs and higher salaries than \n",
    "    those without anlaytics skills. \n",
    "\n",
    "'''"
   ]
  },
  {
   "cell_type": "code",
   "execution_count": 2,
   "metadata": {},
   "outputs": [
    {
     "data": {
      "text/plain": [
       "['',\n",
       " 'Dear Dean Matusik:',\n",
       " '   ',\n",
       " '    We have been working really hard',\n",
       " '    to learn Python this semester. ',\n",
       " '    The skills we are learning in ',\n",
       " '    the analytics program will',\n",
       " '    translate into highly demanded',\n",
       " '    jobs and higher salaries than ',\n",
       " '    those without anlaytics skills. ',\n",
       " '',\n",
       " '']"
      ]
     },
     "execution_count": 2,
     "metadata": {},
     "output_type": "execute_result"
    }
   ],
   "source": [
    "deanLetter.split('\\n')"
   ]
  },
  {
   "cell_type": "markdown",
   "metadata": {},
   "source": [
    "### Justifying Text with `rjust()`, `ljust()`, and `center()`"
   ]
  },
  {
   "cell_type": "code",
   "execution_count": null,
   "metadata": {},
   "outputs": [],
   "source": [
    "'Hello'.rjust(10)"
   ]
  },
  {
   "cell_type": "code",
   "execution_count": 3,
   "metadata": {},
   "outputs": [
    {
     "data": {
      "text/plain": [
       "'-----Hello'"
      ]
     },
     "execution_count": 3,
     "metadata": {},
     "output_type": "execute_result"
    }
   ],
   "source": [
    "'Hello'.rjust(10,'-')"
   ]
  },
  {
   "cell_type": "code",
   "execution_count": null,
   "metadata": {},
   "outputs": [],
   "source": [
    "'Hello'.ljust(10)"
   ]
  },
  {
   "cell_type": "code",
   "execution_count": null,
   "metadata": {},
   "outputs": [],
   "source": [
    "'Hello'.ljust(10,'!')"
   ]
  },
  {
   "cell_type": "code",
   "execution_count": null,
   "metadata": {},
   "outputs": [],
   "source": [
    "'Hello'.center(10)"
   ]
  },
  {
   "cell_type": "code",
   "execution_count": null,
   "metadata": {},
   "outputs": [],
   "source": [
    "'Hello'.center(20,'*')"
   ]
  },
  {
   "cell_type": "markdown",
   "metadata": {},
   "source": [
    "### Justifying Text Example\n",
    ">- Task: write a function that accepts 3 parameters: itemsDict, leftWidth, rightWidth and prints a table for majors and salaries\n",
    ">>- itemsDict is a dictionary variable storing salaries (the values) for majors (the keys)\n",
    ">>- leftWidth is an integer parameter that will get passed to the ljust() method to define the column width of majors\n",
    ">>- rightWidth is an integer parameter that will get passed to the ljust() method to define the column width of salaries"
   ]
  },
  {
   "cell_type": "code",
   "execution_count": 5,
   "metadata": {},
   "outputs": [
    {
     "name": "stdout",
     "output_type": "stream",
     "text": [
      "Major           Salary \n",
      "----------------------\n",
      "Marketing......  50000\n",
      "Accounting.....  55000\n",
      "Analytics......  57000\n",
      "Management.....  60000\n"
     ]
    }
   ],
   "source": [
    "def printSalary(itemsDict, leftWidth, rightWidth):\n",
    "    \n",
    "    print('Major'.ljust(leftWidth, ),'Salary'.ljust(rightWidth,))\n",
    "    print('-' * (leftWidth + rightWidth))\n",
    "    \n",
    "    for key, value in itemsDict.items():\n",
    "        print(key.ljust(leftWidth, '.') + str(value).rjust(rightWidth))\n",
    "        \n",
    "salaries = {'Marketing':50000,'Accounting':55000, 'Analytics':57000,'Management': 60000}\n",
    "printSalary(salaries,15,7)"
   ]
  },
  {
   "cell_type": "markdown",
   "metadata": {},
   "source": [
    "### Some basic analytics on our salary table\n",
    ">- How many total majors were analyzed? Name the variable `sampSize`\n",
    ">- How was the average salary of all majors? Name the variable `avgSal`"
   ]
  },
  {
   "cell_type": "code",
   "execution_count": 6,
   "metadata": {},
   "outputs": [],
   "source": [
    "sampSize = 0\n",
    "sumSal = 0\n",
    "\n",
    "for keys in salaries:\n",
    "    sampSize = sampSize + 1\n",
    "    sumSal = sumSal + salaries[keys]\n",
    "    \n",
    "avgSal = round(sumSal/sampSize)"
   ]
  },
  {
   "cell_type": "markdown",
   "metadata": {},
   "source": [
    "Hi Boss, here is a summary of the results of the salary study:\n",
    "\n",
    ">- Total majors: {{sampSize}}\n",
    ">- Average Salary: ${{avgSal}}"
   ]
  },
  {
   "cell_type": "markdown",
   "metadata": {},
   "source": [
    "#### To print results in a markdown cell you need to do the following:\n",
    "Install some notebook extensions using the Anaconda shell\n",
    "1. If you have installed Anaconda on your machine then...\n",
    "2. Search for \"Anaconda Powershell prompt\"\n",
    "3. Open up the Anaconda Powershell and type the following commands\n",
    ">- pip install jupyter_contrib_nbextensions\n",
    ">- jupyter contrib nbextension install --user\n",
    ">- jupyter nbextension enable python-markdown/main\n",
    "4. After that all installs on your machine, you will need to reload juptyer"
   ]
  },
  {
   "cell_type": "markdown",
   "metadata": {},
   "source": [
    "## On your own\n",
    ">- Check out the section in the text on the `pyperclip` module\n",
    ">- As of right now, I don't see a use for this in this class but if it comes up later we will cover in class"
   ]
  },
  {
   "cell_type": "markdown",
   "metadata": {},
   "source": [
    "# Homework\n",
    "\n",
    ">- Improve the table function we worked on to be able to have any values for majors or salaries and the printed table will adjust column widths accordingly to print a nice table.\n",
    ">- One way to do this is to remove the leftWidth and rigthWidth in the function parameters and then create a way to count the characters for the keys and values in any dictionary passed to your function.\n",
    ">- After you find a way to count the characters then you need to find the maximum length of all the keys and values so that you can pass that value into the string formatting methods (rjust(), ljust(), etc) "
   ]
  },
  {
   "cell_type": "code",
   "execution_count": null,
   "metadata": {},
   "outputs": [],
   "source": []
  },
  {
   "cell_type": "code",
   "execution_count": null,
   "metadata": {},
   "outputs": [],
   "source": []
  },
  {
   "cell_type": "code",
   "execution_count": null,
   "metadata": {},
   "outputs": [],
   "source": []
  },
  {
   "cell_type": "code",
   "execution_count": null,
   "metadata": {},
   "outputs": [],
   "source": []
  },
  {
   "cell_type": "markdown",
   "metadata": {},
   "source": [
    "<a id='top'></a>[TopPage](#Teaching-Notes)"
   ]
  }
 ],
 "metadata": {
  "kernelspec": {
   "display_name": "Python 3",
   "language": "python",
   "name": "python3"
  },
  "language_info": {
   "codemirror_mode": {
    "name": "ipython",
    "version": 3
   },
   "file_extension": ".py",
   "mimetype": "text/x-python",
   "name": "python",
   "nbconvert_exporter": "python",
   "pygments_lexer": "ipython3",
   "version": "3.7.4"
  },
  "latex_envs": {
   "LaTeX_envs_menu_present": true,
   "autoclose": false,
   "autocomplete": true,
   "bibliofile": "biblio.bib",
   "cite_by": "apalike",
   "current_citInitial": 1,
   "eqLabelWithNumbers": true,
   "eqNumInitial": 1,
   "hotkeys": {
    "equation": "Ctrl-E",
    "itemize": "Ctrl-I"
   },
   "labels_anchors": false,
   "latex_user_defs": false,
   "report_style_numbering": false,
   "user_envs_cfg": false
  }
 },
 "nbformat": 4,
 "nbformat_minor": 4
}
