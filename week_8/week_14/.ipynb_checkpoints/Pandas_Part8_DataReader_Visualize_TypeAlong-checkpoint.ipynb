{
 "cells": [
  {
   "cell_type": "markdown",
   "metadata": {},
   "source": [
    "# `pandas` Part 8: Using `pandas` to Collect and Analyze Web Data\n",
    "### Part(a): Reading, Storing, and Cleaning Financial Web Data\n",
    "### Part(b): Visualizing Data\n",
    "\n",
    "# Learning Objectives\n",
    "\n",
    "## After completing this lesson you will be able to:\n",
    "1. Install a convenient web scraping data collection tool `pandas_datareader`\n",
    "2. Apply pandas to a \"real world\" problem/exercise related to stock analysis\n",
    "3. Scrape/extract data from the web and store in a pandas DataFrame\n",
    "4. Perform descriptive analytics on stock data\n",
    "5. Calculate common stock metrics such returns and moving average\n",
    "6. Visualize data \n",
    " \n",
    "## Modules needed for this lesson \n",
    ">- pandas\n",
    ">- datetime\n",
    ">- pandas_datareader, see notes for installation\n",
    ">- matplotlib\n",
    "\n",
    "\n",
    "## Files Needed and/or Data Sources:\n",
    ">- We will use `pandas_datareader` to extract data from YahooFinance\n",
    "\n",
    "\n",
    "## Initial references for this lesson (more given throughout lesson):\n",
    ">- Lesson Tutorial: https://towardsdatascience.com/in-12-minutes-stocks-analysis-with-pandas-and-scikit-learn-a8d8a7b50ee7\n",
    ">- Pandas Data Reader: https://pandas-datareader.readthedocs.io/en/latest/\n",
    ">- Datetime module: https://docs.python.org/3/library/datetime.html\n",
    ">- Matplotlib: https://matplotlib.org/tutorials/index.html"
   ]
  },
  {
   "cell_type": "markdown",
   "metadata": {},
   "source": [
    "# Pandas Part 8(a): Reading, Storing and Cleaning Financial Data"
   ]
  },
  {
   "cell_type": "markdown",
   "metadata": {},
   "source": [
    "## Install the `pandas-datareader` module\n",
    "### Several ways to install the pandas datareader module\n",
    "1. `pip install pandas-datareader`\n",
    ">- Mac users would do this in new terminal window\n",
    ">- Windows users would do this in PowerShell\n",
    "2. `conda install pandas-datareader`\n",
    ">- Open Anaconda PowerShell prompt and type the above comands\n",
    "3. You can also install within a notebook code cell as shown below\n",
    "\n",
    "#### Note: for all of these options restart jupyter notebooks and/or Anaconda for the changes to take place"
   ]
  },
  {
   "cell_type": "markdown",
   "metadata": {},
   "source": [
    "##### One way to install the pandas-datareader module is from within jupyter"
   ]
  },
  {
   "cell_type": "code",
   "execution_count": null,
   "metadata": {},
   "outputs": [],
   "source": []
  },
  {
   "cell_type": "markdown",
   "metadata": {},
   "source": [
    "## Import Necessary Modules"
   ]
  },
  {
   "cell_type": "markdown",
   "metadata": {},
   "source": [
    "### These are our fundamental modules for working with pandas and reading data from the web"
   ]
  },
  {
   "cell_type": "code",
   "execution_count": 9,
   "metadata": {},
   "outputs": [],
   "source": [
    "import pandas as pd, datetime\n",
    "import pandas_datareader as pdr"
   ]
  },
  {
   "cell_type": "markdown",
   "metadata": {},
   "source": [
    "### The following are needed for the data visualization component of this lesson\n",
    ">- We will be using a popular python data visualization module name, `matplotlib` \n",
    ">- Below is a link for various tutorials on `matplotlib`. A lot of cool stuff here! \n",
    ">>- https://matplotlib.org/tutorials/index.html"
   ]
  },
  {
   "cell_type": "code",
   "execution_count": 8,
   "metadata": {},
   "outputs": [],
   "source": [
    "%matplotlib inline\n",
    "import matplotlib.pyplot as plt\n",
    "from matplotlib import style\n",
    "import matplotlib as mpl"
   ]
  },
  {
   "cell_type": "markdown",
   "metadata": {},
   "source": [
    "## Set up variables to define our start and end dates for stock analysis\n",
    ">- We will look at stock prices over the past 10 years"
   ]
  },
  {
   "cell_type": "code",
   "execution_count": 10,
   "metadata": {},
   "outputs": [],
   "source": [
    "start = datetime.datetime(2009,4,14)\n",
    "end = datetime.datetime(2020, 4, 14)"
   ]
  },
  {
   "cell_type": "markdown",
   "metadata": {},
   "source": [
    "## Create a DataFrame by Reading Data from YahooFinance\n",
    ">- To see other data sources check out the following link:\n",
    "https://github.com/wilsonfreitas/awesome-quant#data-sources\n",
    ">- Initially, we will look at all the data but then we will turn our focus to the `Closing Price`\n",
    ">- The first example pulls stock data for Apple with the ticker symbol of `aapl` but any stock including ETFs and Index funds can but used"
   ]
  },
  {
   "cell_type": "code",
   "execution_count": 14,
   "metadata": {},
   "outputs": [],
   "source": [
    "aapl = round(pdr.DataReader('aapl', 'yahoo', start, end),2)"
   ]
  },
  {
   "cell_type": "code",
   "execution_count": 15,
   "metadata": {},
   "outputs": [
    {
     "data": {
      "text/html": [
       "<div>\n",
       "<style scoped>\n",
       "    .dataframe tbody tr th:only-of-type {\n",
       "        vertical-align: middle;\n",
       "    }\n",
       "\n",
       "    .dataframe tbody tr th {\n",
       "        vertical-align: top;\n",
       "    }\n",
       "\n",
       "    .dataframe thead th {\n",
       "        text-align: right;\n",
       "    }\n",
       "</style>\n",
       "<table border=\"1\" class=\"dataframe\">\n",
       "  <thead>\n",
       "    <tr style=\"text-align: right;\">\n",
       "      <th></th>\n",
       "      <th>High</th>\n",
       "      <th>Low</th>\n",
       "      <th>Open</th>\n",
       "      <th>Close</th>\n",
       "      <th>Volume</th>\n",
       "      <th>Adj Close</th>\n",
       "    </tr>\n",
       "    <tr>\n",
       "      <th>Date</th>\n",
       "      <th></th>\n",
       "      <th></th>\n",
       "      <th></th>\n",
       "      <th></th>\n",
       "      <th></th>\n",
       "      <th></th>\n",
       "    </tr>\n",
       "  </thead>\n",
       "  <tbody>\n",
       "    <tr>\n",
       "      <td>2009-04-14</td>\n",
       "      <td>17.17</td>\n",
       "      <td>16.75</td>\n",
       "      <td>17.08</td>\n",
       "      <td>16.90</td>\n",
       "      <td>113655500.0</td>\n",
       "      <td>14.67</td>\n",
       "    </tr>\n",
       "    <tr>\n",
       "      <td>2009-04-15</td>\n",
       "      <td>16.89</td>\n",
       "      <td>16.54</td>\n",
       "      <td>16.74</td>\n",
       "      <td>16.81</td>\n",
       "      <td>103220600.0</td>\n",
       "      <td>14.59</td>\n",
       "    </tr>\n",
       "    <tr>\n",
       "      <td>2009-04-16</td>\n",
       "      <td>17.59</td>\n",
       "      <td>16.97</td>\n",
       "      <td>17.03</td>\n",
       "      <td>17.35</td>\n",
       "      <td>148361500.0</td>\n",
       "      <td>15.06</td>\n",
       "    </tr>\n",
       "    <tr>\n",
       "      <td>2009-04-17</td>\n",
       "      <td>17.75</td>\n",
       "      <td>17.18</td>\n",
       "      <td>17.31</td>\n",
       "      <td>17.63</td>\n",
       "      <td>124373900.0</td>\n",
       "      <td>15.30</td>\n",
       "    </tr>\n",
       "    <tr>\n",
       "      <td>2009-04-20</td>\n",
       "      <td>17.57</td>\n",
       "      <td>17.02</td>\n",
       "      <td>17.39</td>\n",
       "      <td>17.21</td>\n",
       "      <td>116616500.0</td>\n",
       "      <td>14.94</td>\n",
       "    </tr>\n",
       "  </tbody>\n",
       "</table>\n",
       "</div>"
      ],
      "text/plain": [
       "             High    Low   Open  Close       Volume  Adj Close\n",
       "Date                                                          \n",
       "2009-04-14  17.17  16.75  17.08  16.90  113655500.0      14.67\n",
       "2009-04-15  16.89  16.54  16.74  16.81  103220600.0      14.59\n",
       "2009-04-16  17.59  16.97  17.03  17.35  148361500.0      15.06\n",
       "2009-04-17  17.75  17.18  17.31  17.63  124373900.0      15.30\n",
       "2009-04-20  17.57  17.02  17.39  17.21  116616500.0      14.94"
      ]
     },
     "execution_count": 15,
     "metadata": {},
     "output_type": "execute_result"
    }
   ],
   "source": [
    "aapl.head()"
   ]
  },
  {
   "cell_type": "code",
   "execution_count": 16,
   "metadata": {},
   "outputs": [
    {
     "data": {
      "text/html": [
       "<div>\n",
       "<style scoped>\n",
       "    .dataframe tbody tr th:only-of-type {\n",
       "        vertical-align: middle;\n",
       "    }\n",
       "\n",
       "    .dataframe tbody tr th {\n",
       "        vertical-align: top;\n",
       "    }\n",
       "\n",
       "    .dataframe thead th {\n",
       "        text-align: right;\n",
       "    }\n",
       "</style>\n",
       "<table border=\"1\" class=\"dataframe\">\n",
       "  <thead>\n",
       "    <tr style=\"text-align: right;\">\n",
       "      <th></th>\n",
       "      <th>High</th>\n",
       "      <th>Low</th>\n",
       "      <th>Open</th>\n",
       "      <th>Close</th>\n",
       "      <th>Volume</th>\n",
       "      <th>Adj Close</th>\n",
       "    </tr>\n",
       "    <tr>\n",
       "      <th>Date</th>\n",
       "      <th></th>\n",
       "      <th></th>\n",
       "      <th></th>\n",
       "      <th></th>\n",
       "      <th></th>\n",
       "      <th></th>\n",
       "    </tr>\n",
       "  </thead>\n",
       "  <tbody>\n",
       "    <tr>\n",
       "      <td>2020-04-07</td>\n",
       "      <td>271.70</td>\n",
       "      <td>259.00</td>\n",
       "      <td>270.80</td>\n",
       "      <td>259.43</td>\n",
       "      <td>50721800.0</td>\n",
       "      <td>259.43</td>\n",
       "    </tr>\n",
       "    <tr>\n",
       "      <td>2020-04-08</td>\n",
       "      <td>267.37</td>\n",
       "      <td>261.23</td>\n",
       "      <td>262.74</td>\n",
       "      <td>266.07</td>\n",
       "      <td>42223800.0</td>\n",
       "      <td>266.07</td>\n",
       "    </tr>\n",
       "    <tr>\n",
       "      <td>2020-04-09</td>\n",
       "      <td>270.07</td>\n",
       "      <td>264.70</td>\n",
       "      <td>268.70</td>\n",
       "      <td>267.99</td>\n",
       "      <td>40529100.0</td>\n",
       "      <td>267.99</td>\n",
       "    </tr>\n",
       "    <tr>\n",
       "      <td>2020-04-13</td>\n",
       "      <td>273.70</td>\n",
       "      <td>265.83</td>\n",
       "      <td>268.31</td>\n",
       "      <td>273.25</td>\n",
       "      <td>32663400.0</td>\n",
       "      <td>273.25</td>\n",
       "    </tr>\n",
       "    <tr>\n",
       "      <td>2020-04-14</td>\n",
       "      <td>288.04</td>\n",
       "      <td>278.05</td>\n",
       "      <td>280.00</td>\n",
       "      <td>287.87</td>\n",
       "      <td>41262307.0</td>\n",
       "      <td>287.87</td>\n",
       "    </tr>\n",
       "  </tbody>\n",
       "</table>\n",
       "</div>"
      ],
      "text/plain": [
       "              High     Low    Open   Close      Volume  Adj Close\n",
       "Date                                                             \n",
       "2020-04-07  271.70  259.00  270.80  259.43  50721800.0     259.43\n",
       "2020-04-08  267.37  261.23  262.74  266.07  42223800.0     266.07\n",
       "2020-04-09  270.07  264.70  268.70  267.99  40529100.0     267.99\n",
       "2020-04-13  273.70  265.83  268.31  273.25  32663400.0     273.25\n",
       "2020-04-14  288.04  278.05  280.00  287.87  41262307.0     287.87"
      ]
     },
     "execution_count": 16,
     "metadata": {},
     "output_type": "execute_result"
    }
   ],
   "source": [
    "aapl.tail()"
   ]
  },
  {
   "cell_type": "markdown",
   "metadata": {},
   "source": [
    "## What are the metadata and basic statistics for our DataFrame?\n",
    ">- Note: metadata is data about data (e.g., number of records and fields, data types, primary/foreign keys, etc)\n",
    "\n",
    "### Some Metadata and Descriptive Questions to Answer\n",
    "1. How many days of stock prices do we have in our DataFrame? \n",
    "2. How many fields do we have to work with? \n",
    "3. What kind of data do we have to work with? \n",
    "4. What are the descriptive statistics for all the fields in the DataFrame?\n",
    "5. Then, we will answer some other descriptive analytics questions. "
   ]
  },
  {
   "cell_type": "markdown",
   "metadata": {},
   "source": [
    "##### How many records and fields do we have to work with?\n",
    ">- Note: records in this example represent the number of days of stock data we have"
   ]
  },
  {
   "cell_type": "code",
   "execution_count": 17,
   "metadata": {},
   "outputs": [
    {
     "data": {
      "text/plain": [
       "2770"
      ]
     },
     "execution_count": 17,
     "metadata": {},
     "output_type": "execute_result"
    }
   ],
   "source": [
    "aapl.shape[0]"
   ]
  },
  {
   "cell_type": "markdown",
   "metadata": {},
   "source": [
    "##### What kind of data do we have to work with?"
   ]
  },
  {
   "cell_type": "code",
   "execution_count": 18,
   "metadata": {},
   "outputs": [
    {
     "data": {
      "text/plain": [
       "High         float64\n",
       "Low          float64\n",
       "Open         float64\n",
       "Close        float64\n",
       "Volume       float64\n",
       "Adj Close    float64\n",
       "dtype: object"
      ]
     },
     "execution_count": 18,
     "metadata": {},
     "output_type": "execute_result"
    }
   ],
   "source": [
    "aapl.dtypes"
   ]
  },
  {
   "cell_type": "markdown",
   "metadata": {},
   "source": [
    "##### What are the descriptive statistics on Apple's stock?"
   ]
  },
  {
   "cell_type": "code",
   "execution_count": 20,
   "metadata": {},
   "outputs": [
    {
     "data": {
      "text/html": [
       "<div>\n",
       "<style scoped>\n",
       "    .dataframe tbody tr th:only-of-type {\n",
       "        vertical-align: middle;\n",
       "    }\n",
       "\n",
       "    .dataframe tbody tr th {\n",
       "        vertical-align: top;\n",
       "    }\n",
       "\n",
       "    .dataframe thead th {\n",
       "        text-align: right;\n",
       "    }\n",
       "</style>\n",
       "<table border=\"1\" class=\"dataframe\">\n",
       "  <thead>\n",
       "    <tr style=\"text-align: right;\">\n",
       "      <th></th>\n",
       "      <th>High</th>\n",
       "      <th>Low</th>\n",
       "      <th>Open</th>\n",
       "      <th>Close</th>\n",
       "      <th>Volume</th>\n",
       "      <th>Adj Close</th>\n",
       "    </tr>\n",
       "  </thead>\n",
       "  <tbody>\n",
       "    <tr>\n",
       "      <td>count</td>\n",
       "      <td>2770.00</td>\n",
       "      <td>2770.00</td>\n",
       "      <td>2770.00</td>\n",
       "      <td>2770.00</td>\n",
       "      <td>2.770000e+03</td>\n",
       "      <td>2770.00</td>\n",
       "    </tr>\n",
       "    <tr>\n",
       "      <td>mean</td>\n",
       "      <td>110.22</td>\n",
       "      <td>108.14</td>\n",
       "      <td>109.17</td>\n",
       "      <td>109.22</td>\n",
       "      <td>7.750559e+07</td>\n",
       "      <td>103.08</td>\n",
       "    </tr>\n",
       "    <tr>\n",
       "      <td>std</td>\n",
       "      <td>65.50</td>\n",
       "      <td>64.16</td>\n",
       "      <td>64.75</td>\n",
       "      <td>64.89</td>\n",
       "      <td>5.861936e+07</td>\n",
       "      <td>66.08</td>\n",
       "    </tr>\n",
       "    <tr>\n",
       "      <td>min</td>\n",
       "      <td>16.89</td>\n",
       "      <td>16.54</td>\n",
       "      <td>16.74</td>\n",
       "      <td>16.81</td>\n",
       "      <td>1.136200e+07</td>\n",
       "      <td>14.59</td>\n",
       "    </tr>\n",
       "    <tr>\n",
       "      <td>25%</td>\n",
       "      <td>59.06</td>\n",
       "      <td>57.59</td>\n",
       "      <td>58.42</td>\n",
       "      <td>58.38</td>\n",
       "      <td>3.224628e+07</td>\n",
       "      <td>51.06</td>\n",
       "    </tr>\n",
       "    <tr>\n",
       "      <td>50%</td>\n",
       "      <td>97.70</td>\n",
       "      <td>95.88</td>\n",
       "      <td>96.84</td>\n",
       "      <td>96.83</td>\n",
       "      <td>5.996420e+07</td>\n",
       "      <td>89.78</td>\n",
       "    </tr>\n",
       "    <tr>\n",
       "      <td>75%</td>\n",
       "      <td>153.80</td>\n",
       "      <td>150.02</td>\n",
       "      <td>151.72</td>\n",
       "      <td>152.48</td>\n",
       "      <td>1.070018e+08</td>\n",
       "      <td>146.82</td>\n",
       "    </tr>\n",
       "    <tr>\n",
       "      <td>max</td>\n",
       "      <td>327.85</td>\n",
       "      <td>323.35</td>\n",
       "      <td>324.74</td>\n",
       "      <td>327.20</td>\n",
       "      <td>4.702495e+08</td>\n",
       "      <td>327.20</td>\n",
       "    </tr>\n",
       "  </tbody>\n",
       "</table>\n",
       "</div>"
      ],
      "text/plain": [
       "          High      Low     Open    Close        Volume  Adj Close\n",
       "count  2770.00  2770.00  2770.00  2770.00  2.770000e+03    2770.00\n",
       "mean    110.22   108.14   109.17   109.22  7.750559e+07     103.08\n",
       "std      65.50    64.16    64.75    64.89  5.861936e+07      66.08\n",
       "min      16.89    16.54    16.74    16.81  1.136200e+07      14.59\n",
       "25%      59.06    57.59    58.42    58.38  3.224628e+07      51.06\n",
       "50%      97.70    95.88    96.84    96.83  5.996420e+07      89.78\n",
       "75%     153.80   150.02   151.72   152.48  1.070018e+08     146.82\n",
       "max     327.85   323.35   324.74   327.20  4.702495e+08     327.20"
      ]
     },
     "execution_count": 20,
     "metadata": {},
     "output_type": "execute_result"
    }
   ],
   "source": [
    "round(aapl.describe(),2)"
   ]
  },
  {
   "cell_type": "markdown",
   "metadata": {},
   "source": [
    "## Prepare Data: Define New Variables and Create Common Financial Variables"
   ]
  },
  {
   "cell_type": "markdown",
   "metadata": {},
   "source": [
    "### Question: How has Apple's adjusted closing price performed over the last 10 years? \n",
    ">- We have already calculated descriptive statistics for all fields but let's do it just for 'Adj Close'"
   ]
  },
  {
   "cell_type": "markdown",
   "metadata": {},
   "source": [
    "#### Define a variable for adjusted close and run some descriptive stats on it"
   ]
  },
  {
   "cell_type": "code",
   "execution_count": 21,
   "metadata": {},
   "outputs": [],
   "source": [
    "aclose = aapl['Adj Close']"
   ]
  },
  {
   "cell_type": "code",
   "execution_count": 22,
   "metadata": {},
   "outputs": [
    {
     "data": {
      "text/plain": [
       "Date\n",
       "2020-04-07    259.43\n",
       "2020-04-08    266.07\n",
       "2020-04-09    267.99\n",
       "2020-04-13    273.25\n",
       "2020-04-14    287.87\n",
       "Name: Adj Close, dtype: float64"
      ]
     },
     "execution_count": 22,
     "metadata": {},
     "output_type": "execute_result"
    }
   ],
   "source": [
    "aclose.tail()"
   ]
  },
  {
   "cell_type": "code",
   "execution_count": 23,
   "metadata": {},
   "outputs": [
    {
     "data": {
      "text/plain": [
       "count    2770.000000\n",
       "mean      103.078549\n",
       "std        66.083574\n",
       "min        14.590000\n",
       "25%        51.057500\n",
       "50%        89.785000\n",
       "75%       146.815000\n",
       "max       327.200000\n",
       "Name: Adj Close, dtype: float64"
      ]
     },
     "execution_count": 23,
     "metadata": {},
     "output_type": "execute_result"
    }
   ],
   "source": [
    "aclose.describe()"
   ]
  },
  {
   "cell_type": "code",
   "execution_count": 24,
   "metadata": {},
   "outputs": [
    {
     "data": {
      "text/plain": [
       "Date\n",
       "2009-04-14    14.67\n",
       "2009-04-15    14.59\n",
       "2009-04-16    15.06\n",
       "2009-04-17    15.30\n",
       "2009-04-20    14.94\n",
       "Name: Adj Close, dtype: float64"
      ]
     },
     "execution_count": 24,
     "metadata": {},
     "output_type": "execute_result"
    }
   ],
   "source": [
    "aclose.head()"
   ]
  },
  {
   "cell_type": "markdown",
   "metadata": {},
   "source": [
    "## Create Variables for Common Financial Metrics"
   ]
  },
  {
   "cell_type": "markdown",
   "metadata": {},
   "source": [
    "### An Important Financial Metric:  Returns\n",
    "\n",
    "Returns: $R_t = (P_t/P_{t-1}) - 1$\n",
    "\n",
    ">- Where, \n",
    ">>- $R_t$ = return at time, t\n",
    ">>- $P_t$ = the price at time, t\n",
    ">>- $P_{t-1}$ is the price at time, t- 1 (the day before in our example)\n"
   ]
  },
  {
   "cell_type": "markdown",
   "metadata": {},
   "source": [
    "#### To calculate daily returns..."
   ]
  },
  {
   "cell_type": "code",
   "execution_count": 28,
   "metadata": {},
   "outputs": [
    {
     "data": {
      "text/plain": [
       "Date\n",
       "2020-04-07   -0.011582\n",
       "2020-04-08    0.025595\n",
       "2020-04-09    0.007216\n",
       "2020-04-13    0.019628\n",
       "2020-04-14    0.053504\n",
       "Name: Adj Close, dtype: float64"
      ]
     },
     "execution_count": 28,
     "metadata": {},
     "output_type": "execute_result"
    }
   ],
   "source": [
    "dayret = (aclose/aclose.shift(1)) - 1\n",
    "\n",
    "dayret.tail()\n"
   ]
  },
  {
   "cell_type": "markdown",
   "metadata": {},
   "source": [
    "#### Note: The `shift()` function essentially takes all the data in the original column and moves/shifts it by the number passed to it\n",
    ">- In our example, we used `shift(1)` which takes aclose and shifts all the values 1 day\n",
    "\n",
    "#### To see how `shift()` is working, we can create a DataFrame to store the current day price and a lag (prior day) price"
   ]
  },
  {
   "cell_type": "code",
   "execution_count": 32,
   "metadata": {
    "scrolled": false
   },
   "outputs": [
    {
     "data": {
      "text/html": [
       "<div>\n",
       "<style scoped>\n",
       "    .dataframe tbody tr th:only-of-type {\n",
       "        vertical-align: middle;\n",
       "    }\n",
       "\n",
       "    .dataframe tbody tr th {\n",
       "        vertical-align: top;\n",
       "    }\n",
       "\n",
       "    .dataframe thead th {\n",
       "        text-align: right;\n",
       "    }\n",
       "</style>\n",
       "<table border=\"1\" class=\"dataframe\">\n",
       "  <thead>\n",
       "    <tr style=\"text-align: right;\">\n",
       "      <th></th>\n",
       "      <th>DayPrice</th>\n",
       "      <th>PriorDayPrice</th>\n",
       "      <th>DayRet</th>\n",
       "    </tr>\n",
       "    <tr>\n",
       "      <th>Date</th>\n",
       "      <th></th>\n",
       "      <th></th>\n",
       "      <th></th>\n",
       "    </tr>\n",
       "  </thead>\n",
       "  <tbody>\n",
       "    <tr>\n",
       "      <td>2009-04-14</td>\n",
       "      <td>14.67</td>\n",
       "      <td>NaN</td>\n",
       "      <td>NaN</td>\n",
       "    </tr>\n",
       "    <tr>\n",
       "      <td>2009-04-15</td>\n",
       "      <td>14.59</td>\n",
       "      <td>14.67</td>\n",
       "      <td>-0.005</td>\n",
       "    </tr>\n",
       "    <tr>\n",
       "      <td>2009-04-16</td>\n",
       "      <td>15.06</td>\n",
       "      <td>14.59</td>\n",
       "      <td>0.032</td>\n",
       "    </tr>\n",
       "    <tr>\n",
       "      <td>2009-04-17</td>\n",
       "      <td>15.30</td>\n",
       "      <td>15.06</td>\n",
       "      <td>0.016</td>\n",
       "    </tr>\n",
       "    <tr>\n",
       "      <td>2009-04-20</td>\n",
       "      <td>14.94</td>\n",
       "      <td>15.30</td>\n",
       "      <td>-0.024</td>\n",
       "    </tr>\n",
       "    <tr>\n",
       "      <td>...</td>\n",
       "      <td>...</td>\n",
       "      <td>...</td>\n",
       "      <td>...</td>\n",
       "    </tr>\n",
       "    <tr>\n",
       "      <td>2020-04-07</td>\n",
       "      <td>259.43</td>\n",
       "      <td>262.47</td>\n",
       "      <td>-0.012</td>\n",
       "    </tr>\n",
       "    <tr>\n",
       "      <td>2020-04-08</td>\n",
       "      <td>266.07</td>\n",
       "      <td>259.43</td>\n",
       "      <td>0.026</td>\n",
       "    </tr>\n",
       "    <tr>\n",
       "      <td>2020-04-09</td>\n",
       "      <td>267.99</td>\n",
       "      <td>266.07</td>\n",
       "      <td>0.007</td>\n",
       "    </tr>\n",
       "    <tr>\n",
       "      <td>2020-04-13</td>\n",
       "      <td>273.25</td>\n",
       "      <td>267.99</td>\n",
       "      <td>0.020</td>\n",
       "    </tr>\n",
       "    <tr>\n",
       "      <td>2020-04-14</td>\n",
       "      <td>287.87</td>\n",
       "      <td>273.25</td>\n",
       "      <td>0.054</td>\n",
       "    </tr>\n",
       "  </tbody>\n",
       "</table>\n",
       "<p>2770 rows × 3 columns</p>\n",
       "</div>"
      ],
      "text/plain": [
       "            DayPrice  PriorDayPrice  DayRet\n",
       "Date                                       \n",
       "2009-04-14     14.67            NaN     NaN\n",
       "2009-04-15     14.59          14.67  -0.005\n",
       "2009-04-16     15.06          14.59   0.032\n",
       "2009-04-17     15.30          15.06   0.016\n",
       "2009-04-20     14.94          15.30  -0.024\n",
       "...              ...            ...     ...\n",
       "2020-04-07    259.43         262.47  -0.012\n",
       "2020-04-08    266.07         259.43   0.026\n",
       "2020-04-09    267.99         266.07   0.007\n",
       "2020-04-13    273.25         267.99   0.020\n",
       "2020-04-14    287.87         273.25   0.054\n",
       "\n",
       "[2770 rows x 3 columns]"
      ]
     },
     "execution_count": 32,
     "metadata": {},
     "output_type": "execute_result"
    }
   ],
   "source": [
    "aclose_shift1 = pd.DataFrame({'DayPrice': aclose,\n",
    "                             'PriorDayPrice': aclose.shift(1),\n",
    "                             'DayRet': round(dayret,3),\n",
    "                             },\n",
    "                             index = aclose.index)\n",
    "\n",
    "aclose_shift1"
   ]
  },
  {
   "cell_type": "markdown",
   "metadata": {},
   "source": [
    "#### Note: To get annualized returns you could use `shift(252)` or `shift(253)`\n",
    ">- Most years have 252 or 253 trading days: https://en.wikipedia.org/wiki/Trading_day "
   ]
  },
  {
   "cell_type": "markdown",
   "metadata": {},
   "source": [
    "### Moving average (aka rolling average)\n",
    "\n",
    ">- A moving average is a constantly updated average based on the 'n' past observations where 'n' is user specified. For example if we want the moving average for the past 10 days we would set n=10\n",
    ">- Stock analysts will use moving averages for the past 50, 100, 200, etc\n",
    ">>- We will look at moving averages for 50 and 100 days in this lesson\n",
    ">>- We can use `field.rolling(window='n').mean()` syntax to define moving averages for the past 'n' observations\n",
    ">>- Where:\n",
    ">>>- `field` is a numeric value you want to calculate a rolling mean for\n",
    ">>>- `n` is the number of periods you want to use to calculate the rolling mean"
   ]
  },
  {
   "cell_type": "markdown",
   "metadata": {},
   "source": [
    "#### Define closing price moving averages for `50` and `100` days"
   ]
  },
  {
   "cell_type": "code",
   "execution_count": 33,
   "metadata": {},
   "outputs": [],
   "source": [
    "sma50 = aclose.rolling(window=50).mean()\n",
    "sma100 = aclose.rolling(window=100).mean()"
   ]
  },
  {
   "cell_type": "code",
   "execution_count": 35,
   "metadata": {},
   "outputs": [
    {
     "data": {
      "text/plain": [
       "Date\n",
       "2020-03-31    290.6862\n",
       "2020-04-01    289.1880\n",
       "2020-04-02    287.7476\n",
       "2020-04-03    286.2064\n",
       "2020-04-06    285.1046\n",
       "2020-04-07    284.1288\n",
       "2020-04-08    283.1114\n",
       "2020-04-09    281.9998\n",
       "2020-04-13    281.0028\n",
       "2020-04-14    280.5846\n",
       "Name: Adj Close, dtype: float64"
      ]
     },
     "execution_count": 35,
     "metadata": {},
     "output_type": "execute_result"
    }
   ],
   "source": [
    "sma50.tail(10)"
   ]
  },
  {
   "cell_type": "markdown",
   "metadata": {},
   "source": [
    "### Now, let's answer some descriptive analytics questions"
   ]
  },
  {
   "cell_type": "markdown",
   "metadata": {},
   "source": [
    "##### What was the adjusted closing price one year ago (April 12th, 2019)?"
   ]
  },
  {
   "cell_type": "code",
   "execution_count": 36,
   "metadata": {},
   "outputs": [
    {
     "data": {
      "text/plain": [
       "196.3"
      ]
     },
     "execution_count": 36,
     "metadata": {},
     "output_type": "execute_result"
    }
   ],
   "source": [
    "aclose['4-12-2019']"
   ]
  },
  {
   "cell_type": "code",
   "execution_count": 41,
   "metadata": {},
   "outputs": [
    {
     "data": {
      "text/plain": [
       "196.3"
      ]
     },
     "execution_count": 41,
     "metadata": {},
     "output_type": "execute_result"
    }
   ],
   "source": [
    "# another way to do the same thing\n",
    "\n",
    "aclose.loc['4-12-2019'] #same as aclose.loc[aclose.index=='4-12-2019']"
   ]
  },
  {
   "cell_type": "markdown",
   "metadata": {},
   "source": [
    "##### On what date did the maximum adjusted price occur? "
   ]
  },
  {
   "cell_type": "code",
   "execution_count": 50,
   "metadata": {},
   "outputs": [
    {
     "data": {
      "text/plain": [
       "Date\n",
       "2020-02-12    327.2\n",
       "Name: Adj Close, dtype: float64"
      ]
     },
     "execution_count": 50,
     "metadata": {},
     "output_type": "execute_result"
    }
   ],
   "source": [
    "aclose.loc[aclose == max(aclose)]\n",
    "#aclose.max() does not return date \n"
   ]
  },
  {
   "cell_type": "markdown",
   "metadata": {},
   "source": [
    "##### On what date did the minimum price occur? "
   ]
  },
  {
   "cell_type": "code",
   "execution_count": 51,
   "metadata": {},
   "outputs": [
    {
     "data": {
      "text/plain": [
       "Date\n",
       "2009-04-15    14.59\n",
       "Name: Adj Close, dtype: float64"
      ]
     },
     "execution_count": 51,
     "metadata": {},
     "output_type": "execute_result"
    }
   ],
   "source": [
    "aclose.loc[aclose == min(aclose)]"
   ]
  },
  {
   "cell_type": "markdown",
   "metadata": {},
   "source": [
    "##### How many days was the closing price above a $50?\n",
    ">- Several ways to get this answer"
   ]
  },
  {
   "cell_type": "code",
   "execution_count": 52,
   "metadata": {},
   "outputs": [
    {
     "data": {
      "text/plain": [
       "2098"
      ]
     },
     "execution_count": 52,
     "metadata": {},
     "output_type": "execute_result"
    }
   ],
   "source": [
    "#using where\n",
    "aclose.where(aclose>50).dropna().count()"
   ]
  },
  {
   "cell_type": "code",
   "execution_count": 54,
   "metadata": {},
   "outputs": [
    {
     "data": {
      "text/plain": [
       "2098"
      ]
     },
     "execution_count": 54,
     "metadata": {},
     "output_type": "execute_result"
    }
   ],
   "source": [
    "# Using loc[]\n",
    "\n",
    "aclose.loc[aclose>50].count() #dont need to drop na\n"
   ]
  },
  {
   "cell_type": "markdown",
   "metadata": {},
   "source": [
    "##### What were the daily adjusted closing prices in the month of October (usually around the time Apple releases a new iPhone)? "
   ]
  },
  {
   "cell_type": "code",
   "execution_count": 55,
   "metadata": {},
   "outputs": [
    {
     "data": {
      "text/plain": [
       "Date\n",
       "2019-10-01    223.39\n",
       "2019-10-02    217.79\n",
       "2019-10-03    219.64\n",
       "2019-10-04    225.79\n",
       "2019-10-07    225.84\n",
       "2019-10-08    223.20\n",
       "2019-10-09    225.81\n",
       "2019-10-10    228.86\n",
       "2019-10-11    234.95\n",
       "2019-10-14    234.61\n",
       "2019-10-15    234.06\n",
       "2019-10-16    233.12\n",
       "2019-10-17    234.02\n",
       "2019-10-18    235.14\n",
       "2019-10-21    239.22\n",
       "2019-10-22    238.68\n",
       "2019-10-23    241.88\n",
       "2019-10-24    242.28\n",
       "2019-10-25    245.26\n",
       "2019-10-28    247.72\n",
       "2019-10-29    241.99\n",
       "2019-10-30    241.96\n",
       "2019-10-31    247.43\n",
       "Name: Adj Close, dtype: float64"
      ]
     },
     "execution_count": 55,
     "metadata": {},
     "output_type": "execute_result"
    }
   ],
   "source": [
    "aclose['10-1-19':'10-31-19']"
   ]
  },
  {
   "cell_type": "markdown",
   "metadata": {},
   "source": [
    "## Pandas Part(b): Visualize\n",
    ">- Visualizing data is a fundamental part of any analytics project\n",
    ">- Data visualization can provide support for both descriptive and predictive analytics\n",
    ">- Graphs can \"speak a thousand words\" and can be effectively used on Executive Summaries to convey powerful information to decision makers"
   ]
  },
  {
   "cell_type": "markdown",
   "metadata": {},
   "source": [
    "### Plot a time series chart of the `adjusted close` price over the last 10 years\n",
    ">- We will be using the `plot()` function from `matplotlib`. More info can be found at the below link:\n",
    ">>- https://matplotlib.org/3.1.1/api/_as_gen/matplotlib.pyplot.plot.html\n",
    ">- We will also use a popular graphical styling module called `ggplot` = \"grammer of graphics\"\n",
    ">>- ggplot reference:  https://github.com/yhat/ggpy"
   ]
  },
  {
   "cell_type": "code",
   "execution_count": 58,
   "metadata": {},
   "outputs": [
    {
     "data": {
      "text/plain": [
       "<matplotlib.legend.Legend at 0x259069e9308>"
      ]
     },
     "execution_count": 58,
     "metadata": {},
     "output_type": "execute_result"
    },
    {
     "data": {
      "image/png": "[encoded data removed]",
      "text/plain": [
       "<Figure size 576x504 with 1 Axes>"
      ]
     },
     "metadata": {},
     "output_type": "display_data"
    }
   ],
   "source": [
    "style.use('ggplot')\n",
    "\n",
    "# Set the figure size \n",
    "mpl.rc('figure', figsize =(8,7))\n",
    "\n",
    "# Use plot() to produce a line plot\n",
    "aclose.plot(label = '$AAPL')\n",
    "\n",
    "# Show the legend of the chart \n",
    "plt.legend()"
   ]
  },
  {
   "cell_type": "markdown",
   "metadata": {},
   "source": [
    "#### Let's adjust some features of our graph\n",
    ">- With `figsize(width,height)` we can adjust the width and height of our chart\n",
    ">- With `plt.style.use(['dark_background`]) we can make the background black instead of the default white.\n",
    ">- The link below provides more documentation on the different ways you can customize your charts:\n",
    ">>- https://matplotlib.org/3.1.1/tutorials/introductory/customizing.html"
   ]
  },
  {
   "cell_type": "code",
   "execution_count": 67,
   "metadata": {},
   "outputs": [
    {
     "data": {
      "text/plain": [
       "<matplotlib.legend.Legend at 0x25906ed5c08>"
      ]
     },
     "execution_count": 67,
     "metadata": {},
     "output_type": "execute_result"
    },
    {
     "data": {
      "image/png": "[encoded data removed]",
      "text/plain": [
       "<Figure size 1080x360 with 1 Axes>"
      ]
     },
     "metadata": {},
     "output_type": "display_data"
    }
   ],
   "source": [
    "style.use('ggplot')\n",
    "\n",
    "plt.style.use(['dark_background'])\n",
    "\n",
    "mpl.rc('figure', figsize=(15,5))\n",
    "\n",
    "mpl.rc('lines', linewidth=1.5)\n",
    "\n",
    "aclose.plot(label = '$AAPL', color = 'g')\n",
    "\n",
    "plt.legend()\n"
   ]
  },
  {
   "cell_type": "markdown",
   "metadata": {},
   "source": [
    "### Now, plot the moving averages with the close price\n",
    ">- Stock analysts look at charts like this to help them decide when to buy and sell"
   ]
  },
  {
   "cell_type": "code",
   "execution_count": 71,
   "metadata": {
    "scrolled": true
   },
   "outputs": [
    {
     "data": {
      "text/plain": [
       "<matplotlib.legend.Legend at 0x25907325388>"
      ]
     },
     "execution_count": 71,
     "metadata": {},
     "output_type": "execute_result"
    },
    {
     "data": {
      "image/png": "[encoded data removed]",
      "text/plain": [
       "<Figure size 1080x432 with 1 Axes>"
      ]
     },
     "metadata": {},
     "output_type": "display_data"
    }
   ],
   "source": [
    "style.use('ggplot')\n",
    "\n",
    "plt.style.use(['dark_background'])\n",
    "\n",
    "mpl.rc('figure', figsize=(15,6))\n",
    "\n",
    "mpl.rc('lines', linewidth=1.8)\n",
    "\n",
    "aclose.plot(label = '$AAPL', color = 'g')\n",
    "sma50.plot(label= 'SMA 50 Day', color = 'y')\n",
    "sma100.plot(label= 'SMA 100 Day', color = 'r')\n",
    "\n",
    "plt.legend()"
   ]
  },
  {
   "cell_type": "markdown",
   "metadata": {},
   "source": [
    "## Plotting Returns with the default `plot()` which is a line plot"
   ]
  },
  {
   "cell_type": "code",
   "execution_count": 77,
   "metadata": {},
   "outputs": [
    {
     "data": {
      "text/plain": [
       "<matplotlib.axes._subplots.AxesSubplot at 0x25907a26608>"
      ]
     },
     "execution_count": 77,
     "metadata": {},
     "output_type": "execute_result"
    },
    {
     "data": {
      "image/png": "[encoded data removed]",
      "text/plain": [
       "<Figure size 720x360 with 1 Axes>"
      ]
     },
     "metadata": {},
     "output_type": "display_data"
    }
   ],
   "source": [
    "style.use('ggplot')\n",
    "\n",
    "plt.style.use(['dark_background'])\n",
    "\n",
    "mpl.rc('figure', figsize =(10, 5))\n",
    "\n",
    "mpl.rc('lines', linewidth= 1)\n",
    "\n",
    "dayret.plot(label= 'Daily Returns', color = 'brown')"
   ]
  },
  {
   "cell_type": "markdown",
   "metadata": {},
   "source": [
    "## Plotting a boxplot for a summary chart on returns\n",
    "### Boxplots show us:\n",
    ">- Mean, Median, 1st and 3rd quartiles, minimum and maximum values\n",
    ">>- Reference: https://matplotlib.org/api/_as_gen/matplotlib.pyplot.boxplot.html#matplotlib.pyplot.boxplot"
   ]
  },
  {
   "cell_type": "code",
   "execution_count": 86,
   "metadata": {},
   "outputs": [
    {
     "data": {
      "text/plain": [
       "<matplotlib.axes._subplots.AxesSubplot at 0x2590c3d4088>"
      ]
     },
     "execution_count": 86,
     "metadata": {},
     "output_type": "execute_result"
    },
    {
     "data": {
      "image/png": "[encoded data removed]",
      "text/plain": [
       "<Figure size 1080x360 with 1 Axes>"
      ]
     },
     "metadata": {},
     "output_type": "display_data"
    }
   ],
   "source": [
    "style.use('ggplot')\n",
    "\n",
    "mpl.rc('figure', figsize = (15,5))\n",
    "\n",
    "mpl.rc('lines', linewidth=1.75)\n",
    "\n",
    "dayret.plot(kind='box', showmeans=True, vert=False, label='Returns')"
   ]
  }
 ],
 "metadata": {
  "kernelspec": {
   "display_name": "Python 3",
   "language": "python",
   "name": "python3"
  },
  "language_info": {
   "codemirror_mode": {
    "name": "ipython",
    "version": 3
   },
   "file_extension": ".py",
   "mimetype": "text/x-python",
   "name": "python",
   "nbconvert_exporter": "python",
   "pygments_lexer": "ipython3",
   "version": "3.7.4"
  },
  "latex_envs": {
   "LaTeX_envs_menu_present": true,
   "autoclose": false,
   "autocomplete": true,
   "bibliofile": "biblio.bib",
   "cite_by": "apalike",
   "current_citInitial": 1,
   "eqLabelWithNumbers": true,
   "eqNumInitial": 1,
   "hotkeys": {
    "equation": "Ctrl-E",
    "itemize": "Ctrl-I"
   },
   "labels_anchors": false,
   "latex_user_defs": false,
   "report_style_numbering": false,
   "user_envs_cfg": false
  }
 },
 "nbformat": 4,
 "nbformat_minor": 2
}
