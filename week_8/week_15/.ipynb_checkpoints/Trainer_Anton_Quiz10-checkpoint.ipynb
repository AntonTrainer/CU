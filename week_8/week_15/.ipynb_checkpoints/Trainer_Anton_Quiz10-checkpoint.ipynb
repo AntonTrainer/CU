{
 "cells": [
  {
   "cell_type": "markdown",
   "metadata": {},
   "source": [
    "# BAIM 3220: `pandas` quiz 10\n",
    "## Learning Objectives\n",
    "1. Analyze data using python\n",
    "2. Filter and group data\n",
    "3. Create a function for quick metadata output\n",
    "4. Join DataFrames\n",
    "5. Create calculated columns"
   ]
  },
  {
   "cell_type": "markdown",
   "metadata": {},
   "source": [
    "# Quiz Directions\n",
    ">- Use this notebook to write python code to answer questions given in the Canvas `Quiz 10: BLS2`\n",
    ">- Enter your answers to the questions in Canvas based on your python code\n",
    "\n",
    "## `Note: You don't have to use all of the code cells shown in the notebook and you can create more if you need to. The main thing is you show how you got your answers using Python.` \n",
    "\n",
    "## General Grading Guidelines\n",
    ">- 1/3 points for a reasonable attempt (you can't just put anything down and receive credit), 1/3 points for correct answer, 1/3 points for showing work in python\n",
    ">>- In other words, you can only earn 2/3 worth of points if your answer is correct in Canvas but you do not show python code"
   ]
  },
  {
   "cell_type": "markdown",
   "metadata": {},
   "source": [
    "# Question 0\n",
    "## Intial DataFame Steps\n",
    ">- 10 Points total for reading in and showing the DataFrame's metadata using a custom function"
   ]
  },
  {
   "cell_type": "markdown",
   "metadata": {},
   "source": [
    "## Read the Clean BLS Data into a DataFrames"
   ]
  },
  {
   "cell_type": "code",
   "execution_count": 142,
   "metadata": {},
   "outputs": [],
   "source": [
    "import pandas as pd"
   ]
  },
  {
   "cell_type": "code",
   "execution_count": 143,
   "metadata": {},
   "outputs": [],
   "source": [
    "bls4 = pd.read_excel('../data/bls4yr.xlsx') #no index for now, might add the multiindex later with , index_col=[0,1,2]"
   ]
  },
  {
   "cell_type": "markdown",
   "metadata": {},
   "source": [
    "### In the next code cell, create a function called, `dfinfo()` that will show the shape, datatypes, and first 5 rows of the DataFrame when you call it and pass a DataFrame to it\n",
    ">- This is something that could save you time when working at a job with a lot of datasets\n",
    "#### Function Specifications\n",
    "1. Name the function dfinfo()\n",
    "2. The function should accept only one parameter, a dataframe object\n",
    "3. Include a line space in between the shape, datatypes, and header rows\n",
    "4. Include printed text to show what each piece of information is showing\n",
    ">- For example, include some text that something like \"The number of rows and records are: \" then show the shape of the DataFrame "
   ]
  },
  {
   "cell_type": "code",
   "execution_count": 144,
   "metadata": {},
   "outputs": [],
   "source": [
    "def dfinfo(df):\n",
    "    print(f'The DataFrame you passed has {df.shape[0]} rows and {df.shape[1]} columns') #show the shape\n",
    "    \n",
    "    print(f'\\nThe data types in the DataFrame are: \\n{df.dtypes}') #show the data types\n",
    "    \n",
    "    print(f'\\nThe first 5 rows of the DataFrame are: \\n{df.head(5)}') #show the first 5 rows"
   ]
  },
  {
   "cell_type": "markdown",
   "metadata": {},
   "source": [
    "#### Call your function in the next cell and pass the bls4 DataFrame to it to check out your DataFrame metadata"
   ]
  },
  {
   "cell_type": "code",
   "execution_count": 145,
   "metadata": {
    "scrolled": false
   },
   "outputs": [
    {
     "name": "stdout",
     "output_type": "stream",
     "text": [
      "The DataFrame you passed has 3284 rows and 21 columns\n",
      "\n",
      "The data types in the DataFrame are: \n",
      "year           int64\n",
      "occ_code      object\n",
      "occ_title     object\n",
      "group         object\n",
      "tot_emp        int64\n",
      "emp_prse     float64\n",
      "h_mean       float64\n",
      "a_mean       float64\n",
      "mean_prse    float64\n",
      "h_pct10      float64\n",
      "h_pct25      float64\n",
      "h_median     float64\n",
      "h_pct75      float64\n",
      "h_pct90      float64\n",
      "a_pct10      float64\n",
      "a_pct25      float64\n",
      "a_median     float64\n",
      "a_pct75      float64\n",
      "a_pct90      float64\n",
      "annual       float64\n",
      "hourly       float64\n",
      "dtype: object\n",
      "\n",
      "The first 5 rows of the DataFrame are: \n",
      "   year occ_code                        occ_title   group    tot_emp  \\\n",
      "0  2008  00-0000                  All Occupations   total  135185230   \n",
      "1  2008  11-0000           Management Occupations   major    6152650   \n",
      "2  2008  11-1011                 Chief Executives  detail     301930   \n",
      "3  2008  11-1021  General And Operations Managers  detail    1697690   \n",
      "4  2008  11-1031                      Legislators  detail      64650   \n",
      "\n",
      "   emp_prse  h_mean    a_mean  mean_prse  h_pct10  ...  h_median  h_pct75  \\\n",
      "0       0.1   20.32   42270.0        0.1     8.02  ...     15.57    24.78   \n",
      "1       0.2   48.23  100310.0        0.2    20.40  ...     42.15    60.74   \n",
      "2       0.7   77.13  160440.0        0.5    33.02  ...     76.23      NaN   \n",
      "3       0.3   51.91  107970.0        0.2    21.83  ...     44.02    65.87   \n",
      "4       1.2     NaN   37980.0        1.1      NaN  ...       NaN      NaN   \n",
      "\n",
      "   h_pct90  a_pct10   a_pct25  a_median   a_pct75  a_pct90  annual  hourly  \n",
      "0    37.99  16680.0   21590.0   32390.0   51540.0  79020.0     NaN     NaN  \n",
      "1      NaN  42440.0   60500.0   87670.0  126330.0      NaN     NaN     NaN  \n",
      "2      NaN  68680.0  102080.0  158560.0       NaN      NaN     NaN     NaN  \n",
      "3      NaN  45410.0   62900.0   91570.0  137020.0      NaN     NaN     NaN  \n",
      "4      NaN  14080.0   15350.0   16920.0   51120.0  81170.0     1.0     NaN  \n",
      "\n",
      "[5 rows x 21 columns]\n"
     ]
    }
   ],
   "source": [
    "dfinfo(bls4)"
   ]
  },
  {
   "cell_type": "markdown",
   "metadata": {},
   "source": [
    "# Show your work to answer Canvas questions\n",
    ">- Use the next cells to answer questions on the Canvas quiz\n",
    ">- The general questions are replicated in the notebook for convenience but note that Canvas will randomly choose specific (but different) parameters for each student\n",
    ">>- For example, in this notebook you will see things like `(Canvas generated occupation)` in the question text but on Canvas you will see the actual occupation to analyze. "
   ]
  },
  {
   "cell_type": "markdown",
   "metadata": {},
   "source": [
    "# Question 1\n",
    "### There were several changes made to the detailed occupation categories starting in 2010. In 2009, the OCC code for `(Canvas generated occupation)` was `xx-xxxx`.  `Special Education Teachers, Middle School` code `25-2042`\n",
    "\n",
    "### What did the code change to in 2010? "
   ]
  },
  {
   "cell_type": "code",
   "execution_count": 146,
   "metadata": {
    "scrolled": true
   },
   "outputs": [
    {
     "data": {
      "text/html": [
       "<div>\n",
       "<style scoped>\n",
       "    .dataframe tbody tr th:only-of-type {\n",
       "        vertical-align: middle;\n",
       "    }\n",
       "\n",
       "    .dataframe tbody tr th {\n",
       "        vertical-align: top;\n",
       "    }\n",
       "\n",
       "    .dataframe thead th {\n",
       "        text-align: right;\n",
       "    }\n",
       "</style>\n",
       "<table border=\"1\" class=\"dataframe\">\n",
       "  <thead>\n",
       "    <tr style=\"text-align: right;\">\n",
       "      <th></th>\n",
       "      <th>year</th>\n",
       "      <th>occ_code</th>\n",
       "    </tr>\n",
       "  </thead>\n",
       "  <tbody>\n",
       "    <tr>\n",
       "      <td>240</td>\n",
       "      <td>2008</td>\n",
       "      <td>25-2042</td>\n",
       "    </tr>\n",
       "    <tr>\n",
       "      <td>1063</td>\n",
       "      <td>2009</td>\n",
       "      <td>25-2042</td>\n",
       "    </tr>\n",
       "    <tr>\n",
       "      <td>1884</td>\n",
       "      <td>2010</td>\n",
       "      <td>25-2053</td>\n",
       "    </tr>\n",
       "    <tr>\n",
       "      <td>2703</td>\n",
       "      <td>2011</td>\n",
       "      <td>25-2053</td>\n",
       "    </tr>\n",
       "  </tbody>\n",
       "</table>\n",
       "</div>"
      ],
      "text/plain": [
       "      year occ_code\n",
       "240   2008  25-2042\n",
       "1063  2009  25-2042\n",
       "1884  2010  25-2053\n",
       "2703  2011  25-2053"
      ]
     },
     "execution_count": 146,
     "metadata": {},
     "output_type": "execute_result"
    }
   ],
   "source": [
    "bls4.loc[bls4['occ_title'] == 'Special Education Teachers, Middle School'][['year','occ_code']]"
   ]
  },
  {
   "cell_type": "markdown",
   "metadata": {},
   "source": [
    "# Question 3\n",
    "###  Which year saw the lowest total number employed in `(Canvas generated)` occupations? ` Installation, Maintenance, And Repair Occupations`"
   ]
  },
  {
   "cell_type": "code",
   "execution_count": 147,
   "metadata": {
    "scrolled": true
   },
   "outputs": [
    {
     "data": {
      "text/plain": [
       "year          2010\n",
       "tot_emp    4928960\n",
       "Name: 2252, dtype: int64"
      ]
     },
     "execution_count": 147,
     "metadata": {},
     "output_type": "execute_result"
    }
   ],
   "source": [
    "major_titles = bls4['group'] == 'major'\n",
    "major_titles_all = bls4[major_titles]\n",
    "\n",
    "inst_maint = major_titles_all.loc[major_titles_all['occ_title'] == 'Installation, Maintenance, And Repair Occupations']\\\n",
    "    [['year','tot_emp']]\n",
    "\n",
    "inst_maint.loc[inst_maint['tot_emp'].idxmin()]\n"
   ]
  },
  {
   "cell_type": "markdown",
   "metadata": {},
   "source": [
    "## Question 4\n",
    "### In the category `(Canvas generated occupation)` , how many were employed at the lowest point for the years 2008 to 2011? Enter your response without commas. `Production Occupations`"
   ]
  },
  {
   "cell_type": "code",
   "execution_count": 148,
   "metadata": {},
   "outputs": [
    {
     "data": {
      "text/plain": [
       "tot_emp    9919120\n",
       "dtype: int64"
      ]
     },
     "execution_count": 148,
     "metadata": {},
     "output_type": "execute_result"
    }
   ],
   "source": [
    "bls4.loc[bls4['occ_title'] == 'Production Occupations'][['tot_emp']].max()"
   ]
  },
  {
   "cell_type": "markdown",
   "metadata": {},
   "source": [
    "## Question 5\n",
    "### What was the highest mean annual wage for `(Canvas generated occupation)` ? Enter your response without commas or dollar signs. ` Legal Occupations`"
   ]
  },
  {
   "cell_type": "code",
   "execution_count": 149,
   "metadata": {},
   "outputs": [
    {
     "data": {
      "text/plain": [
       "a_mean    92270.0\n",
       "dtype: float64"
      ]
     },
     "execution_count": 149,
     "metadata": {},
     "output_type": "execute_result"
    }
   ],
   "source": [
    "# max 'a_mean' in Legal Occupations\n",
    "\n",
    "bls4.loc[bls4['occ_title'] == 'Legal Occupations'][['a_mean']].min() "
   ]
  },
  {
   "cell_type": "markdown",
   "metadata": {},
   "source": [
    "## Question 6\n",
    "### How did the mean annual wage for `(Canvas generated occupation)` rank out of all 22 major occupations in 2009? Rank from highest to lowest where rank = 1 means the occupations with the highest mean annual wage. `Protective service occupations`"
   ]
  },
  {
   "cell_type": "code",
   "execution_count": 150,
   "metadata": {},
   "outputs": [
    {
     "name": "stdout",
     "output_type": "stream",
     "text": [
      "Int64Index([13], dtype='int64')\n"
     ]
    }
   ],
   "source": [
    "majors2010 = pd.DataFrame(bls4[(bls4.year == 2010) & (bls4.group == 'major')])\n",
    "\n",
    "sorted2010 = majors2010.sort_values('a_mean', ascending=False)\n",
    "sorted2010.reset_index(inplace=True)\n",
    "\n",
    "print(sorted2010.loc[sorted2010['occ_title'] == 'Protective Service Occupations'].index + 1)\n",
    "    #add 1 so that rank 1 = highest instead of 0"
   ]
  },
  {
   "cell_type": "markdown",
   "metadata": {},
   "source": [
    "# Question 7\n",
    "## For jobs that had total employment between 500,000 and 1,000,000 in 2011, which job category had a percentage growth in employment from 2010 to 2011 equal to `(Canvas Value given on quiz)`? ` -3.43%`"
   ]
  },
  {
   "cell_type": "code",
   "execution_count": 151,
   "metadata": {},
   "outputs": [
    {
     "data": {
      "text/html": [
       "<div>\n",
       "<style scoped>\n",
       "    .dataframe tbody tr th:only-of-type {\n",
       "        vertical-align: middle;\n",
       "    }\n",
       "\n",
       "    .dataframe tbody tr th {\n",
       "        vertical-align: top;\n",
       "    }\n",
       "\n",
       "    .dataframe thead th {\n",
       "        text-align: right;\n",
       "    }\n",
       "</style>\n",
       "<table border=\"1\" class=\"dataframe\">\n",
       "  <thead>\n",
       "    <tr style=\"text-align: right;\">\n",
       "      <th></th>\n",
       "      <th>year</th>\n",
       "      <th>occ_code</th>\n",
       "      <th>occ_title</th>\n",
       "      <th>group</th>\n",
       "      <th>tot_emp</th>\n",
       "      <th>emp_prse</th>\n",
       "      <th>h_mean</th>\n",
       "      <th>a_mean</th>\n",
       "      <th>mean_prse</th>\n",
       "      <th>h_pct10</th>\n",
       "      <th>...</th>\n",
       "      <th>h_pct75</th>\n",
       "      <th>h_pct90</th>\n",
       "      <th>a_pct10</th>\n",
       "      <th>a_pct25</th>\n",
       "      <th>a_median</th>\n",
       "      <th>a_pct75</th>\n",
       "      <th>a_pct90</th>\n",
       "      <th>annual</th>\n",
       "      <th>hourly</th>\n",
       "      <th>pct_growth_tot_emp</th>\n",
       "    </tr>\n",
       "  </thead>\n",
       "  <tbody>\n",
       "    <tr>\n",
       "      <td>2862</td>\n",
       "      <td>2011</td>\n",
       "      <td>35-2021</td>\n",
       "      <td>Food Preparation Workers</td>\n",
       "      <td>detail</td>\n",
       "      <td>775140</td>\n",
       "      <td>1.1</td>\n",
       "      <td>10.07</td>\n",
       "      <td>20950.0</td>\n",
       "      <td>0.4</td>\n",
       "      <td>7.85</td>\n",
       "      <td>...</td>\n",
       "      <td>11.21</td>\n",
       "      <td>13.93</td>\n",
       "      <td>16330.0</td>\n",
       "      <td>17610.0</td>\n",
       "      <td>19270.0</td>\n",
       "      <td>23310.0</td>\n",
       "      <td>28960.0</td>\n",
       "      <td>NaN</td>\n",
       "      <td>NaN</td>\n",
       "      <td>-3.43</td>\n",
       "    </tr>\n",
       "  </tbody>\n",
       "</table>\n",
       "<p>1 rows × 22 columns</p>\n",
       "</div>"
      ],
      "text/plain": [
       "      year occ_code                 occ_title   group  tot_emp  emp_prse  \\\n",
       "2862  2011  35-2021  Food Preparation Workers  detail   775140       1.1   \n",
       "\n",
       "      h_mean   a_mean  mean_prse  h_pct10  ...  h_pct75  h_pct90  a_pct10  \\\n",
       "2862   10.07  20950.0        0.4     7.85  ...    11.21    13.93  16330.0   \n",
       "\n",
       "      a_pct25  a_median  a_pct75  a_pct90  annual  hourly  pct_growth_tot_emp  \n",
       "2862  17610.0   19270.0  23310.0  28960.0     NaN     NaN               -3.43  \n",
       "\n",
       "[1 rows x 22 columns]"
      ]
     },
     "execution_count": 151,
     "metadata": {},
     "output_type": "execute_result"
    }
   ],
   "source": [
    "# Add column to store growth \n",
    "bls4['pct_growth_tot_emp'] = round(bls4.sort_values(['year']).groupby('occ_code')[['tot_emp']].pct_change() * 100,2)\n",
    "#bls4.tail()\n",
    "\n",
    "# Filter to 500,000 - 1,000,000 in 2011\n",
    "\n",
    "bls2011_filtered = bls4.loc[(bls4['tot_emp'] >= 500000) & (bls4['tot_emp'] <= 1000000) & (bls4['year'] == 2011)]\n",
    "#bls2011_filtered.head()\n",
    "\n",
    "# Find job with -3.43% growth \n",
    "bls2011_filtered.loc[bls2011_filtered['pct_growth_tot_emp'] == -3.43]"
   ]
  }
 ],
 "metadata": {
  "kernelspec": {
   "display_name": "Python 3",
   "language": "python",
   "name": "python3"
  },
  "language_info": {
   "codemirror_mode": {
    "name": "ipython",
    "version": 3
   },
   "file_extension": ".py",
   "mimetype": "text/x-python",
   "name": "python",
   "nbconvert_exporter": "python",
   "pygments_lexer": "ipython3",
   "version": "3.7.4"
  },
  "latex_envs": {
   "LaTeX_envs_menu_present": true,
   "autoclose": false,
   "autocomplete": true,
   "bibliofile": "biblio.bib",
   "cite_by": "apalike",
   "current_citInitial": 1,
   "eqLabelWithNumbers": true,
   "eqNumInitial": 1,
   "hotkeys": {
    "equation": "Ctrl-E",
    "itemize": "Ctrl-I"
   },
   "labels_anchors": false,
   "latex_user_defs": false,
   "report_style_numbering": false,
   "user_envs_cfg": false
  }
 },
 "nbformat": 4,
 "nbformat_minor": 2
}
