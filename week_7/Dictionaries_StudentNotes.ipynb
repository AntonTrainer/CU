{
 "cells": [
  {
   "cell_type": "code",
   "execution_count": null,
   "metadata": {},
   "outputs": [],
   "source": [
    "#The first cell is just to align our markdown tables to the left vs. center"
   ]
  },
  {
   "cell_type": "code",
   "execution_count": 1,
   "metadata": {},
   "outputs": [
    {
     "data": {
      "text/html": [
       "<style>\n",
       "table {float:left}\n",
       "</style>\n"
      ],
      "text/plain": [
       "<IPython.core.display.HTML object>"
      ]
     },
     "metadata": {},
     "output_type": "display_data"
    }
   ],
   "source": [
    "%%html\n",
    "<style>\n",
    "table {float:left}\n",
    "</style>"
   ]
  },
  {
   "cell_type": "markdown",
   "metadata": {},
   "source": [
    "# Python Dictionaries\n",
    "## Teaching Notes\n",
    "***\n",
    "## Learning Objectives\n",
    "In this lesson you will: \n",
    "\n",
    "        1. Learn the fundamentals of dictionaries in Python\n",
    "        2. Work with dictionaries in Python\n",
    "        3. Access data that is stored in a dictionary data structure\n",
    "        4. Analyze data that is stored in dictionaries\n",
    "               \n",
    "## Modules covered in this lesson: \n",
    ">- `pprint`, used to \"pretty print\" a dictionary's values\n",
    "\n",
    "## Links to topics and functions:\n",
    ">- <a id='Lists'></a>[Dictionary Notes](#Initial-Notes-on-Dictionaries)\n",
    ">- <a id='methods'></a>[Dictionary methods](#Using-Methods-to-Work-with-Dictionaries)\n",
    ">- <a id='HW'></a> [Homework](#Homework)\n",
    "\n",
    "## Path to main python folder: C:\\\\Users\\\\mimc2537\\OneDrive - UCB-O365\\python\\week6\n",
    "### References: Sweigart(2015, pp. 105-121)\n",
    "#### Don't forget about the Python visualizer tool: http://pythontutor.com/visualize.html#mode=display\n",
    "\n",
    "## Functions covered in this lesson:\n",
    "|List Methods  | Functions  |\n",
    "|:-----------: |:----------:|\n",
    "|keys()        | pprint()   |\n",
    "|values()      | pformat()  |\n",
    "|items()       |            |\n",
    "|get()         |            |\n",
    "|setdefault()  |            |\n",
    "\n",
    "\n",
    "\n",
    "\n"
   ]
  },
  {
   "cell_type": "markdown",
   "metadata": {
    "slideshow": {
     "slide_type": "slide"
    }
   },
   "source": [
    "# Initial Notes on Dictionaries\n",
    ">- Dictionaries offer us a way to store and organize data in Python programs much like a database\n",
    ">>- `List Definition`: a *dictionary* is a data structure that allows for storage of almost any data type for indexes\n",
    ">>- *Dictionaries* use a *key* vs an index as in lists to make *key-value* pairs\n",
    ">>- Unlike lists, the items are unordered meaning there is no \"first\" item like we see with a list at index 0. \n",
    ">>>- Because dictionaries are unordered we can't slice them like we do with lists\n",
    ">>- However, because we can use virtually any value as a key we have much more flexibility in how we can organize our data\n",
    ">>- The key-value pairs in a dictionary are similar to how databases are used to store and organize data\n",
    ">>- Dictionaries start with a `{` and end with a `}`\n",
    ">>- Dictionaries can be nested within other dictionaries\n",
    "\n",
    "# When do we typically use dictionaries? \n",
    ">- When you want to map (associate) some value to another\n",
    ">>- For example, states full name to abbreviation: states = {'Oregon': 'OR'} \n",
    ">>- Or customers of a company: customers = {'fName':'Micah','lName':'McGee', 'email':'micah.mcgee@colorado.edu'}\n",
    ">- Dictionaries can be used when we need to \"look up\" a value ('Micah') from another value ('fName')\n",
    ">>- We can can think of dictionaries as \"look up\" tables\n",
    "\n",
    "\n",
    "## What are the main difference between lists and dictionaries? \n",
    ">- A list is an ordered list of items that we can access and slice by the index numbers\n",
    ">- A dictionary is used for matching some items (keys) to other items (values) \n"
   ]
  },
  {
   "cell_type": "markdown",
   "metadata": {},
   "source": [
    "#### Let's work through some examples to get familiar with dictionaries"
   ]
  },
  {
   "cell_type": "code",
   "execution_count": 5,
   "metadata": {},
   "outputs": [],
   "source": [
    "# First, define a dictionary, cutomers, with 4 keys \n",
    "\n",
    "customers = {'name':'Capri', 'Email':'antr@email.com', 'phone':'393939229', 'age': '23'}"
   ]
  },
  {
   "cell_type": "code",
   "execution_count": 9,
   "metadata": {},
   "outputs": [
    {
     "data": {
      "text/plain": [
       "'Capri'"
      ]
     },
     "execution_count": 9,
     "metadata": {},
     "output_type": "execute_result"
    }
   ],
   "source": [
    "#returning values associated with kets\n",
    "\n",
    "customers['name']"
   ]
  },
  {
   "cell_type": "code",
   "execution_count": null,
   "metadata": {},
   "outputs": [],
   "source": []
  },
  {
   "cell_type": "markdown",
   "metadata": {},
   "source": [
    "### Another way to get values with the `get()` method"
   ]
  },
  {
   "cell_type": "code",
   "execution_count": 11,
   "metadata": {},
   "outputs": [
    {
     "data": {
      "text/plain": [
       "'23'"
      ]
     },
     "execution_count": 11,
     "metadata": {},
     "output_type": "execute_result"
    }
   ],
   "source": [
    "customers.get('age')"
   ]
  },
  {
   "cell_type": "code",
   "execution_count": null,
   "metadata": {},
   "outputs": [],
   "source": []
  },
  {
   "cell_type": "markdown",
   "metadata": {},
   "source": [
    "### What if we want to add a city key with a value to our customers dictionary?\n"
   ]
  },
  {
   "cell_type": "code",
   "execution_count": 12,
   "metadata": {},
   "outputs": [
    {
     "name": "stdout",
     "output_type": "stream",
     "text": [
      "{'name': 'Capri', 'Email': 'antr@email.com', 'phone': '393939229', 'age': '23'}\n"
     ]
    },
    {
     "data": {
      "text/plain": [
       "{'name': 'Capri',\n",
       " 'Email': 'antr@email.com',\n",
       " 'phone': '393939229',\n",
       " 'age': '23',\n",
       " 'city': 'Golden'}"
      ]
     },
     "execution_count": 12,
     "metadata": {},
     "output_type": "execute_result"
    }
   ],
   "source": [
    "print(customers)\n",
    "\n",
    "#add the city key and value golden\n",
    "customers['city'] = 'Golden'\n",
    "\n",
    "customers"
   ]
  },
  {
   "cell_type": "markdown",
   "metadata": {},
   "source": [
    "### Can we add integer key values? "
   ]
  },
  {
   "cell_type": "code",
   "execution_count": 13,
   "metadata": {},
   "outputs": [
    {
     "name": "stdout",
     "output_type": "stream",
     "text": [
      "{'name': 'Capri', 'Email': 'antr@email.com', 'phone': '393939229', 'age': '23', 'city': 'Golden'}\n"
     ]
    },
    {
     "data": {
      "text/plain": [
       "{'name': 'Capri',\n",
       " 'Email': 'antr@email.com',\n",
       " 'phone': '393939229',\n",
       " 'age': '23',\n",
       " 'city': 'Golden',\n",
       " 2: 3}"
      ]
     },
     "execution_count": 13,
     "metadata": {},
     "output_type": "execute_result"
    }
   ],
   "source": [
    "print(customers)\n",
    "\n",
    "#add an int key and value\n",
    "\n",
    "customers[2] = 3\n",
    "\n",
    "customers"
   ]
  },
  {
   "cell_type": "code",
   "execution_count": 14,
   "metadata": {},
   "outputs": [
    {
     "data": {
      "text/plain": [
       "3"
      ]
     },
     "execution_count": 14,
     "metadata": {},
     "output_type": "execute_result"
    }
   ],
   "source": [
    "customers[2]"
   ]
  },
  {
   "cell_type": "markdown",
   "metadata": {},
   "source": [
    "### How can we print all the values in a dictionary?"
   ]
  },
  {
   "cell_type": "code",
   "execution_count": 15,
   "metadata": {},
   "outputs": [
    {
     "name": "stdout",
     "output_type": "stream",
     "text": [
      "Capri\n",
      "antr@email.com\n",
      "393939229\n",
      "23\n",
      "Golden\n",
      "3\n"
     ]
    }
   ],
   "source": [
    "for value in customers.values():\n",
    "    print(value)"
   ]
  },
  {
   "cell_type": "markdown",
   "metadata": {},
   "source": [
    "### How can we print all the keys in a dictionary?"
   ]
  },
  {
   "cell_type": "code",
   "execution_count": 16,
   "metadata": {},
   "outputs": [
    {
     "name": "stdout",
     "output_type": "stream",
     "text": [
      "name\n",
      "Email\n",
      "phone\n",
      "age\n",
      "city\n",
      "2\n"
     ]
    }
   ],
   "source": [
    "for keys in customers.keys():\n",
    "    print(keys)"
   ]
  },
  {
   "cell_type": "markdown",
   "metadata": {},
   "source": [
    "### How about printing out the `key:value` pairs?"
   ]
  },
  {
   "cell_type": "code",
   "execution_count": 18,
   "metadata": {},
   "outputs": [
    {
     "name": "stdout",
     "output_type": "stream",
     "text": [
      "Key = name ------------- Vlaue = Capri\n",
      "Key = Email ------------- Vlaue = antr@email.com\n",
      "Key = phone ------------- Vlaue = 393939229\n",
      "Key = age ------------- Vlaue = 23\n",
      "Key = city ------------- Vlaue = Golden\n",
      "Key = 2 ------------- Vlaue = 3\n"
     ]
    }
   ],
   "source": [
    "for keys , values in customers.items():\n",
    "    print(f'Key = {keys} ------------- Vlaue = {values}')"
   ]
  },
  {
   "cell_type": "markdown",
   "metadata": {},
   "source": [
    "### Another way to print out `key:value` pairs"
   ]
  },
  {
   "cell_type": "code",
   "execution_count": 19,
   "metadata": {},
   "outputs": [
    {
     "name": "stdout",
     "output_type": "stream",
     "text": [
      "name : Capri\n",
      "Email : antr@email.com\n",
      "phone : 393939229\n",
      "age : 23\n",
      "city : Golden\n",
      "2 : 3\n"
     ]
    }
   ],
   "source": [
    "for (key , value) in customers.items():\n",
    "    print(f'{key} : {value}')"
   ]
  },
  {
   "cell_type": "markdown",
   "metadata": {},
   "source": [
    "### How do we check if a key or value is already in a dictionary?"
   ]
  },
  {
   "cell_type": "code",
   "execution_count": 21,
   "metadata": {},
   "outputs": [
    {
     "data": {
      "text/plain": [
       "True"
      ]
     },
     "execution_count": 21,
     "metadata": {},
     "output_type": "execute_result"
    }
   ],
   "source": [
    "# Reminder: the in and the not in operators we used in lists work in dictionaries too but we need to specify with .keys .values or .items\n",
    "\n",
    "'name' in customers.keys()"
   ]
  },
  {
   "cell_type": "code",
   "execution_count": 22,
   "metadata": {},
   "outputs": [
    {
     "data": {
      "text/plain": [
       "False"
      ]
     },
     "execution_count": 22,
     "metadata": {},
     "output_type": "execute_result"
    }
   ],
   "source": [
    "'hello' in customers.keys()"
   ]
  },
  {
   "cell_type": "code",
   "execution_count": 25,
   "metadata": {},
   "outputs": [
    {
     "data": {
      "text/plain": [
       "False"
      ]
     },
     "execution_count": 25,
     "metadata": {},
     "output_type": "execute_result"
    }
   ],
   "source": [
    "'Capri' in customers.keys()\n"
   ]
  },
  {
   "cell_type": "code",
   "execution_count": 26,
   "metadata": {},
   "outputs": [
    {
     "data": {
      "text/plain": [
       "True"
      ]
     },
     "execution_count": 26,
     "metadata": {},
     "output_type": "execute_result"
    }
   ],
   "source": [
    "'Capri' in customers.values()"
   ]
  },
  {
   "cell_type": "code",
   "execution_count": 30,
   "metadata": {},
   "outputs": [
    {
     "data": {
      "text/plain": [
       "False"
      ]
     },
     "execution_count": 30,
     "metadata": {},
     "output_type": "execute_result"
    }
   ],
   "source": [
    "'Capri' not in customers.values()"
   ]
  },
  {
   "cell_type": "markdown",
   "metadata": {},
   "source": [
    "### If a key in a dictionary doesn't have a value what can we do so we don't get error codes?\n",
    ">- The `setdefault()` method is used to set a default value for a key so that all keys will have a value\n"
   ]
  },
  {
   "cell_type": "code",
   "execution_count": 32,
   "metadata": {},
   "outputs": [],
   "source": [
    "customers2 = {'name':'John', 'emails': '@email.com'}"
   ]
  },
  {
   "cell_type": "code",
   "execution_count": null,
   "metadata": {},
   "outputs": [],
   "source": [
    "#Now want to add an address key to store address vlaues but we dont have address yet \n"
   ]
  },
  {
   "cell_type": "code",
   "execution_count": 37,
   "metadata": {},
   "outputs": [
    {
     "data": {
      "text/plain": [
       "{'name': 'John', 'emails': '@email.com', 'Address': 'Boulder'}"
      ]
     },
     "execution_count": 37,
     "metadata": {},
     "output_type": "execute_result"
    }
   ],
   "source": [
    "customers2.setdefault('Address', 'No address yet')\n",
    "customers2\n",
    "\n",
    "customers2['Address'] = 'Boulder'\n",
    "customers2"
   ]
  },
  {
   "cell_type": "markdown",
   "metadata": {},
   "source": [
    "## An example of why using `setdefault()` comes in handy\n",
    ">- We will write a short program to county the number of occurances for each letter in a given string"
   ]
  },
  {
   "cell_type": "code",
   "execution_count": 54,
   "metadata": {},
   "outputs": [
    {
     "name": "stdout",
     "output_type": "stream",
     "text": [
      "{'I': 1, 'w': 2, 'o': 3, 'n': 4, 'd': 1, 'e': 7, 'r': 3, 'h': 3, 'm': 3, 'a': 2, 'y': 1, 't': 7, 'i': 4, 's': 4, 'c': 2, 'l': 1, 'u': 1, 'p': 1, 'x': 1, 'g': 1}\n"
     ]
    }
   ],
   "source": [
    "text = 'I wonder how many times each letter comes up in this text string'\n",
    "\n",
    "count = {}\n",
    "\n",
    "for letter in text:\n",
    "    if letter != ' ':\n",
    "        count.setdefault(letter,0)\n",
    "        count[letter] = count[letter] + 1\n",
    "print(count)"
   ]
  },
  {
   "cell_type": "markdown",
   "metadata": {},
   "source": [
    "#### Commented out code for the previous example"
   ]
  },
  {
   "cell_type": "code",
   "execution_count": null,
   "metadata": {},
   "outputs": [],
   "source": []
  },
  {
   "cell_type": "markdown",
   "metadata": {},
   "source": [
    "#### And here is why we set a default value using `setdefault`\n",
    ">- Note the error code that is returned when we run the next cell"
   ]
  },
  {
   "cell_type": "code",
   "execution_count": 42,
   "metadata": {},
   "outputs": [
    {
     "ename": "KeyError",
     "evalue": "'W'",
     "output_type": "error",
     "traceback": [
      "\u001b[1;31m---------------------------------------------------------------------------\u001b[0m",
      "\u001b[1;31mKeyError\u001b[0m                                  Traceback (most recent call last)",
      "\u001b[1;32m<ipython-input-42-977738c3b8f8>\u001b[0m in \u001b[0;36m<module>\u001b[1;34m\u001b[0m\n\u001b[0;32m      5\u001b[0m \u001b[1;32mfor\u001b[0m \u001b[0mletter\u001b[0m \u001b[1;32min\u001b[0m \u001b[0mtext2\u001b[0m\u001b[1;33m:\u001b[0m\u001b[1;33m\u001b[0m\u001b[1;33m\u001b[0m\u001b[0m\n\u001b[0;32m      6\u001b[0m     \u001b[1;32mif\u001b[0m \u001b[0mletter\u001b[0m \u001b[1;33m!=\u001b[0m \u001b[1;34m' '\u001b[0m\u001b[1;33m:\u001b[0m\u001b[1;33m\u001b[0m\u001b[1;33m\u001b[0m\u001b[0m\n\u001b[1;32m----> 7\u001b[1;33m         \u001b[0mcount2\u001b[0m\u001b[1;33m[\u001b[0m\u001b[0mletter\u001b[0m\u001b[1;33m]\u001b[0m \u001b[1;33m=\u001b[0m \u001b[0mcount2\u001b[0m\u001b[1;33m[\u001b[0m\u001b[0mletter\u001b[0m\u001b[1;33m]\u001b[0m \u001b[1;33m+\u001b[0m \u001b[1;36m1\u001b[0m\u001b[1;33m\u001b[0m\u001b[1;33m\u001b[0m\u001b[0m\n\u001b[0m\u001b[0;32m      8\u001b[0m \u001b[1;33m\u001b[0m\u001b[0m\n\u001b[0;32m      9\u001b[0m \u001b[0mprint\u001b[0m\u001b[1;33m(\u001b[0m\u001b[0mcount2\u001b[0m\u001b[1;33m)\u001b[0m\u001b[1;33m\u001b[0m\u001b[1;33m\u001b[0m\u001b[0m\n",
      "\u001b[1;31mKeyError\u001b[0m: 'W'"
     ]
    }
   ],
   "source": [
    "text2 = 'What happens if we do not set a default value for the ltter key?'\n",
    "\n",
    "count2 = {}\n",
    "\n",
    "for letter in text2:\n",
    "    if letter != ' ':\n",
    "        count2[letter] = count2[letter] + 1 #without the set default, python does not know what to add 1 to \n",
    "        \n",
    "print(count2)"
   ]
  },
  {
   "cell_type": "markdown",
   "metadata": {},
   "source": [
    "## Let's look at the previous program in the visualizer tool\n",
    " http://pythontutor.com/visualize.html#mode=display"
   ]
  },
  {
   "cell_type": "markdown",
   "metadata": {},
   "source": [
    "## Now, how do we get our dictionary of counted letters to print in an easier to read format? \n",
    ">- \"Pretty\" printing using the pprint module and its functions"
   ]
  },
  {
   "cell_type": "code",
   "execution_count": 57,
   "metadata": {},
   "outputs": [
    {
     "name": "stdout",
     "output_type": "stream",
     "text": [
      "{'I': 2,\n",
      " 'a': 3,\n",
      " 'c': 3,\n",
      " 'd': 2,\n",
      " 'e': 8,\n",
      " 'g': 2,\n",
      " 'h': 4,\n",
      " 'i': 5,\n",
      " 'l': 2,\n",
      " 'm': 4,\n",
      " 'n': 5,\n",
      " 'o': 4,\n",
      " 'p': 2,\n",
      " 'r': 4,\n",
      " 's': 5,\n",
      " 't': 8,\n",
      " 'u': 2,\n",
      " 'w': 3,\n",
      " 'x': 2,\n",
      " 'y': 2}\n"
     ]
    }
   ],
   "source": [
    "import pprint \n",
    "\n",
    "text3 = 'Let us count the letters in this text and print the results in an easier to read format'\n",
    "\n",
    "count3 = {}\n",
    "\n",
    "for letter in text:\n",
    "    if letter != ' ':\n",
    "        count3.setdefault(letter,0)\n",
    "        count3[letter] = count[letter] + 1\n",
    "pprint.pprint(count3)"
   ]
  },
  {
   "cell_type": "markdown",
   "metadata": {},
   "source": [
    "### Let's do some analytics on our count3 dictionary\n",
    ">- Q: How many unique letters were in our text3 string? \n",
    ">- Q: How many total letters were in our text3 string? \n",
    ">- Q: What is the average number of occurrences  of letters in our text3 string? \n",
    "\n",
    "After answering these questions print out a message in a full sentence describing the results"
   ]
  },
  {
   "cell_type": "code",
   "execution_count": 59,
   "metadata": {},
   "outputs": [],
   "source": [
    "lettCount = len(count3.keys())\n",
    "lettSum = sum(count3.values())"
   ]
  },
  {
   "cell_type": "code",
   "execution_count": 62,
   "metadata": {},
   "outputs": [],
   "source": [
    "lettAvg = round(lettSum/lettCount,2)"
   ]
  },
  {
   "cell_type": "code",
   "execution_count": null,
   "metadata": {},
   "outputs": [],
   "source": []
  },
  {
   "cell_type": "markdown",
   "metadata": {},
   "source": [
    "#### Good analytics never ends with simple output or tables but with a written report/statement\n",
    ">- So lets write a summary statement for our findings"
   ]
  },
  {
   "cell_type": "code",
   "execution_count": 64,
   "metadata": {},
   "outputs": [
    {
     "name": "stdout",
     "output_type": "stream",
     "text": [
      "There wree 20 unique letters, 72 total letters, \n",
      "        with an average of 3.6 occurances per letter.\n"
     ]
    }
   ],
   "source": [
    "print(f'''There wree {lettCount} unique letters, {lettSum} total letters, \n",
    "        with an average of {lettAvg} occurances per letter.''')"
   ]
  },
  {
   "cell_type": "markdown",
   "metadata": {},
   "source": [
    "## Dictionaries with lists embedded in them\n",
    ">- We will create a dictionary to store product prices\n",
    ">>- The general format of our dictionary will be record number (as the key)  \n",
    ">>- The list will store product type, product brand, and price data\n"
   ]
  },
  {
   "cell_type": "code",
   "execution_count": 21,
   "metadata": {},
   "outputs": [],
   "source": [
    " products = {1: ['TV', 'TCL', 200], \n",
    "            2: ['PC', 'FC', 500], \n",
    "            3: ['TV', 'VIZIO', 250], \n",
    "            4: ['Refridgerator', 'Samsung', 1000], \n",
    "            5: ['TV', 'LG', 850]}"
   ]
  },
  {
   "cell_type": "code",
   "execution_count": 22,
   "metadata": {},
   "outputs": [
    {
     "data": {
      "text/plain": [
       "['TV', 'VIZIO', 250]"
      ]
     },
     "execution_count": 22,
     "metadata": {},
     "output_type": "execute_result"
    }
   ],
   "source": [
    "# What is the value of the 3rd item in the dictionary \n",
    "\n",
    "products[3]"
   ]
  },
  {
   "cell_type": "markdown",
   "metadata": {},
   "source": [
    "#### Why is a list the value returned from the previous cell? "
   ]
  },
  {
   "cell_type": "code",
   "execution_count": 23,
   "metadata": {},
   "outputs": [
    {
     "data": {
      "text/plain": [
       "5"
      ]
     },
     "execution_count": 23,
     "metadata": {},
     "output_type": "execute_result"
    }
   ],
   "source": [
    "#how many total product are in the products dictionary?\n",
    "\n",
    "totProds = len(products) # len(products.keys())\n",
    "\n",
    "totProds\n"
   ]
  },
  {
   "cell_type": "code",
   "execution_count": null,
   "metadata": {
    "scrolled": true
   },
   "outputs": [],
   "source": []
  },
  {
   "cell_type": "markdown",
   "metadata": {},
   "source": [
    "## Q: How do we return values of a list that is embedded in a dictionary? "
   ]
  },
  {
   "cell_type": "code",
   "execution_count": 24,
   "metadata": {},
   "outputs": [
    {
     "data": {
      "text/plain": [
       "850"
      ]
     },
     "execution_count": 24,
     "metadata": {},
     "output_type": "execute_result"
    }
   ],
   "source": [
    "# What is the price of the 5th item in th dictionary?\n",
    "\n",
    "products[5][2] #referrring to the key value of 3 not the 3rd position "
   ]
  },
  {
   "cell_type": "code",
   "execution_count": 25,
   "metadata": {},
   "outputs": [
    {
     "data": {
      "text/plain": [
       "250"
      ]
     },
     "execution_count": 25,
     "metadata": {},
     "output_type": "execute_result"
    }
   ],
   "source": [
    "# Price of the 3rd item \n",
    "\n",
    "products[3][2]"
   ]
  },
  {
   "cell_type": "code",
   "execution_count": 26,
   "metadata": {},
   "outputs": [
    {
     "data": {
      "text/plain": [
       "'Refridgerator'"
      ]
     },
     "execution_count": 26,
     "metadata": {},
     "output_type": "execute_result"
    }
   ],
   "source": [
    "#Retrun the itm type of the 4th item \n",
    "\n",
    "products[4][0]"
   ]
  },
  {
   "cell_type": "code",
   "execution_count": 27,
   "metadata": {},
   "outputs": [
    {
     "data": {
      "text/plain": [
       "'FC'"
      ]
     },
     "execution_count": 27,
     "metadata": {},
     "output_type": "execute_result"
    }
   ],
   "source": [
    "#return the brand of the second item in the list \n",
    "\n",
    "products[2][1]"
   ]
  },
  {
   "cell_type": "markdown",
   "metadata": {},
   "source": [
    "### Now write out what was going on in the previous cells: \n",
    "1. First, we list the dictionary name: products\n",
    "2. Next, the first value in brackets refers to the key value to look up in products\n",
    "3. Finally, the second value in brackets refers to the index number to look up in the embedded list\n",
    ">- On your own, write out what using the syntax products[5][2] tells Python to do\n",
    "\n"
   ]
  },
  {
   "cell_type": "markdown",
   "metadata": {},
   "source": [
    "### What could our product dictionary look like in a database for a company? \n",
    "\n",
    "|prodID        | prodType   | prodBrand | prodPrice |\n",
    "|:-----------: |:----------:|:---------:|:----------|\n",
    "|1             | TV         | TCL       |200        |\n",
    "|2             | PC         | PC        |500        |\n",
    "|3             | TV         | TV        |250        |\n",
    "|4             | Fridge     | Fridge    |1000       |\n",
    "|5             | TV         | TV        |850        |"
   ]
  },
  {
   "cell_type": "markdown",
   "metadata": {},
   "source": [
    "## Let's do some analytics for the company that sells items from products\n",
    "### First, analytics always starts with questions so let's write some\n",
    "1. How many total products do we have? \n",
    "2. Whats the total of all prices?\n",
    "3. What is the average price all products?\n",
    "4. What is the average price of TVs? "
   ]
  },
  {
   "cell_type": "code",
   "execution_count": 28,
   "metadata": {},
   "outputs": [
    {
     "data": {
      "text/plain": [
       "5"
      ]
     },
     "execution_count": 28,
     "metadata": {},
     "output_type": "execute_result"
    }
   ],
   "source": [
    "#How many total prods \n",
    "\n",
    "totProducts = len(products.keys())\n",
    "totProducts"
   ]
  },
  {
   "cell_type": "code",
   "execution_count": 29,
   "metadata": {
    "scrolled": true
   },
   "outputs": [
    {
     "data": {
      "text/plain": [
       "2800"
      ]
     },
     "execution_count": 29,
     "metadata": {},
     "output_type": "execute_result"
    }
   ],
   "source": [
    "# Whats the total of all prices \n",
    "\n",
    "sumPrice = 0\n",
    "\n",
    "for prod in products:\n",
    "    sumPrice += products[prod][2]\n",
    "    \n",
    "sumPrice"
   ]
  },
  {
   "cell_type": "code",
   "execution_count": 31,
   "metadata": {},
   "outputs": [
    {
     "data": {
      "text/plain": [
       "560.0"
      ]
     },
     "execution_count": 31,
     "metadata": {},
     "output_type": "execute_result"
    }
   ],
   "source": [
    "# Average price of all products \n",
    "\n",
    "averageProductPrice = sumPrice / totProducts\n",
    "\n",
    "averageProductPrice"
   ]
  },
  {
   "cell_type": "markdown",
   "metadata": {},
   "source": [
    "#### To answer product specific questions like Q4 we need to do a bit more\n",
    ">- Let's break that question into subquestions\n",
    ">>- How many total TVs are in products?\n",
    ">>- What is the total price of the TVs?\n",
    ">>- Then what is the average price of all TVs?"
   ]
  },
  {
   "cell_type": "code",
   "execution_count": 32,
   "metadata": {},
   "outputs": [
    {
     "data": {
      "text/plain": [
       "3"
      ]
     },
     "execution_count": 32,
     "metadata": {},
     "output_type": "execute_result"
    }
   ],
   "source": [
    "# Total number of TV products \n",
    "\n",
    "tvCount = 0 \n",
    "\n",
    "for key in products:\n",
    "    if products[key][0] == 'TV':\n",
    "        tvCount += 1\n",
    "    \n",
    "tvCount"
   ]
  },
  {
   "cell_type": "code",
   "execution_count": 33,
   "metadata": {},
   "outputs": [
    {
     "data": {
      "text/plain": [
       "1300"
      ]
     },
     "execution_count": 33,
     "metadata": {},
     "output_type": "execute_result"
    }
   ],
   "source": [
    "sumTVprice = 0 \n",
    "\n",
    "for key in products:\n",
    "    if products[key][0] == 'TV':\n",
    "        sumTVprice += products[key][2]\n",
    "sumTVprice"
   ]
  },
  {
   "cell_type": "code",
   "execution_count": 35,
   "metadata": {
    "scrolled": true
   },
   "outputs": [
    {
     "data": {
      "text/plain": [
       "433.3333333333333"
      ]
     },
     "execution_count": 35,
     "metadata": {},
     "output_type": "execute_result"
    }
   ],
   "source": [
    "#average TV price \n",
    "\n",
    "avgTVprice = sumTVprice / tvCount\n",
    "\n",
    "avgTVprice\n"
   ]
  },
  {
   "cell_type": "markdown",
   "metadata": {},
   "source": [
    "## Ok, we got the answer in multiple steps but can we do this in one cell? \n",
    ">- Let's use the individual cells we used above to help us answer our question in one cell"
   ]
  },
  {
   "cell_type": "code",
   "execution_count": 37,
   "metadata": {},
   "outputs": [
    {
     "data": {
      "text/plain": [
       "433.3333333333333"
      ]
     },
     "execution_count": 37,
     "metadata": {},
     "output_type": "execute_result"
    }
   ],
   "source": [
    "tvCount = 0\n",
    "sumTVprice = 0 \n",
    "\n",
    "for key in products:\n",
    "    if products[key][0] == 'TV':\n",
    "        tvCount += 1\n",
    "        sumTVprice += products[key][2]\n",
    "averageTVprice = sumTVprice / tvCount\n",
    "\n",
    "averageTVprice"
   ]
  },
  {
   "cell_type": "markdown",
   "metadata": {},
   "source": [
    "### But we aren't done yet... analytics doesn't stop at simple output "
   ]
  },
  {
   "cell_type": "code",
   "execution_count": 40,
   "metadata": {},
   "outputs": [
    {
     "name": "stdout",
     "output_type": "stream",
     "text": [
      " We have a total price of $2800 blah blah blah all the other sums in curly braces blah blah blah\n"
     ]
    }
   ],
   "source": [
    "print(f''' We have a total price of ${sumPrice} blah blah blah all the other sums in curly braces blah blah blah''')"
   ]
  },
  {
   "cell_type": "markdown",
   "metadata": {},
   "source": [
    "#### We can actually print our results in a better format using markdown cells\n",
    "To be able to do this we have to install some notebook extensions using the Anaconda shell (or mac terminal)\n",
    "1. If you have installed Anaconda on your machine then...\n",
    "2. Search for \"Anaconda Powershell prompt\"\n",
    ">- On Macs you would use your terminal\n",
    "3. Open up the Anaconda Powershell and type the following commands\n",
    ">- pip install jupyter_contrib_nbextensions\n",
    ">- jupyter contrib nbextension install --user\n",
    ">- jupyter nbextension enable python-markdown/main\n",
    "4. After that all installs on your machine, you will need to reload Anaconda and juptyer"
   ]
  },
  {
   "cell_type": "markdown",
   "metadata": {},
   "source": [
    "Hi boss, here is a summary of our products and TVs: \n",
    ">-  {{totProds}} total products\n",
    ">-  \\${{sumPrice}} total price of products\n",
    ">-  \\${{avgPrice}} average price of products\n",
    ">-  {{tvCount}} total TVs\n",
    ">-  \\${{tvSum}} total price of TVs\n",
    ">-  \\${{tvAvg}} average price of TVs"
   ]
  },
  {
   "cell_type": "code",
   "execution_count": null,
   "metadata": {},
   "outputs": [],
   "source": []
  },
  {
   "cell_type": "code",
   "execution_count": null,
   "metadata": {},
   "outputs": [],
   "source": []
  },
  {
   "cell_type": "code",
   "execution_count": null,
   "metadata": {},
   "outputs": [],
   "source": []
  },
  {
   "cell_type": "markdown",
   "metadata": {},
   "source": [
    "### Let's look at the previous code in the visualizer tool"
   ]
  },
  {
   "cell_type": "code",
   "execution_count": null,
   "metadata": {
    "scrolled": true
   },
   "outputs": [],
   "source": [
    "    "
   ]
  },
  {
   "cell_type": "markdown",
   "metadata": {},
   "source": [
    "# Homework\n",
    "\n",
    "tbd"
   ]
  },
  {
   "cell_type": "markdown",
   "metadata": {},
   "source": [
    "<a id='top'></a>[TopPage](#Teaching-Notes)"
   ]
  }
 ],
 "metadata": {
  "kernelspec": {
   "display_name": "Python 3",
   "language": "python",
   "name": "python3"
  },
  "language_info": {
   "codemirror_mode": {
    "name": "ipython",
    "version": 3
   },
   "file_extension": ".py",
   "mimetype": "text/x-python",
   "name": "python",
   "nbconvert_exporter": "python",
   "pygments_lexer": "ipython3",
   "version": "3.7.4"
  },
  "latex_envs": {
   "LaTeX_envs_menu_present": true,
   "autoclose": false,
   "autocomplete": true,
   "bibliofile": "biblio.bib",
   "cite_by": "apalike",
   "current_citInitial": 1,
   "eqLabelWithNumbers": true,
   "eqNumInitial": 1,
   "hotkeys": {
    "equation": "Ctrl-E",
    "itemize": "Ctrl-I"
   },
   "labels_anchors": false,
   "latex_user_defs": false,
   "report_style_numbering": false,
   "user_envs_cfg": false
  }
 },
 "nbformat": 4,
 "nbformat_minor": 4
}
