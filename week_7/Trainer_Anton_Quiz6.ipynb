{
 "cells": [
  {
   "cell_type": "markdown",
   "metadata": {
    "colab_type": "text",
    "id": "D284KRZiCpmN"
   },
   "source": [
    "# BAIM 3220: Introduction to Python\n",
    "## Quiz #6: Lists & Dictionaries\n",
    "## After downloading this .ipynb file from Canvas, resave with the following naming format:\n",
    ">- LastName_FirstName_Quiz6.ipynb\n",
    "\n",
    "\n",
    "## When you are ready to submit your quiz, upload your .ipynb file to the Quiz#6 dropbox on Canvas"
   ]
  },
  {
   "cell_type": "markdown",
   "metadata": {
    "colab_type": "text",
    "id": "hlsENAAMCpmx"
   },
   "source": [
    "# Q1 (40 points) Create a rainbow\n",
    "## In the next cell define a function, `game`, to build a rainbow\n",
    "### Specifications:\n",
    "*   The function must display text that tells the user \"This is a program to name the colors of the rainbow\"\n",
    "*   You must use a `while` loop\n",
    "*   Store the values in a list variable called, 'rainbow'\n",
    "*   Prompt the user to enter a color for their list\n",
    "*   Exit the program if the users hits `enter` without typing any characters\n",
    "*   Print the users final rainbow list\n",
    "      - The final list should look like: \n",
    "      - Red Orange Yellow Green Blue Purple\n",
    "\n",
    "\n",
    "\n",
    "\n",
    "\n",
    "\n",
    "\n",
    "\n",
    "\n",
    "\n",
    "\n",
    "\n",
    "\n"
   ]
  },
  {
   "cell_type": "markdown",
   "metadata": {},
   "source": [
    "### Define your function in the next cell but don't call it yet"
   ]
  },
  {
   "cell_type": "code",
   "execution_count": 108,
   "metadata": {
    "colab": {},
    "colab_type": "code",
    "id": "XXuePvSyCpm2"
   },
   "outputs": [],
   "source": [
    "def game():\n",
    "    print(\"This is a program to name the colors of the rainbow\")\n",
    "    \n",
    "    rainbow = []\n",
    "    while True:\n",
    "        color = input(\"Please enter a color: \")\n",
    "        \n",
    "        if color == \"\":\n",
    "            break\n",
    "        \n",
    "        rainbow.append(color)\n",
    "    for color in range(len(rainbow)):\n",
    "        print(f'{rainbow[color]}', end = \" \")\n",
    "    \n",
    "        "
   ]
  },
  {
   "cell_type": "markdown",
   "metadata": {},
   "source": [
    "### Call your function in the next cell"
   ]
  },
  {
   "cell_type": "code",
   "execution_count": 109,
   "metadata": {
    "colab": {
     "base_uri": "https://localhost:8080/",
     "height": 119
    },
    "colab_type": "code",
    "id": "YERVu3OgG_YJ",
    "outputId": "6efc85cd-4a91-41c5-a61a-f23f38a21c95",
    "scrolled": false
   },
   "outputs": [
    {
     "name": "stdout",
     "output_type": "stream",
     "text": [
      "This is a program to name the colors of the rainbow\n",
      "Please enter a color: Red\n",
      "Please enter a color: Orange\n",
      "Please enter a color: Yellow\n",
      "Please enter a color: Green\n",
      "Please enter a color: Blue\n",
      "Please enter a color: Purple\n",
      "Please enter a color: \n",
      "Red Orange Yellow Green Blue Purple "
     ]
    }
   ],
   "source": [
    "game()"
   ]
  },
  {
   "cell_type": "markdown",
   "metadata": {
    "colab_type": "text",
    "id": "CyYaq0xDUnq_"
   },
   "source": [
    "# Q2 \n",
    "## The seven dwarfs lists\n",
    "### Use the following list, `dwarfs`, to answer `Q2a-Q2e`"
   ]
  },
  {
   "cell_type": "code",
   "execution_count": 33,
   "metadata": {
    "colab": {},
    "colab_type": "code",
    "id": "1osFJ7IdUn_i"
   },
   "outputs": [],
   "source": [
    "dwarfs = ['Happy', 'Sleepy', 'Doc', 'Bashful', 'Sneezy', 'Grumpy', 'Dopey']"
   ]
  },
  {
   "cell_type": "markdown",
   "metadata": {
    "colab_type": "text",
    "id": "rMiabVGvU-2-"
   },
   "source": [
    "## Q2a (3 points)\n",
    "### In the next cell, change 'Dopey' to 'Scrappy' and output the changed list"
   ]
  },
  {
   "cell_type": "code",
   "execution_count": 34,
   "metadata": {
    "colab": {
     "base_uri": "https://localhost:8080/",
     "height": 34
    },
    "colab_type": "code",
    "id": "-jgEBwr_VB4d",
    "outputId": "6a17c463-293b-41f5-d659-df1a2920733e"
   },
   "outputs": [
    {
     "data": {
      "text/plain": [
       "['Happy', 'Sleepy', 'Doc', 'Bashful', 'Sneezy', 'Grumpy', 'Scrappy']"
      ]
     },
     "execution_count": 34,
     "metadata": {},
     "output_type": "execute_result"
    }
   ],
   "source": [
    "dwarfs[6] = 'Scrappy'\n",
    "dwarfs"
   ]
  },
  {
   "cell_type": "markdown",
   "metadata": {
    "colab_type": "text",
    "id": "YDLyko91VGg_"
   },
   "source": [
    "##  Q2b (3 points)\n",
    "### In the next cell, make a copy of the dwarfs list named, `dwarfs2`, and show its value. "
   ]
  },
  {
   "cell_type": "code",
   "execution_count": 35,
   "metadata": {
    "colab": {
     "base_uri": "https://localhost:8080/",
     "height": 34
    },
    "colab_type": "code",
    "id": "bem0qu8-VICp",
    "outputId": "ae831a42-bf8f-4545-fcd4-4cb91f894d28"
   },
   "outputs": [
    {
     "data": {
      "text/plain": [
       "['Happy', 'Sleepy', 'Doc', 'Bashful', 'Sneezy', 'Grumpy', 'Scrappy']"
      ]
     },
     "execution_count": 35,
     "metadata": {},
     "output_type": "execute_result"
    }
   ],
   "source": [
    "dwarfs2 = dwarfs\n",
    "\n",
    "dwarfs2"
   ]
  },
  {
   "cell_type": "markdown",
   "metadata": {
    "colab_type": "text",
    "id": "8TCMWNK2VVmp"
   },
   "source": [
    "## Q2c (3 points)\n",
    "### In the next cell, sort the `dwarfs2` list in descending order and show the value. "
   ]
  },
  {
   "cell_type": "code",
   "execution_count": 36,
   "metadata": {
    "colab": {
     "base_uri": "https://localhost:8080/",
     "height": 34
    },
    "colab_type": "code",
    "id": "POgF8-AFVLkR",
    "outputId": "32e235ce-63c9-449c-a5ce-256fd473576b"
   },
   "outputs": [
    {
     "data": {
      "text/plain": [
       "['Sneezy', 'Sleepy', 'Scrappy', 'Happy', 'Grumpy', 'Doc', 'Bashful']"
      ]
     },
     "execution_count": 36,
     "metadata": {},
     "output_type": "execute_result"
    }
   ],
   "source": [
    "dwarfs2.sort(reverse= True)\n",
    "\n",
    "dwarfs2\n",
    "\n",
    "''' Descending order means the largest or last in the order will \n",
    "    appear at the top of the list: \n",
    "        For letters/words, the sort is alphabetical from Z to A.\n",
    "        https://www.kb.blackbaud.co.uk/articles/Article/117098'''"
   ]
  },
  {
   "cell_type": "markdown",
   "metadata": {
    "colab_type": "text",
    "id": "bSInlnJHVMIo"
   },
   "source": [
    "## Q2d (3 points)\n",
    "### In the next cell, add a new dwarf, Hungry, to `dwarfs2` and show the new list value. "
   ]
  },
  {
   "cell_type": "code",
   "execution_count": 37,
   "metadata": {
    "colab": {
     "base_uri": "https://localhost:8080/",
     "height": 34
    },
    "colab_type": "code",
    "id": "Ye1OEUQxVcXC",
    "outputId": "279ebd0a-6762-4e19-b253-64c3eff9a54d"
   },
   "outputs": [
    {
     "data": {
      "text/plain": [
       "['Sneezy', 'Sleepy', 'Scrappy', 'Happy', 'Grumpy', 'Doc', 'Bashful', 'Hungry']"
      ]
     },
     "execution_count": 37,
     "metadata": {},
     "output_type": "execute_result"
    }
   ],
   "source": [
    "dwarfs2.append('Hungry')\n",
    "\n",
    "dwarfs2"
   ]
  },
  {
   "cell_type": "markdown",
   "metadata": {
    "colab_type": "text",
    "id": "p_7Y3aqEVfGv"
   },
   "source": [
    "## Q2e (3 points)\n",
    "### Insert a new dwarf, Booboo, as the second item in the list `dwarfs2` and show the new list value"
   ]
  },
  {
   "cell_type": "code",
   "execution_count": 38,
   "metadata": {
    "colab": {
     "base_uri": "https://localhost:8080/",
     "height": 34
    },
    "colab_type": "code",
    "id": "vwmB-SPyVeaL",
    "outputId": "d1e2b72b-ac5e-428e-e044-2ffa61e20b92"
   },
   "outputs": [
    {
     "data": {
      "text/plain": [
       "['Sneezy',\n",
       " 'Booboo',\n",
       " 'Sleepy',\n",
       " 'Scrappy',\n",
       " 'Happy',\n",
       " 'Grumpy',\n",
       " 'Doc',\n",
       " 'Bashful',\n",
       " 'Hungry']"
      ]
     },
     "execution_count": 38,
     "metadata": {},
     "output_type": "execute_result"
    }
   ],
   "source": [
    "dwarfs2.insert(1, 'Booboo')\n",
    "\n",
    "dwarfs2"
   ]
  },
  {
   "cell_type": "markdown",
   "metadata": {
    "colab_type": "text",
    "id": "rXoqu2XbX4DD"
   },
   "source": [
    "## Q3 (40 points)\n",
    "# Write a for loop to count the number of occurrences for each letter in a given string, `karl`\n",
    "## Specifications\n",
    "*  You must use the given string, `karl`, defined in the next cell\n",
    "*  Print the keys and values in a vertical format\n",
    "*  Do not count spaces\n",
    "\n",
    "\n",
    "\n"
   ]
  },
  {
   "cell_type": "code",
   "execution_count": 29,
   "metadata": {
    "colab": {},
    "colab_type": "code",
    "id": "QLs1wI4OFXAe"
   },
   "outputs": [],
   "source": [
    "karl =  \"I did have that inkling in the back of my mind though that my fondness for this university and getting a chance to be in this position would be a dream and it came true\""
   ]
  },
  {
   "cell_type": "markdown",
   "metadata": {
    "colab_type": "text",
    "id": "QQLtdxBK00to"
   },
   "source": [
    "### Write your code to count the number of occurrence of each letter in the next cell"
   ]
  },
  {
   "cell_type": "code",
   "execution_count": 31,
   "metadata": {
    "colab": {
     "base_uri": "https://localhost:8080/",
     "height": 408
    },
    "colab_type": "code",
    "id": "nkRjoKcvX8lv",
    "outputId": "bbc27f82-4074-45d5-a9fd-42eef2b39f8e"
   },
   "outputs": [
    {
     "name": "stdout",
     "output_type": "stream",
     "text": [
      "{'I': 1, 'd': 8, 'i': 14, 'h': 9, 'a': 11, 'v': 2, 'e': 11, 't': 15, 'n': 13, 'k': 2, 'l': 2, 'g': 4, 'b': 3, 'c': 4, 'o': 8, 'f': 3, 'm': 5, 'y': 3, 'u': 4, 's': 6, 'r': 4, 'p': 1, 'w': 1}\n"
     ]
    }
   ],
   "source": [
    "count = {}\n",
    "\n",
    "for letter in karl:\n",
    "    if letter != ' ':\n",
    "        count.setdefault(letter, 0)\n",
    "        count[letter] = count[letter] +1\n",
    "print(count)"
   ]
  },
  {
   "cell_type": "markdown",
   "metadata": {
    "colab_type": "text",
    "id": "fsRgpzaTG7FD"
   },
   "source": [
    "# Extra Credit (lookup question, +5 for correct response, 0 otherwise)\n",
    "## Sort the values in the dictionary you defined in the previous problem in descending order\n",
    ">- Your output would look like (you don't need to double space)\n",
    "\n",
    "t 15\n",
    "\n",
    "i 14\n",
    "\n",
    "ect.."
   ]
  },
  {
   "cell_type": "code",
   "execution_count": 103,
   "metadata": {
    "colab": {
     "base_uri": "https://localhost:8080/",
     "height": 442
    },
    "colab_type": "code",
    "id": "5qTjVDDeGXfw",
    "outputId": "111621c6-78e9-4740-dd70-c2931969d3da"
   },
   "outputs": [
    {
     "name": "stdout",
     "output_type": "stream",
     "text": [
      "t 15\n",
      "\n",
      "i 14\n",
      "\n",
      "n 13\n",
      "\n",
      "a 11\n",
      "\n",
      "e 11\n",
      "\n",
      "h 9\n",
      "\n",
      "d 8\n",
      "\n",
      "o 8\n",
      "\n",
      "s 6\n",
      "\n",
      "m 5\n",
      "\n",
      "g 4\n",
      "\n",
      "c 4\n",
      "\n",
      "u 4\n",
      "\n",
      "r 4\n",
      "\n",
      "b 3\n",
      "\n",
      "f 3\n",
      "\n",
      "y 3\n",
      "\n",
      "v 2\n",
      "\n",
      "k 2\n",
      "\n",
      "l 2\n",
      "\n",
      "I 1\n",
      "\n",
      "p 1\n",
      "\n",
      "w 1\n",
      "\n"
     ]
    }
   ],
   "source": [
    "for (k,v) in sorted(count.items(), key = lambda x: x[1], reverse = True):\n",
    "    print(k,v, end = '\\n\\n')"
   ]
  },
  {
   "cell_type": "markdown",
   "metadata": {
    "colab_type": "text",
    "id": "xTW5HuP-WPP2"
   },
   "source": [
    "# Q3\n",
    "## Undergraduate degrees,  placement rate, and starting salaries"
   ]
  },
  {
   "cell_type": "markdown",
   "metadata": {
    "colab_type": "text",
    "id": "qDC21GeSWTvq"
   },
   "source": [
    "## Q3a (3 points)\n",
    "### In the next cell, create a dictionary, `ug`, for the undergraduate degrees (as key), placement rates, and starting salaries based on the table give below. \n",
    "\n",
    "<style>\n",
    "table {float:left}\n",
    "</style>\n",
    "\n",
    "|Degree        | PlacementRate| Salaries |\n",
    "|:-----------: |:----------:  |:--------:|\n",
    "|Accounting    | 91           | 51690    |\n",
    "|Finance       | 94           | 52355    |\n",
    "|Info Mgmt     | 100          | 57350    |\n",
    "|Marketing     | 96           | 42968    |\n",
    "|Ops Mgmt      | 93           | 49279    |\n",
    "\n",
    "\n"
   ]
  },
  {
   "cell_type": "code",
   "execution_count": 54,
   "metadata": {
    "colab": {},
    "colab_type": "code",
    "id": "g8jKXGc6WUuw"
   },
   "outputs": [],
   "source": [
    "ug = {'Accounting': [91, 51690],\n",
    "      'Finance': [94, 52355],\n",
    "      'Info Mgmt': [100, 57350],\n",
    "      'Marketing': [96, 42968],\n",
    "      'Ops Mgmt': [93, 49279]}"
   ]
  },
  {
   "cell_type": "markdown",
   "metadata": {
    "colab_type": "text",
    "id": "A1ZDpGQqWa9n"
   },
   "source": [
    "## Q3b (3 points)\n",
    "### In the next cell write the code to show all the keys from the `ug` dictionary"
   ]
  },
  {
   "cell_type": "code",
   "execution_count": 57,
   "metadata": {
    "colab": {
     "base_uri": "https://localhost:8080/",
     "height": 102
    },
    "colab_type": "code",
    "id": "n_f1cnETWepu",
    "outputId": "9458718c-1ea1-43a1-857f-a21407e4d07e"
   },
   "outputs": [
    {
     "name": "stdout",
     "output_type": "stream",
     "text": [
      "Accounting\n",
      "Finance\n",
      "Info Mgmt\n",
      "Marketing\n",
      "Ops Mgmt\n"
     ]
    }
   ],
   "source": [
    "for key in ug.keys():\n",
    "    print(key)"
   ]
  },
  {
   "cell_type": "markdown",
   "metadata": {
    "colab_type": "text",
    "id": "AEJqMUlpWh6Y"
   },
   "source": [
    "## Q3c (3 points)\n",
    "### In the next cell write the code to show all the values from the `ug` dictionary"
   ]
  },
  {
   "cell_type": "code",
   "execution_count": 58,
   "metadata": {
    "colab": {
     "base_uri": "https://localhost:8080/",
     "height": 102
    },
    "colab_type": "code",
    "id": "38ub05fcWkiD",
    "outputId": "dbfda2bd-2a80-4328-cad7-82d4adddde40"
   },
   "outputs": [
    {
     "name": "stdout",
     "output_type": "stream",
     "text": [
      "[91, 51690]\n",
      "[94, 52355]\n",
      "[100, 57350]\n",
      "[96, 42968]\n",
      "[93, 49279]\n"
     ]
    }
   ],
   "source": [
    "for v in ug.values():\n",
    "    print(v)"
   ]
  },
  {
   "cell_type": "markdown",
   "metadata": {
    "colab_type": "text",
    "id": "64DiJvmqWoNZ"
   },
   "source": [
    "## Q3d (3 points)\n",
    "### In the next cell write the code to show all the keys and their values from the `ug` dictionary\n",
    " "
   ]
  },
  {
   "cell_type": "code",
   "execution_count": 60,
   "metadata": {
    "colab": {
     "base_uri": "https://localhost:8080/",
     "height": 102
    },
    "colab_type": "code",
    "id": "Efa66DxKWogt",
    "outputId": "f4989305-84f0-4e83-aaba-f7262ffb331d"
   },
   "outputs": [
    {
     "name": "stdout",
     "output_type": "stream",
     "text": [
      "Accounting, [91, 51690]\n",
      "Finance, [94, 52355]\n",
      "Info Mgmt, [100, 57350]\n",
      "Marketing, [96, 42968]\n",
      "Ops Mgmt, [93, 49279]\n"
     ]
    }
   ],
   "source": [
    "for (k,v) in ug.items():\n",
    "    print(f'{k}, {v}')"
   ]
  },
  {
   "cell_type": "markdown",
   "metadata": {
    "colab_type": "text",
    "id": "NnHuFOBMWsf1"
   },
   "source": [
    "## Q3e (3 points)\n",
    "### In the next cell return the starting salary for 'Info Mgmt' majors\n",
    ">- Must use dictionary syntax (don't just look at the table and type the number)"
   ]
  },
  {
   "cell_type": "code",
   "execution_count": 61,
   "metadata": {
    "colab": {
     "base_uri": "https://localhost:8080/",
     "height": 34
    },
    "colab_type": "code",
    "id": "eZGIsIoEWvx9",
    "outputId": "9fba34b6-80ed-47bc-eb95-7090da6c5a76"
   },
   "outputs": [
    {
     "data": {
      "text/plain": [
       "57350"
      ]
     },
     "execution_count": 61,
     "metadata": {},
     "output_type": "execute_result"
    }
   ],
   "source": [
    "ug['Info Mgmt'][1]"
   ]
  },
  {
   "cell_type": "markdown",
   "metadata": {
    "colab_type": "text",
    "id": "TAPwqHt4W0OA"
   },
   "source": [
    "## Q3f (3 points)\n",
    "### In the next cell return the placement rate for 'Marketing' majors\n",
    ">- Must use dictionary syntax (don't just look at the table and type the number)"
   ]
  },
  {
   "cell_type": "code",
   "execution_count": 62,
   "metadata": {
    "colab": {
     "base_uri": "https://localhost:8080/",
     "height": 34
    },
    "colab_type": "code",
    "id": "gr7xU0lFW165",
    "outputId": "b80f5f27-28e5-41f7-8316-7e9cf873d63e"
   },
   "outputs": [
    {
     "data": {
      "text/plain": [
       "96"
      ]
     },
     "execution_count": 62,
     "metadata": {},
     "output_type": "execute_result"
    }
   ],
   "source": [
    "ug['Marketing'][0]"
   ]
  },
  {
   "cell_type": "markdown",
   "metadata": {
    "colab_type": "text",
    "id": "aNYvkdgbW4IF"
   },
   "source": [
    "## Q3g (9 points)\n",
    "### In the next cell, write code to calculate the average salaries and placement rates\n",
    ">- Note: Don't return any output in the next cell, just the code to calculate and store the averages.\n",
    ">- Round your averages to 2 decimal places. "
   ]
  },
  {
   "cell_type": "code",
   "execution_count": 93,
   "metadata": {
    "colab": {
     "base_uri": "https://localhost:8080/",
     "height": 34
    },
    "colab_type": "code",
    "id": "WVnBvhDHW6-w",
    "outputId": "a390680e-21e0-437a-8aea-ac2219dfbe2d"
   },
   "outputs": [],
   "source": [
    "sumPlace = 0\n",
    "sumSal = 0\n",
    "\n",
    "for k in ug:\n",
    "    sumPlace += ug[k][0]\n",
    "    sumSal += ug[k][1]\n",
    "    avgPlace = round(sumPlace/len(ug),2)\n",
    "    avgSal = round(sumSal/len(ug),2)"
   ]
  },
  {
   "cell_type": "markdown",
   "metadata": {},
   "source": [
    "### In the next cell print out the values for the average salaries and placement rates"
   ]
  },
  {
   "cell_type": "code",
   "execution_count": 95,
   "metadata": {
    "scrolled": true
   },
   "outputs": [
    {
     "name": "stdout",
     "output_type": "stream",
     "text": [
      "The average placement rate is 94.80%\n",
      "The average Salary is $50728.40\n"
     ]
    }
   ],
   "source": [
    "print(f'The average placement rate is {avgPlace:.2f}%')\n",
    "print(f'The average Salary is ${avgSal:.2f}')"
   ]
  },
  {
   "cell_type": "markdown",
   "metadata": {
    "colab_type": "text",
    "id": "8yhkrSn7W87D"
   },
   "source": [
    "# Q4 (20 points)\n",
    "## Executive Summary Statement\n",
    "### In the next cell, write code to nicely print out the following results in complete sentences\n",
    "Your statement should include:\n",
    "\n",
    "1. The total sample size (i.e., degrees) found in the `ug` dataset \n",
    "2. The average salaries across all majors from the `ug` dataset\n",
    "3. The average placement rate across all majors\n",
    "4. Start your statement with the following text: \n",
    "\n",
    "\"Dear Dean Matusik, here is a quick summary of results regarding placement rates and salaries:\""
   ]
  },
  {
   "cell_type": "code",
   "execution_count": 96,
   "metadata": {
    "colab": {
     "base_uri": "https://localhost:8080/",
     "height": 85
    },
    "colab_type": "code",
    "id": "eDi6gnqDW-Zw",
    "outputId": "de4e0e57-3a2f-4d80-9843-051c063bc66a"
   },
   "outputs": [
    {
     "name": "stdout",
     "output_type": "stream",
     "text": [
      "Dear Dean Matusik, \n",
      "  Here is a quick summary of results regarding placement rates and salaries:\n",
      "  \n",
      "  Majors analized: 5 \n",
      "      ['Accounting', 'Finance', 'Info Mgmt', 'Marketing', 'Ops Mgmt']\n",
      "  \n",
      "  Average starting salary accross all majors: $50728.40\n",
      "  \n",
      "  Average placement rate accross all majors: 94.80%\n",
      "     \n"
     ]
    }
   ],
   "source": [
    "degrees = len(ug)\n",
    "\n",
    "titles = []\n",
    "for k in ug.keys():\n",
    "    titles.append(k)\n",
    "\n",
    "print(f'''Dear Dean Matusik, \n",
    "  Here is a quick summary of results regarding placement rates and salaries:\n",
    "  \n",
    "  Majors analized: {degrees} \n",
    "      {titles}\n",
    "  \n",
    "  Average starting salary accross all majors: ${avgSal:.2f}\n",
    "  \n",
    "  Average placement rate accross all majors: {avgPlace:.2f}%\n",
    "     ''')"
   ]
  }
 ],
 "metadata": {
  "colab": {
   "collapsed_sections": [],
   "name": "Quiz6_Draft_Wanswers.ipynb",
   "provenance": []
  },
  "kernelspec": {
   "display_name": "Python 3",
   "language": "python",
   "name": "python3"
  },
  "language_info": {
   "codemirror_mode": {
    "name": "ipython",
    "version": 3
   },
   "file_extension": ".py",
   "mimetype": "text/x-python",
   "name": "python",
   "nbconvert_exporter": "python",
   "pygments_lexer": "ipython3",
   "version": "3.7.4"
  },
  "latex_envs": {
   "LaTeX_envs_menu_present": true,
   "autoclose": false,
   "autocomplete": true,
   "bibliofile": "biblio.bib",
   "cite_by": "apalike",
   "current_citInitial": 1,
   "eqLabelWithNumbers": true,
   "eqNumInitial": 1,
   "hotkeys": {
    "equation": "Ctrl-E",
    "itemize": "Ctrl-I"
   },
   "labels_anchors": false,
   "latex_user_defs": false,
   "report_style_numbering": false,
   "user_envs_cfg": false
  }
 },
 "nbformat": 4,
 "nbformat_minor": 1
}
