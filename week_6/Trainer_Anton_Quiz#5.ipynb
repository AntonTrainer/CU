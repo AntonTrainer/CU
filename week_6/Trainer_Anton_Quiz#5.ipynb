{
 "cells": [
  {
   "cell_type": "markdown",
   "metadata": {
    "azdata_cell_guid": "5002647f-ddab-4226-912d-92b7809a94cd",
    "colab_type": "text",
    "id": "tc4XxVMj5J5-"
   },
   "source": [
    "# BAIM 3220: Introduction to Python\n",
    "## Quiz #5: Functions & Lists\n",
    "## After downloading this .ipynb file from Canvas, resave with the following naming format:\n",
    ">- LastName_FirstName_Quiz5.ipynb\n",
    "\n",
    "\n",
    "## When you are ready to submit your quiz, upload your .ipynb file to the Quiz#5 dropbox on Canvas\n",
    ">- Note: You need to complete the M/C,T/F, fill in the blank questions on the Canvas quiz AND upload this file before the quiz time is up"
   ]
  },
  {
   "cell_type": "markdown",
   "metadata": {
    "azdata_cell_guid": "e34254db-9082-4653-b0f8-d9d0598f668d",
    "colab_type": "text",
    "id": "I4T3J5vN5J6A"
   },
   "source": [
    "# Q1 (40 points) Area of Circle Function\n",
    "## In the next cell define a function, `cirArea`, to calculate and print the area of a circle\n",
    "### Specifications:\n",
    ">- Assume pi=3.14\n",
    ">- Your function should only have one parameter, `diameter`, passed to it\n",
    ">- If you forgot how to calculate the area of a circle, look it up (Google it). \n",
    ">- Print a statement describing the area of the circle \n",
    ">>- For example, if passed 100 as the parameter, your function should print a statement: \"The area of your circle is: 7850 units squared\""
   ]
  },
  {
   "cell_type": "code",
   "execution_count": 2,
   "metadata": {
    "azdata_cell_guid": "bd309a29-9aba-4183-9bff-7769e986a154",
    "colab": {},
    "colab_type": "code",
    "id": "IWqxYx0i5J6B"
   },
   "outputs": [],
   "source": [
    "pi = 3.14\n",
    "\n",
    "def cirArea(diameter):\n",
    "    area = pi * (diameter/2)**2\n",
    "    print(f'The area of your circle is: {area}')\n",
    "    "
   ]
  },
  {
   "cell_type": "markdown",
   "metadata": {
    "azdata_cell_guid": "a275f2eb-c73f-4f8a-a0b1-84ba8f0b374b",
    "colab_type": "text",
    "id": "9OtNf9vk5J6F"
   },
   "source": [
    "### In the next cell pass 100 to your `cirArea` function and show the result. "
   ]
  },
  {
   "cell_type": "code",
   "execution_count": 4,
   "metadata": {
    "azdata_cell_guid": "d5984ddd-2c4e-46d3-bdac-1496f60c186f",
    "colab": {
     "base_uri": "https://localhost:8080/",
     "height": 34
    },
    "colab_type": "code",
    "id": "KNgDXoxl5J6G",
    "outputId": "c272857a-7c98-4e3d-b4e3-864ba0ff8fe0"
   },
   "outputs": [
    {
     "name": "stdout",
     "output_type": "stream",
     "text": [
      "The area of your circle is: 7850.0\n"
     ]
    }
   ],
   "source": [
    "cirArea(100)"
   ]
  },
  {
   "cell_type": "markdown",
   "metadata": {
    "azdata_cell_guid": "7ef817ae-1126-45ec-9bb2-04d35330acec",
    "colab_type": "text",
    "id": "drI1lK1P5J6J"
   },
   "source": [
    "# Q2 (40 points) Factorial of a number\n",
    "## In the next cell define a function, `fact`, to calculate and print the factorial of a number\n",
    ">- If you don't remember what a factorial is, look it up\n",
    "### Specifications:\n",
    ">- Your function should have only one parameter for the number you want to find the factorial of\n",
    ">- Do not import any modules for this question\n",
    ">- You must use a `for` loop\n",
    ">- For example, if passed 7 as the parameter, your function should print a statement: \"The factorial of 7 is 5040\""
   ]
  },
  {
   "cell_type": "code",
   "execution_count": 10,
   "metadata": {
    "azdata_cell_guid": "e99ab815-d0ca-4105-a2c6-cacd6935898d",
    "colab": {},
    "colab_type": "code",
    "id": "p9a4hSsE5J6K"
   },
   "outputs": [],
   "source": [
    "def fact(number):\n",
    "    factoral = 1\n",
    "    \n",
    "    for num in range(1, number + 1):\n",
    "        factoral = factoral * num\n",
    "\n",
    "    print(f\"factoral of {number} = {factoral}\")\n"
   ]
  },
  {
   "cell_type": "markdown",
   "metadata": {
    "azdata_cell_guid": "8a543c94-c596-46a9-9ed9-58abd672d867"
   },
   "source": [
    "#### In the next cell pass the number, 7, to `fact` and show the result"
   ]
  },
  {
   "cell_type": "code",
   "execution_count": 13,
   "metadata": {
    "azdata_cell_guid": "863be955-b83c-4620-ac83-2c40f814e713"
   },
   "outputs": [
    {
     "name": "stdout",
     "output_type": "stream",
     "text": [
      "factoral of 7 = 5040\n"
     ]
    }
   ],
   "source": [
    "fact(7)"
   ]
  },
  {
   "cell_type": "markdown",
   "metadata": {
    "azdata_cell_guid": "3e5ddc32-2fe7-4bf1-80a2-96b30d6ba820",
    "colab_type": "text",
    "id": "jE6Gy4zcCXxi"
   },
   "source": [
    "## Q3a (3 points)\n",
    "### In the next cell, create a list, `dwarfs`, based off the 7 dwarfs:\n",
    ">- Happy, Sleepy, Doc, Bashful, Sneezy, Grumpy, Dopey\n"
   ]
  },
  {
   "cell_type": "code",
   "execution_count": 14,
   "metadata": {
    "azdata_cell_guid": "28f27265-6fc9-4ea2-b41f-9f5bbe97adb8",
    "colab": {},
    "colab_type": "code",
    "id": "13i3A0JMCYgD"
   },
   "outputs": [],
   "source": [
    "dwarfs = ['Happy', 'Sleepy' , 'Doc', 'Bashful', 'Sneezy', 'Grumpy', 'Dopey']"
   ]
  },
  {
   "cell_type": "markdown",
   "metadata": {
    "azdata_cell_guid": "64fc3727-a735-4e26-8f22-60d37e5a4a7e",
    "colab_type": "text",
    "id": "4E1FIXR1Chb8"
   },
   "source": [
    "## Q3b (3 points)\n",
    "### In the next cell, create a slice to return the first three dwarfs"
   ]
  },
  {
   "cell_type": "code",
   "execution_count": 16,
   "metadata": {
    "azdata_cell_guid": "2855d911-a9e2-4df2-9176-145b77cc825a",
    "colab": {
     "base_uri": "https://localhost:8080/",
     "height": 34
    },
    "colab_type": "code",
    "id": "lNe9RxP0Ceu6",
    "outputId": "26f5256f-9135-4c9f-fb79-a05536055da7"
   },
   "outputs": [
    {
     "data": {
      "text/plain": [
       "['Happy', 'Sleepy', 'Doc']"
      ]
     },
     "execution_count": 16,
     "metadata": {},
     "output_type": "execute_result"
    }
   ],
   "source": [
    "dwarfs[:3]"
   ]
  },
  {
   "cell_type": "markdown",
   "metadata": {
    "azdata_cell_guid": "92604a7c-750b-4d02-b9ea-ac9f2776a252",
    "colab_type": "text",
    "id": "9eUd9iQYCj6h"
   },
   "source": [
    "## Q3c (3 points)\n",
    "### In the next cell, create a slice to return the middle three dwarfs"
   ]
  },
  {
   "cell_type": "code",
   "execution_count": 19,
   "metadata": {
    "azdata_cell_guid": "13fc9537-1c5e-4e5e-aed2-9702dc0eceda",
    "colab": {
     "base_uri": "https://localhost:8080/",
     "height": 34
    },
    "colab_type": "code",
    "id": "rU5cI52zCh1p",
    "outputId": "0e6914c8-68db-443b-e2f6-c1cebac9b491"
   },
   "outputs": [
    {
     "data": {
      "text/plain": [
       "['Doc', 'Bashful', 'Sneezy']"
      ]
     },
     "execution_count": 19,
     "metadata": {},
     "output_type": "execute_result"
    }
   ],
   "source": [
    "dwarfs[2:5]"
   ]
  }
 ],
 "metadata": {
  "kernelspec": {
   "display_name": "Python 3",
   "language": "python",
   "name": "python3"
  },
  "language_info": {
   "codemirror_mode": {
    "name": "ipython",
    "version": 3
   },
   "file_extension": ".py",
   "mimetype": "text/x-python",
   "name": "python",
   "nbconvert_exporter": "python",
   "pygments_lexer": "ipython3",
   "version": "3.7.4"
  }
 },
 "nbformat": 4,
 "nbformat_minor": 2
}
