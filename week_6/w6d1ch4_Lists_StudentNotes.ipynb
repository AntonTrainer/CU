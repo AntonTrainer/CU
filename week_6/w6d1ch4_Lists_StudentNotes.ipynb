{
 "cells": [
  {
   "cell_type": "code",
   "execution_count": null,
   "metadata": {},
   "outputs": [],
   "source": [
    "#The first cell is just to align our markdown tables to the left vs. center"
   ]
  },
  {
   "cell_type": "code",
   "execution_count": null,
   "metadata": {},
   "outputs": [],
   "source": [
    "%%html\n",
    "<style>\n",
    "table {float:left}\n",
    "</style>"
   ]
  },
  {
   "cell_type": "markdown",
   "metadata": {},
   "source": [
    "# Python Lists and List-Like Data types\n",
    "## Teaching Notes\n",
    "***\n",
    "## Learning Objectives\n",
    "In this lesson you will: \n",
    "\n",
    "        1. Learn the fundamentals of lists in Python\n",
    "        2. Work with lists in Python\n",
    "        3. Define data structure\n",
    "        3. Apply methods to modify lists\n",
    "               \n",
    "## Modules covered in this lesson: \n",
    ">- copy\n",
    "\n",
    "## Links to topics and functions:\n",
    ">- <a id='Lists'></a>[List Notes](#Initial-Notes-on-Lists)\n",
    ">- <a id='methods'></a>[list methods](#Using-Methods-to-Work-with-Lists)\n",
    ">- <a id='HW'></a> [Homework](#Homework)\n",
    "\n",
    "## Path to main python folder: C:\\\\Users\\\\mimc2537\\OneDrive - UCB-O365\\python\\week6\n",
    "### References: Sweigart(2015, pp. 79-103)\n",
    "#### Don't forget about the Python visualizer tool: http://pythontutor.com/visualize.html#mode=display\n",
    "\n",
    "## Functions covered in this lesson:\n",
    "|List Methods  | Functions|\n",
    "|:-----------: |:--------:|\n",
    "|index()       | list()   |\n",
    "|append()      | tuple()  |\n",
    "|remove()      | copy()   |\n",
    "|sort()        | deepcopy()|\n",
    "\n",
    "\n",
    "\n",
    "\n",
    "\n"
   ]
  },
  {
   "cell_type": "markdown",
   "metadata": {
    "slideshow": {
     "slide_type": "slide"
    }
   },
   "source": [
    "# Initial Notes on Lists\n",
    ">- Lists and the list-like tuple can contain multiple values which makes it easier to write programs that handle large amounts of data\n",
    ">> - `List Definition`: a *list* is a value that contains multiple values in an ordered sequence\n",
    ">>>- Lists start with a `[` and end with a `]`\n",
    ">>- *List value* vs values in a list\n",
    ">>>- The *list value* is the value associated with the entire list and can be stored in a variable or passed to functions like any other value\n",
    ">>>- Values within a list are also known as *items* \n",
    "\n",
    "# When do we typically use lists? \n",
    ">- Lists are one of the most common data structures programmers use\n",
    ">- And the short answer is that we use lists whenever we have a need that matches the list data structure's useful features such as:\n",
    "1. We use lists if we need to maintain order. \n",
    ">>- By order we don't me sorted order, just listed order. But we will learn how to sort lists as well. \n",
    "2. If you need to access the contents randomly by a number\n",
    ">>- Items in a list are all associated with an index number so we can access various data types within a list by the index number\n",
    "3. If we need to go through the contents linearly (i.e., first to last)\n",
    ">>- And this is where `for-loops` come into play because they go through a list from start to end\n",
    "\n",
    "## So ask yourself these questions to see if you want to use a list in Python\n",
    "1. Do you want an ordered list of something? \n",
    "2. Do you want to store the ordered list?\n",
    "3. Do you want to access the things in the list randomly or linearly?\n",
    ">- If you answer *yes* to these questions then you want to use a list in your Python program\n",
    "\n"
   ]
  },
  {
   "cell_type": "markdown",
   "metadata": {},
   "source": [
    "# Notice the term `data structure` in the previous explanation of lists? \n",
    "## So what is a `data structure`? \n",
    ">- Basically a data structure is a formal way to structure (organize) some data (facts)\n",
    ">- Some data structures can get very complex but just remember all they are is just a way to store facts in a program, that's it. \n",
    ">>- Lists in programming are really not different than lists in other areas of life they just live in a computer \n",
    "\n",
    "#### Let's work through some examples to get more familiar with lists, list values, and items."
   ]
  },
  {
   "cell_type": "code",
   "execution_count": 3,
   "metadata": {},
   "outputs": [],
   "source": [
    "hairs = ['blonde', 'brown', 'bleck']\n"
   ]
  },
  {
   "cell_type": "code",
   "execution_count": 4,
   "metadata": {},
   "outputs": [
    {
     "name": "stdout",
     "output_type": "stream",
     "text": [
      "blonde\n",
      "brown\n",
      "bleck\n"
     ]
    }
   ],
   "source": [
    "for i in hairs:\n",
    "    print(i)"
   ]
  },
  {
   "cell_type": "code",
   "execution_count": 8,
   "metadata": {},
   "outputs": [
    {
     "name": "stdout",
     "output_type": "stream",
     "text": [
      "[0]\n",
      "[0, 1]\n",
      "[0, 1, 2]\n",
      "[0, 1, 2, 3]\n",
      "[0, 1, 2, 3, 4]\n"
     ]
    },
    {
     "data": {
      "text/plain": [
       "[0, 1, 2, 3, 4]"
      ]
     },
     "execution_count": 8,
     "metadata": {},
     "output_type": "execute_result"
    }
   ],
   "source": [
    "list_build = []\n",
    "\n",
    "for i in range(5):\n",
    "    list_build.append(i)\n",
    "    print(list_build)\n",
    "    \n",
    "list_build"
   ]
  },
  {
   "cell_type": "markdown",
   "metadata": {},
   "source": [
    "#### Note: the entire list we see in the output of the previous cell is the value for listbuild\n",
    "##### This is different then the individual values (aka items) in the list\n",
    "\n"
   ]
  },
  {
   "cell_type": "markdown",
   "metadata": {},
   "source": [
    "#### Another Note: Python considers the return value from `range(5)` the list-like value: [0,1,2,3,4]\n"
   ]
  },
  {
   "cell_type": "code",
   "execution_count": 20,
   "metadata": {},
   "outputs": [
    {
     "name": "stdout",
     "output_type": "stream",
     "text": [
      "0\n",
      "1\n",
      "2\n",
      "3\n",
      "4\n"
     ]
    }
   ],
   "source": [
    "for i in range(5):\n",
    "    print(i)\n",
    "    "
   ]
  },
  {
   "cell_type": "code",
   "execution_count": 21,
   "metadata": {},
   "outputs": [
    {
     "name": "stdout",
     "output_type": "stream",
     "text": [
      "0\n",
      "1\n",
      "2\n",
      "3\n",
      "4\n"
     ]
    }
   ],
   "source": [
    "for i in [0,1,2,3,4]:\n",
    "    print(i)"
   ]
  },
  {
   "cell_type": "code",
   "execution_count": 22,
   "metadata": {},
   "outputs": [
    {
     "name": "stdout",
     "output_type": "stream",
     "text": [
      "Iteration, i = 0\n",
      "0\n",
      "Iteration, i = 1\n",
      "1\n",
      "Iteration, i = 2\n",
      "2\n",
      "Iteration, i = 3\n",
      "3\n",
      "Iteration, i = 4\n",
      "4\n"
     ]
    }
   ],
   "source": [
    "for i in [0,1,2,3,4]:\n",
    "    print(f'Iteration, i = {i}')\n",
    "    print(i)"
   ]
  },
  {
   "cell_type": "code",
   "execution_count": 24,
   "metadata": {},
   "outputs": [
    {
     "name": "stdout",
     "output_type": "stream",
     "text": [
      "iteration, i = buffs\n",
      "buffs\n",
      "iteration, i = ralphie\n",
      "ralphie\n",
      "iteration, i = blah\n",
      "blah\n",
      "iteration, i = cu sucks\n",
      "cu sucks\n"
     ]
    }
   ],
   "source": [
    "cuB = ['buffs', 'ralphie', 'blah', 'cu sucks']\n",
    "\n",
    "for i in cuB:\n",
    "    print(f'iteration, i = {i}')\n",
    "    print(i)"
   ]
  },
  {
   "cell_type": "code",
   "execution_count": 25,
   "metadata": {},
   "outputs": [
    {
     "name": "stdout",
     "output_type": "stream",
     "text": [
      " The item at index i = 0, is buffs\n",
      " The item at index i = 1, is ralphie\n",
      " The item at index i = 2, is blah\n",
      " The item at index i = 3, is cu sucks\n"
     ]
    }
   ],
   "source": [
    "for i in range(4):\n",
    "    print(f' The item at index i = {i}, is {cuB[i]}')"
   ]
  },
  {
   "cell_type": "markdown",
   "metadata": {},
   "source": [
    "##### What if we want all items in the list? "
   ]
  },
  {
   "cell_type": "code",
   "execution_count": 26,
   "metadata": {},
   "outputs": [
    {
     "name": "stdout",
     "output_type": "stream",
     "text": [
      "['buffs', 'ralphie', 'blah', 'cu sucks']\n"
     ]
    }
   ],
   "source": [
    "print(cuB)"
   ]
  },
  {
   "cell_type": "markdown",
   "metadata": {},
   "source": [
    "##### But what if our list is really long, we want to print all items in it, and we don't know how many items there are? \n",
    ">- You can either count them manually or use your Python ninja skills to get them"
   ]
  },
  {
   "cell_type": "code",
   "execution_count": 27,
   "metadata": {},
   "outputs": [
    {
     "data": {
      "text/plain": [
       "4"
      ]
     },
     "execution_count": 27,
     "metadata": {},
     "output_type": "execute_result"
    }
   ],
   "source": [
    "len(cuB)"
   ]
  },
  {
   "cell_type": "code",
   "execution_count": 29,
   "metadata": {},
   "outputs": [
    {
     "name": "stdout",
     "output_type": "stream",
     "text": [
      "the item at index i = 0 is buffs\n",
      "the item at index i = 1 is ralphie\n",
      "the item at index i = 2 is blah\n",
      "the item at index i = 3 is cu sucks\n",
      "The total number of items in my list is, 4\n"
     ]
    }
   ],
   "source": [
    "for i in range(len(cuB)):\n",
    "    print(f'the item at index i = {i} is {cuB[i]}')\n",
    "    \n",
    "print(f'The total number of items in my list is, {len(cuB)}')"
   ]
  },
  {
   "cell_type": "markdown",
   "metadata": {},
   "source": [
    "# Now let's back up and look at our code\n",
    "\n",
    "### Notice how we wrote: cuB[i]? \n",
    ">- Basically, what the `[i]` part of that code does is tell Python what index in the list to access\n",
    ">- And because we were using a loop we told Python to loop through all the items in the list with `cuB[i]`\n",
    "\n",
    "### We can access various items in a list using the basic syntax of: listName[indexNumber]\n",
    ">- For example, cuB[0], would access the first element in our list\n",
    ">>- Recall that index, 0, is the first item in a list"
   ]
  },
  {
   "cell_type": "markdown",
   "metadata": {},
   "source": [
    "### Now let's try accessing stuff in a list"
   ]
  },
  {
   "cell_type": "code",
   "execution_count": 31,
   "metadata": {},
   "outputs": [],
   "source": [
    "animals = ['bear', 'tiger', 'penguin', 'zebra']"
   ]
  },
  {
   "cell_type": "code",
   "execution_count": 33,
   "metadata": {},
   "outputs": [
    {
     "data": {
      "text/plain": [
       "'penguin'"
      ]
     },
     "execution_count": 33,
     "metadata": {},
     "output_type": "execute_result"
    }
   ],
   "source": [
    "# An example of a retarded question that the retards may ask ---> Now, return the THIRD animal in the list\n",
    "\n",
    "animals[2]"
   ]
  },
  {
   "cell_type": "markdown",
   "metadata": {},
   "source": [
    "#### Why is the third animal in the list at the index of 2? \n",
    ">- Basically because that is how programming counts stuff. Programming starts counting at 0, not 1. \n",
    ">- So what that means for us is that we have to subtract 1 when someone asks us to pull a value at a certain order number. "
   ]
  },
  {
   "cell_type": "markdown",
   "metadata": {},
   "source": [
    "### Now let's try accessing multiple items in the list with something called `slicing`\n",
    ">- Slicing lets us get a sublist from a list\n"
   ]
  },
  {
   "cell_type": "code",
   "execution_count": 35,
   "metadata": {},
   "outputs": [
    {
     "data": {
      "text/plain": [
       "['bear', 'tiger']"
      ]
     },
     "execution_count": 35,
     "metadata": {},
     "output_type": "execute_result"
    }
   ],
   "source": [
    "#If you want the first 2 items, start inclusive, end exclusive\n",
    "\n",
    "animals[0:2] "
   ]
  },
  {
   "cell_type": "code",
   "execution_count": 36,
   "metadata": {},
   "outputs": [
    {
     "data": {
      "text/plain": [
       "['penguin', 'zebra']"
      ]
     },
     "execution_count": 36,
     "metadata": {},
     "output_type": "execute_result"
    }
   ],
   "source": [
    "animals[-2:]"
   ]
  },
  {
   "cell_type": "code",
   "execution_count": 38,
   "metadata": {
    "slideshow": {
     "slide_type": "slide"
    }
   },
   "outputs": [
    {
     "data": {
      "text/plain": [
       "['penguin']"
      ]
     },
     "execution_count": 38,
     "metadata": {},
     "output_type": "execute_result"
    }
   ],
   "source": [
    "animals[-2:-1]"
   ]
  },
  {
   "cell_type": "markdown",
   "metadata": {},
   "source": [
    "#### Q: Why doesn't `animals[-2:-1]` give us the last two items? "
   ]
  },
  {
   "cell_type": "markdown",
   "metadata": {},
   "source": [
    "## Let's slice up some more lists to get good at this"
   ]
  },
  {
   "cell_type": "code",
   "execution_count": 8,
   "metadata": {},
   "outputs": [],
   "source": [
    "stuff = ['ok', 'day', 'nights', 'song', 'spam', 'ham', 'girl', 'boy', 'lady', 'man']\n"
   ]
  },
  {
   "cell_type": "code",
   "execution_count": 41,
   "metadata": {},
   "outputs": [
    {
     "data": {
      "text/plain": [
       "['day', 'nights', 'song', 'spam', 'ham', 'girl', 'boy', 'lady']"
      ]
     },
     "execution_count": 41,
     "metadata": {},
     "output_type": "execute_result"
    }
   ],
   "source": [
    "#return second to the second to last values in the list by slicing it\n",
    "\n",
    "stuff[1:-1]"
   ]
  },
  {
   "cell_type": "code",
   "execution_count": 42,
   "metadata": {},
   "outputs": [
    {
     "data": {
      "text/plain": [
       "'spam'"
      ]
     },
     "execution_count": 42,
     "metadata": {},
     "output_type": "execute_result"
    }
   ],
   "source": [
    "#return the 5th item in the stuff list\n",
    "\n",
    "stuff[4]"
   ]
  },
  {
   "cell_type": "code",
   "execution_count": null,
   "metadata": {},
   "outputs": [],
   "source": []
  },
  {
   "cell_type": "markdown",
   "metadata": {},
   "source": [
    "### Q: How many items are in the stuff list? "
   ]
  },
  {
   "cell_type": "code",
   "execution_count": 43,
   "metadata": {},
   "outputs": [
    {
     "data": {
      "text/plain": [
       "10"
      ]
     },
     "execution_count": 43,
     "metadata": {},
     "output_type": "execute_result"
    }
   ],
   "source": [
    "len(stuff)"
   ]
  },
  {
   "cell_type": "markdown",
   "metadata": {},
   "source": [
    "### Q: Is a certain item in a list? \n",
    ">- Using the `in` and `not in` operators to search a list\n",
    ">- Note: SQL uses similar keywords to filter results from a database"
   ]
  },
  {
   "cell_type": "code",
   "execution_count": 44,
   "metadata": {},
   "outputs": [
    {
     "data": {
      "text/plain": [
       "False"
      ]
     },
     "execution_count": 44,
     "metadata": {},
     "output_type": "execute_result"
    }
   ],
   "source": [
    "'tomato' in stuff\n"
   ]
  },
  {
   "cell_type": "code",
   "execution_count": 45,
   "metadata": {},
   "outputs": [
    {
     "data": {
      "text/plain": [
       "True"
      ]
     },
     "execution_count": 45,
     "metadata": {},
     "output_type": "execute_result"
    }
   ],
   "source": [
    "'nights' in stuff"
   ]
  },
  {
   "cell_type": "code",
   "execution_count": 46,
   "metadata": {},
   "outputs": [
    {
     "data": {
      "text/plain": [
       "False"
      ]
     },
     "execution_count": 46,
     "metadata": {},
     "output_type": "execute_result"
    }
   ],
   "source": [
    "'Nights' in stuff"
   ]
  },
  {
   "cell_type": "code",
   "execution_count": 47,
   "metadata": {},
   "outputs": [
    {
     "data": {
      "text/plain": [
       "True"
      ]
     },
     "execution_count": 47,
     "metadata": {},
     "output_type": "execute_result"
    }
   ],
   "source": [
    "'tomato' not in stuff"
   ]
  },
  {
   "cell_type": "code",
   "execution_count": 50,
   "metadata": {},
   "outputs": [
    {
     "data": {
      "text/plain": [
       "True"
      ]
     },
     "execution_count": 50,
     "metadata": {},
     "output_type": "execute_result"
    }
   ],
   "source": [
    "'this' not in stuff"
   ]
  },
  {
   "cell_type": "code",
   "execution_count": 49,
   "metadata": {},
   "outputs": [
    {
     "data": {
      "text/plain": [
       "False"
      ]
     },
     "execution_count": 49,
     "metadata": {},
     "output_type": "execute_result"
    }
   ],
   "source": [
    "'nonnon' in stuff"
   ]
  },
  {
   "cell_type": "markdown",
   "metadata": {},
   "source": [
    "## Let's do more things to lists such as:\n",
    ">- Changing values in list\n",
    ">- List concatenation and replication\n",
    ">- Remove values from a list"
   ]
  },
  {
   "cell_type": "markdown",
   "metadata": {},
   "source": [
    "### Changing values in a list"
   ]
  },
  {
   "cell_type": "code",
   "execution_count": 9,
   "metadata": {},
   "outputs": [
    {
     "name": "stdout",
     "output_type": "stream",
     "text": [
      "['ok', 'day', 'nights', 'song', 'spam', 'ham', 'girl', 'boy', 'lady', 'man']\n",
      "['ok', 'howdy', 'nights', 'song', 'spam', 'ham', 'girl', 'boy', 'lady', 'man']\n"
     ]
    }
   ],
   "source": [
    "# Change the second value in the stuff list to 'howdy' and add print statements before and after the change \n",
    "\n",
    "print(stuff)\n",
    "\n",
    "stuff[1] = 'howdy'\n",
    "\n",
    "print(stuff)"
   ]
  },
  {
   "cell_type": "code",
   "execution_count": 10,
   "metadata": {},
   "outputs": [
    {
     "name": "stdout",
     "output_type": "stream",
     "text": [
      "['ok', 'howdy', 'nights', 'song', 'spam', 'ham', 'girl', 'boy', 'lady', 'man']\n",
      "['boy', 'howdy', 'nights', 'song', 'spam', 'ham', 'girl', 'boy', 'lady', 'man']\n"
     ]
    }
   ],
   "source": [
    "#Change the first item in the list to match the 8th item in the list print the list before and after\n",
    "\n",
    "print(stuff)\n",
    "\n",
    "stuff[0] = stuff[7]\n",
    "\n",
    "print(stuff)"
   ]
  },
  {
   "cell_type": "markdown",
   "metadata": {},
   "source": [
    "### List concatenation and replication\n",
    "\n",
    ">- Similar to how we concatenate strings, we can use the `+` and `*` operators on lists"
   ]
  },
  {
   "cell_type": "code",
   "execution_count": 11,
   "metadata": {},
   "outputs": [
    {
     "name": "stdout",
     "output_type": "stream",
     "text": [
      "[1, 2, 3, 4, 5, 6, 'a', 'b', 'c', 'd']\n"
     ]
    }
   ],
   "source": [
    "list1 = [1,2,3,4,5,6]\n",
    "list2 = ['a','b','c','d']\n",
    "\n",
    "list3 = list1 + list2\n",
    "print(list3)"
   ]
  },
  {
   "cell_type": "code",
   "execution_count": 13,
   "metadata": {
    "scrolled": true
   },
   "outputs": [
    {
     "name": "stdout",
     "output_type": "stream",
     "text": [
      "[1, 2, 3, 4, 5, 6, 1, 2, 3, 4, 5, 6]\n"
     ]
    }
   ],
   "source": [
    "list4 = list1 * 2\n",
    " \n",
    "print(list4)"
   ]
  },
  {
   "cell_type": "code",
   "execution_count": 14,
   "metadata": {},
   "outputs": [
    {
     "data": {
      "text/plain": [
       "[1, 2, 3, 4, 5, 6, 'a', 'b', 'c', 'd', 'a', 'b', 'c', 'd']"
      ]
     },
     "execution_count": 14,
     "metadata": {},
     "output_type": "execute_result"
    }
   ],
   "source": [
    "list5 = list1 + list2 * 2\n",
    "\n",
    "list5"
   ]
  },
  {
   "cell_type": "code",
   "execution_count": null,
   "metadata": {},
   "outputs": [],
   "source": []
  },
  {
   "cell_type": "markdown",
   "metadata": {},
   "source": [
    "### Remove values from a list\n",
    ">- use `del` to remove items from a list"
   ]
  },
  {
   "cell_type": "code",
   "execution_count": 17,
   "metadata": {},
   "outputs": [
    {
     "name": "stdout",
     "output_type": "stream",
     "text": [
      "Before the deletion, list 1 = [1, 2, 3, 4, 5, 6]\n",
      "After deletion list 1 = [1, 3, 4, 5, 6]\n"
     ]
    }
   ],
   "source": [
    "# Remove the 2nd item in list 5\n",
    "\n",
    "print(f'Before the deletion, list 1 = {list1}')\n",
    "\n",
    "del list1[1]\n",
    "\n",
    "print(f'After deletion list 1 = {list1}')"
   ]
  },
  {
   "cell_type": "markdown",
   "metadata": {},
   "source": [
    "### A short program to store a shopping list from a user\n",
    "#### Task: Create a program to ask a user for their shopping list\n",
    "1. Store the shopping list in a variable called, shopList'\n",
    "2. Prompt the user to enter an item for their list\n",
    "3. Exit the program if the users hits `enter` without typing any characters\n",
    "4. Print the users final list for them using a numbered list. "
   ]
  },
  {
   "cell_type": "code",
   "execution_count": 6,
   "metadata": {},
   "outputs": [
    {
     "name": "stdout",
     "output_type": "stream",
     "text": [
      "This is a program to create a shopping list\n",
      "Enter an item to add to your list (hit enter to exit)\n",
      "Item 1: apples\n",
      "Item 2: oranges\n",
      "Item 3: spam\n",
      "Item 4: ham\n",
      "Item 5: eggs\n",
      "Item 6: \n",
      "Here is your shopping list: \n",
      "1. apples\n",
      "2. oranges\n",
      "3. spam\n",
      "4. ham\n",
      "5. eggs\n"
     ]
    }
   ],
   "source": [
    "print('This is a program to create a shopping list' + '\\nEnter an item to add to your list (hit enter to exit)')\n",
    "\n",
    "shop_list = []\n",
    "\n",
    "while True:\n",
    "    list_item = input(f'Item {len(shop_list) +1}: ')\n",
    "    \n",
    "    if list_item == '':\n",
    "        break\n",
    "    shop_list.append(list_item)\n",
    "\n",
    "print(\"Here is your shopping list: \")\n",
    "\n",
    "for i in range(len(shop_list)):\n",
    "    print(f'{i+1}. {shop_list[i]}')"
   ]
  },
  {
   "cell_type": "code",
   "execution_count": null,
   "metadata": {},
   "outputs": [],
   "source": []
  },
  {
   "cell_type": "markdown",
   "metadata": {},
   "source": [
    "## Using Methods to Work with Lists\n",
    "\n",
    ">- A `method` is a function that is \"called on\" a value\n",
    ">- Each data type has its own set of methods\n",
    ">- The list data type has several useful methods. For example: \n",
    "    1. To find a value in a list: try the index() method\n",
    "    2. To add values to a list: try the append() and/or insert() methods\n",
    "    3. To remove vlaues from a list: try the remove() method\n",
    "    4. To sort values in a list: try the sort() method"
   ]
  },
  {
   "cell_type": "markdown",
   "metadata": {},
   "source": [
    "### Finding the index position of an item with index()"
   ]
  },
  {
   "cell_type": "code",
   "execution_count": 21,
   "metadata": {},
   "outputs": [
    {
     "data": {
      "text/plain": [
       "['apples',\n",
       " 'oranges',\n",
       " 'spam',\n",
       " 'ham',\n",
       " 'tomato',\n",
       " 'tomato',\n",
       " 'tomato',\n",
       " 'tomato',\n",
       " 'tomato',\n",
       " 'tomato',\n",
       " 'tomato',\n",
       " 'tomato',\n",
       " 'tomato',\n",
       " 'tomato',\n",
       " 'tomato',\n",
       " 'eggs']"
      ]
     },
     "execution_count": 21,
     "metadata": {},
     "output_type": "execute_result"
    }
   ],
   "source": [
    "shop_list"
   ]
  },
  {
   "cell_type": "code",
   "execution_count": 8,
   "metadata": {},
   "outputs": [
    {
     "data": {
      "text/plain": [
       "1"
      ]
     },
     "execution_count": 8,
     "metadata": {},
     "output_type": "execute_result"
    }
   ],
   "source": [
    "shop_list.index('oranges')"
   ]
  },
  {
   "cell_type": "code",
   "execution_count": null,
   "metadata": {},
   "outputs": [],
   "source": []
  },
  {
   "cell_type": "code",
   "execution_count": null,
   "metadata": {},
   "outputs": [],
   "source": []
  },
  {
   "cell_type": "markdown",
   "metadata": {},
   "source": [
    "### Adding values to list with insert()"
   ]
  },
  {
   "cell_type": "code",
   "execution_count": 20,
   "metadata": {},
   "outputs": [
    {
     "data": {
      "text/plain": [
       "['apples',\n",
       " 'oranges',\n",
       " 'spam',\n",
       " 'ham',\n",
       " 'tomato',\n",
       " 'tomato',\n",
       " 'tomato',\n",
       " 'tomato',\n",
       " 'tomato',\n",
       " 'tomato',\n",
       " 'tomato',\n",
       " 'tomato',\n",
       " 'tomato',\n",
       " 'tomato',\n",
       " 'tomato',\n",
       " 'eggs']"
      ]
     },
     "execution_count": 20,
     "metadata": {},
     "output_type": "execute_result"
    }
   ],
   "source": [
    "shop_list\n",
    "\n",
    "shop_list.insert(4, 'tomato')\n",
    "\n",
    "shop_list"
   ]
  },
  {
   "cell_type": "markdown",
   "metadata": {},
   "source": [
    "### Removing values in a list with remove()"
   ]
  },
  {
   "cell_type": "code",
   "execution_count": null,
   "metadata": {},
   "outputs": [],
   "source": []
  },
  {
   "cell_type": "markdown",
   "metadata": {},
   "source": [
    "### Sorting a list with the sort() method"
   ]
  },
  {
   "cell_type": "code",
   "execution_count": null,
   "metadata": {},
   "outputs": [],
   "source": []
  },
  {
   "cell_type": "markdown",
   "metadata": {},
   "source": [
    "#### Some notes on the sort() method\n",
    ">- First, Python cannot sort lists that have both numbers and letters because it doesn't no how to compare them\n",
    ">- Second, Like the other methods(), Python sorts the lists in place. \n",
    ">>- Changing things \"in place\" basically means making changes to the current list variable without making a copy of the list variable\n",
    ">>>- Non \"in place\" methods make a copy of the variable or object rather than changing the current variable\n",
    ">>- So don't try to do something like this: shopList = shopList.sort()\n",
    ">- Third, sort() uses ASCIIbetical order rather than actual alphalbetical order\n",
    ">>- This means a capital 'Z' gets sorted before a lowercase 'a'"
   ]
  },
  {
   "cell_type": "markdown",
   "metadata": {},
   "source": [
    "#### What is the return value of an \"in-place\" method?"
   ]
  },
  {
   "cell_type": "code",
   "execution_count": null,
   "metadata": {},
   "outputs": [],
   "source": []
  },
  {
   "cell_type": "markdown",
   "metadata": {},
   "source": [
    "#### So if you tried to reassign a variable with a method the return value of your new variable is 'None'\n",
    ">- We don't usually want our variables to return nothing so we wouln't assign a variable with a method\n",
    ">- Moral of the story, don't use methods in a reassignment of a variable"
   ]
  },
  {
   "cell_type": "markdown",
   "metadata": {},
   "source": [
    "## When would we use non \"in-place\" methods?\n",
    ">- On immutable data types such as strings and tuples\n",
    "\n",
    "## So what is a mutable or immutable data type?\n",
    ">- Defintion: a `mutable` data type can have values added, deleted, or changed\n",
    ">>- Example: a list is a `mutable` data type\n",
    ">- Defintion: an `immutable` data type cannot be changed\n",
    ">>- Examples: strings and tuples are immutable data types"
   ]
  },
  {
   "cell_type": "markdown",
   "metadata": {},
   "source": [
    "## Tuple data type\n",
    ">- The tuple is a \"list-like\" data type which is almost identical to the list data type with these differences:\n",
    "1. The syntax for a tuple uses `()` instead of `[]`\n",
    "2. The main difference is that tuple is immutable whereas a list is mutable"
   ]
  },
  {
   "cell_type": "code",
   "execution_count": null,
   "metadata": {},
   "outputs": [],
   "source": []
  },
  {
   "cell_type": "code",
   "execution_count": null,
   "metadata": {},
   "outputs": [],
   "source": []
  },
  {
   "cell_type": "markdown",
   "metadata": {},
   "source": [
    "##### Note: in the book the author shows an error when entering the previous statement\n",
    ">- But apparently Python has updated since the book was published and now we do not get an error"
   ]
  },
  {
   "cell_type": "code",
   "execution_count": null,
   "metadata": {},
   "outputs": [],
   "source": []
  },
  {
   "cell_type": "markdown",
   "metadata": {},
   "source": [
    "### When do we usually use a tuple?\n",
    ">- When we need an ordered sequence of values that we do not want to change\n",
    ">>- One example: a grade calculator we wouldn't want the course weights to change\n",
    ">>- Another example: company defined percentages for sale items "
   ]
  },
  {
   "cell_type": "markdown",
   "metadata": {},
   "source": [
    "# What if you want to preserve your original list before making changes?\n",
    "### Copying lists in case we want to preserve our original list\n",
    ">- `copy` module and its `copy()` and `deepcopy()` Functions"
   ]
  },
  {
   "cell_type": "code",
   "execution_count": null,
   "metadata": {},
   "outputs": [],
   "source": []
  },
  {
   "cell_type": "code",
   "execution_count": null,
   "metadata": {},
   "outputs": [],
   "source": []
  },
  {
   "cell_type": "markdown",
   "metadata": {},
   "source": [
    "#### The `deepcopy()` function allows you to copy lists that contain lists"
   ]
  },
  {
   "cell_type": "markdown",
   "metadata": {},
   "source": [
    "# Homework"
   ]
  },
  {
   "cell_type": "markdown",
   "metadata": {},
   "source": [
    "## Task1: Rewrite our Magic 8 Ball program from the prior lesson using a list to store the possible responses\n",
    "Specifications:\n",
    "1. The value you pass to the list in order to return a random message should allow for the list to change values (add, delete items, etc) and still return all possible values"
   ]
  },
  {
   "cell_type": "markdown",
   "metadata": {},
   "source": [
    "## Task2: Write a function that takes a list value as an argument and does the following:\n",
    "1. Prints list items to the screen with all the items in the list seperated by a comma and a space\n",
    "2. Insert, *and*, before the last item in the list\n",
    "\n",
    "For example:\n",
    "\n",
    "list = ['apples','bananas', 'tofu', 'cats']\n",
    "\n",
    "Your function would take, list, as a parameter:\n",
    "\n",
    "listFunction(list)\n",
    "\n",
    "And print:\n",
    "\n",
    "apples, bananas, tofu, and cats\n",
    "\n",
    "Your function should be able to take any list with any number of items and print the results as given above. "
   ]
  },
  {
   "cell_type": "code",
   "execution_count": null,
   "metadata": {},
   "outputs": [],
   "source": []
  },
  {
   "cell_type": "code",
   "execution_count": null,
   "metadata": {},
   "outputs": [],
   "source": []
  },
  {
   "cell_type": "markdown",
   "metadata": {},
   "source": [
    "<a id='top'></a>[TopPage](#Teaching-Notes)"
   ]
  }
 ],
 "metadata": {
  "kernelspec": {
   "display_name": "Python 3",
   "language": "python",
   "name": "python3"
  },
  "language_info": {
   "codemirror_mode": {
    "name": "ipython",
    "version": 3
   },
   "file_extension": ".py",
   "mimetype": "text/x-python",
   "name": "python",
   "nbconvert_exporter": "python",
   "pygments_lexer": "ipython3",
   "version": "3.7.4"
  }
 },
 "nbformat": 4,
 "nbformat_minor": 4
}
