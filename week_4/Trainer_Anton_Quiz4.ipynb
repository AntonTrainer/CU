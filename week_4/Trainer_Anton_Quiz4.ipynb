{
 "cells": [
  {
   "cell_type": "markdown",
   "metadata": {
    "azdata_cell_guid": "321fbf52-838c-4cae-9922-bcff34ee4882"
   },
   "source": [
    "# BAIM 3220: Introduction to Python\n",
    "## Quiz #4: Control Flow: Loops and Functions\n",
    "## After downloading this .ipynb file from Canvas, resave with the following naming format:\n",
    ">- LastName_FirstName_Quiz4.ipynb\n",
    "\n",
    "\n",
    "## When you are ready to submit your quiz, upload your .ipynb file to the Quiz#4 dropbox on Canvas\n",
    ">- Note: You need to complete the M/C,T/F, fill in the blank questions on the Canvas quiz AND upload this file before the quiz time is up"
   ]
  },
  {
   "cell_type": "markdown",
   "metadata": {
    "azdata_cell_guid": "121583af-4668-4889-b74c-86f4d006dbf8"
   },
   "source": [
    "# Code_Q1\n",
    "## Task: create a for loop that will store the squares of all numbers in a list variable provided. \n",
    "### Specifications:\n",
    "1. The numbers variable is defined as: numbers = [1,2,4,5,12,25] \n",
    "2. You must use a `for` loop in this question to iterate through the numbers list to produce the values stored in the sq list. \n",
    "3. Store the squares of all the numbers in, numbers, in a new list variable named, sq.\n",
    "4. Print what is currently stored in the sq variable at each iteration of the loop.\n",
    "\n",
    "#The following should start your code:\n",
    "\n",
    "numbers = [1, 2, 4, 5, 12, 25] "
   ]
  },
  {
   "cell_type": "code",
   "execution_count": 2,
   "metadata": {
    "azdata_cell_guid": "a7ba164b-0092-4921-af40-99ab31b13937"
   },
   "outputs": [
    {
     "name": "stdout",
     "output_type": "stream",
     "text": [
      "The squares list cerrently contains: [1]\n",
      "The squares list cerrently contains: [1, 4]\n",
      "The squares list cerrently contains: [1, 4, 16]\n",
      "The squares list cerrently contains: [1, 4, 16, 25]\n",
      "The squares list cerrently contains: [1, 4, 16, 25, 144]\n",
      "The squares list cerrently contains: [1, 4, 16, 25, 144, 625]\n"
     ]
    }
   ],
   "source": [
    "numbers = [1, 2, 4, 5, 12, 25] \n",
    "\n",
    "sq = []\n",
    "\n",
    "for num in numbers:\n",
    "    sq.append(num*num)\n",
    "    print(f'The squares list cerrently contains: {sq}')\n",
    "\n"
   ]
  },
  {
   "cell_type": "markdown",
   "metadata": {
    "azdata_cell_guid": "470d3874-cd93-4d41-97ea-e3734c95aa33"
   },
   "source": [
    "# Code_Q2\n",
    "## Task: write a `while` loop that will return the following output:`\n",
    ">- Note: your output does not need the spacing between each line as shown in this markdown cell, just the correct output text\n",
    "\n",
    "The count is 1\n",
    "\n",
    "The count is 2\n",
    "\n",
    "The count is 3\n",
    "\n",
    "The count is 4\n",
    "\n",
    "The count is 5\n",
    "\n",
    "The count is 6\n",
    "\n",
    "The count is 7\n",
    "\n",
    "The count is 8\n",
    "\n",
    "The count is 9\n",
    "\n",
    "Good bye!"
   ]
  },
  {
   "cell_type": "code",
   "execution_count": 8,
   "metadata": {
    "azdata_cell_guid": "547a13d0-1306-41ff-b712-9b08b9dda1f0"
   },
   "outputs": [
    {
     "name": "stdout",
     "output_type": "stream",
     "text": [
      "\n",
      " The count is 1\n",
      "\n",
      " The count is 2\n",
      "\n",
      " The count is 3\n",
      "\n",
      " The count is 4\n",
      "\n",
      " The count is 5\n",
      "\n",
      " The count is 6\n",
      "\n",
      " The count is 7\n",
      "\n",
      " The count is 8\n",
      "\n",
      " The count is 9\n",
      "\n",
      " Good bye!\n"
     ]
    }
   ],
   "source": [
    " for num in range(1,10):\n",
    "    print(f'\\n The count is {num}')\n",
    "\n",
    "print('\\n Good bye!')"
   ]
  },
  {
   "cell_type": "markdown",
   "metadata": {
    "azdata_cell_guid": "29622bf8-b77d-4825-a4c3-d4cf6a6fce52"
   },
   "source": [
    "# Code_Q3\n",
    "## Task: Create a while loop that checks for a user name and password and never stops asking until the correct password is entered.\n",
    "## Specifications: your program should:\n",
    "1. Ask a user for their name and store the value in a variable labeled, name.\n",
    "2. Print a statement that says:  \"Hi,  {userName}, what is the password?\"\n",
    ">- Note: the print statement should use the value inputted by a user not the literal {userName} given above\n",
    "3. Prompt a user to input a password variable named, password. \n",
    "4. If the password matches the value, 'codingrulz', print 'Access Granted!' and exit the loop\n",
    "5. If the password does not match, 'codingrulz', print 'Access denied, try again' and restart the code.\n",
    "6. Finally, on the last line of output, print: \"Have a good rest of your week, {userName}, see you Monday!\"\n"
   ]
  },
  {
   "cell_type": "code",
   "execution_count": 1,
   "metadata": {
    "azdata_cell_guid": "0eb1b6a8-ada5-412b-a4ba-21914bf949d7"
   },
   "outputs": [
    {
     "name": "stdout",
     "output_type": "stream",
     "text": [
      "What is your name? Anton\n",
      "Hi, Anton, what is the password? \n",
      "Enter Password:no\n",
      "Access denied, try again\n",
      "What is your name? Anton\n",
      "Hi, Anton, what is the password? \n",
      "Enter Password:codingrulz\n",
      "Have a good rest of your week, Anton, see you Monday!\n"
     ]
    }
   ],
   "source": [
    "while True:\n",
    "    name = input(\"What is your name? \")\n",
    "    password = input(f'Hi, {name}, what is the password? \\nEnter Password:')\n",
    "    \n",
    "    if password == 'codingrulz':\n",
    "        break\n",
    "    else:\n",
    "        print('Access denied, try again')\n",
    "print(f'Have a good rest of your week, {name}, see you Monday!')        "
   ]
  },
  {
   "cell_type": "markdown",
   "metadata": {
    "azdata_cell_guid": "6c669aea-efba-409f-b1d7-4976540b09e0"
   },
   "source": [
    "# Code_Q4\n",
    "\n",
    "## Create a function to calculate an employees total weekly pay\n",
    "\n",
    "## Specifications: your program should:\n",
    "1. Create a function named, hours\n",
    "2. It should prompt the user to input how many regular hours and overtime hours they work\n",
    "3. An employees total weekly pay equals the hourly wage multiplied by the total number of regular hours plus any overtime pay\n",
    " >- Overtime pay equals the total overtime hours multiplied by 1.5 times the hourly wage \n",
    ">-  The hourly wage is $12 a hour"
   ]
  },
  {
   "cell_type": "code",
   "execution_count": 60,
   "metadata": {
    "azdata_cell_guid": "0e10a2da-ed65-40ec-b1d0-51513a357e07"
   },
   "outputs": [],
   "source": [
    "def hours():\n",
    "    hours = int(input('Please input the total number of regular hours worked per week '))\n",
    "    overtime = int(input('Please input the total number of overtime worked per week '))\n",
    "    \n",
    "    hourly = 12\n",
    "    \n",
    "    print('Your total weekly pay = ' + str(hours * hourly + overtime * hourly * 1.5))\n",
    "    "
   ]
  },
  {
   "cell_type": "markdown",
   "metadata": {
    "azdata_cell_guid": "8e186637-4f72-4f6c-9127-b5c5e2f82d54"
   },
   "source": [
    "### Call your function below"
   ]
  },
  {
   "cell_type": "code",
   "execution_count": 20,
   "metadata": {
    "azdata_cell_guid": "515001f3-1e70-4243-b9e0-7efbabdbfe38"
   },
   "outputs": [
    {
     "name": "stdout",
     "output_type": "stream",
     "text": [
      "Please input the total number of regular hours worked per week 10\n",
      "Please input the total number of overtime worked per week 10\n",
      "Your total weekly pay = 300.0\n"
     ]
    }
   ],
   "source": [
    "hours()"
   ]
  },
  {
   "cell_type": "markdown",
   "metadata": {
    "azdata_cell_guid": "c3c9ac25-af13-4832-b9bf-665fdbf2010c"
   },
   "source": [
    "# Code_Q5\n",
    "\n",
    "## Create a function to calculate the sum of a sequence of numbers from a lower bound and through a upper bound\n",
    "\n",
    "## Specifications: your program should:\n",
    "1. Create a function named, summation\n",
    "2. Prompt the user to enter the lower bound and upper bound of a range of numbers to sum\n",
    "2. Calculate the sum of all numbers between the lower and upper bound \n",
    ">- The upper and lower bounds are inclusive"
   ]
  },
  {
   "cell_type": "code",
   "execution_count": 41,
   "metadata": {
    "azdata_cell_guid": "aa0f393d-1baa-4dcd-adce-28d39d1806cc"
   },
   "outputs": [],
   "source": [
    "def summation():\n",
    "    lowerBound = int(input('Please enter the lower bound '))\n",
    "    upperBound = int(input('Please enter the upper bound '))\n",
    "    \n",
    "    total = 0\n",
    "    \n",
    "    for num in range(lowerBound, upperBound + 1, 1):\n",
    "        total += num\n",
    "    \n",
    "    return total\n"
   ]
  },
  {
   "cell_type": "markdown",
   "metadata": {
    "azdata_cell_guid": "cae535a3-9630-4e5c-8458-eb2937eb270b"
   },
   "source": [
    "### Call your function below"
   ]
  },
  {
   "cell_type": "code",
   "execution_count": 43,
   "metadata": {
    "azdata_cell_guid": "9bdad8ab-296f-424b-9638-d94d930b34c8"
   },
   "outputs": [
    {
     "name": "stdout",
     "output_type": "stream",
     "text": [
      "Please enter the lower bound 2\n",
      "Please enter the upper bound 5\n"
     ]
    },
    {
     "data": {
      "text/plain": [
       "14"
      ]
     },
     "execution_count": 43,
     "metadata": {},
     "output_type": "execute_result"
    }
   ],
   "source": [
    "summation()"
   ]
  },
  {
   "cell_type": "markdown",
   "metadata": {
    "azdata_cell_guid": "265cf521-064d-44d8-ab90-74f4fa7b1604"
   },
   "source": [
    "# Code_Q6\n",
    "# List Append Square Function\n",
    ">- Write a function named, `square`, that when passed a list of numbers as the parameter will return a list of squares of the integers stored in the original list. \n",
    ">- For example, your function when passed the list [1,2,3,4] would return the list [1,4,9,16]."
   ]
  },
  {
   "cell_type": "code",
   "execution_count": 52,
   "metadata": {
    "azdata_cell_guid": "4ad79364-7757-4b3f-9a51-0fad16a42436"
   },
   "outputs": [],
   "source": [
    "def square(numbers):\n",
    "    squares = []\n",
    "    \n",
    "    for num in numbers:\n",
    "        squares.append(num*num)\n",
    "    \n",
    "    return squares    \n",
    "        "
   ]
  },
  {
   "cell_type": "markdown",
   "metadata": {
    "azdata_cell_guid": "c505eb8b-810b-4e66-9493-498ffb0ea12e"
   },
   "source": [
    "#### In the next cell, pass the list `[1,2,3,4]` to your `square` function and show the output. "
   ]
  },
  {
   "cell_type": "code",
   "execution_count": 53,
   "metadata": {
    "azdata_cell_guid": "726ee1a6-9ce2-4243-9046-32408c5b4794"
   },
   "outputs": [
    {
     "data": {
      "text/plain": [
       "[1, 4, 9, 16]"
      ]
     },
     "execution_count": 53,
     "metadata": {},
     "output_type": "execute_result"
    }
   ],
   "source": [
    "square([1,2,3,4])"
   ]
  },
  {
   "cell_type": "markdown",
   "metadata": {
    "azdata_cell_guid": "404088e3-9470-4b92-bf46-f5c29492ce87"
   },
   "source": [
    "# Code_Q7\n",
    "## Task: Create a function to return customer level\n",
    "1. Create a function for returning a customer level based on revenue. The customer levels are:\n",
    ">- Bronze (<250,000 in revenue)\n",
    ">- Silver (>=250,000 but < 500,000 in revenue)\n",
    ">- Gold (>=500,000 but < 750,000 in revenue)\n",
    ">- Platinum (>=750,000 in revenue)\n",
    "\n",
    "2. Call your function 4 times and pass these values to it to check that your function returns the correct output:\n",
    ">- 200,000\n",
    ">- 300,000\n",
    ">- 600,000\n",
    ">- 1,000,000"
   ]
  },
  {
   "cell_type": "code",
   "execution_count": 54,
   "metadata": {
    "azdata_cell_guid": "e596eb80-7891-49fe-a5e6-55230801b7cd"
   },
   "outputs": [],
   "source": [
    "#Write your function in this cell\n",
    "\n",
    "def levels(level):\n",
    "    if level < 250000:\n",
    "        print('Bronze')\n",
    "        \n",
    "    elif level >= 250000 and level < 500000:\n",
    "        print('Silver')\n",
    "        \n",
    "    elif level >= 500000 and level < 750000:\n",
    "        print('Gold')\n",
    "        \n",
    "    else:\n",
    "        print('Platinum')\n"
   ]
  },
  {
   "cell_type": "markdown",
   "metadata": {
    "azdata_cell_guid": "9d8fe99b-3141-43cb-bd2c-b0457a971d9b"
   },
   "source": [
    "#### Write your calls to the function with the 4 values given in step 2 above in the next cell\n",
    "#### Note: your code here to call all the values should output all 4 customer levels "
   ]
  },
  {
   "cell_type": "code",
   "execution_count": 55,
   "metadata": {
    "azdata_cell_guid": "2fcf5f6a-fe98-4dd8-b7eb-a899a954b127"
   },
   "outputs": [
    {
     "name": "stdout",
     "output_type": "stream",
     "text": [
      "Bronze\n",
      "Silver\n",
      "Gold\n",
      "Platinum\n"
     ]
    }
   ],
   "source": [
    "levels(200000)\n",
    "levels(300000)\n",
    "levels(600000)\n",
    "levels(1000000)"
   ]
  },
  {
   "cell_type": "markdown",
   "metadata": {
    "azdata_cell_guid": "df4b9579-1ab6-4eac-8dca-e0c1e91d1124"
   },
   "source": [
    "# Code_Q8\n",
    "## Write Python code to define a function called, `divide`, that will divide two numbers. \n",
    "## Specifications:\n",
    ">- Use two parameters in your function named: a and b\n",
    ">>- a will be the numerator\n",
    ">>- b will be the denominator\n",
    ">- Include code that will handle the possibility that a user will pass a value of 0 to the denominator.\n",
    ">- In your exception handling code, tell the user \"Cannot divide by 0, please enter non-zero denominator for second value\""
   ]
  },
  {
   "cell_type": "code",
   "execution_count": 57,
   "metadata": {},
   "outputs": [],
   "source": [
    "def divide(a,b):\n",
    "    try:\n",
    "        return a/b\n",
    "    \n",
    "    except ZeroDivisionError:\n",
    "        print(\"Cannot divide by 0, please enter non-zero denominator for second value\")"
   ]
  },
  {
   "cell_type": "markdown",
   "metadata": {},
   "source": [
    "### Call your `divide` function in the next cell and pass the following values to your function\n",
    ">- a = 10\n",
    ">- b = 2\n",
    "\n",
    "Run the cell to show the output"
   ]
  },
  {
   "cell_type": "code",
   "execution_count": 58,
   "metadata": {},
   "outputs": [
    {
     "data": {
      "text/plain": [
       "5.0"
      ]
     },
     "execution_count": 58,
     "metadata": {},
     "output_type": "execute_result"
    }
   ],
   "source": [
    "divide(10,2)"
   ]
  },
  {
   "cell_type": "markdown",
   "metadata": {},
   "source": [
    "### Call your `divide` function in the next cell and pass the following values to your function\n",
    ">- a = 10\n",
    ">- b = 0\n",
    "\n",
    "Run the cell to show the output"
   ]
  },
  {
   "cell_type": "code",
   "execution_count": 59,
   "metadata": {},
   "outputs": [
    {
     "name": "stdout",
     "output_type": "stream",
     "text": [
      "Cannot divide by 0, please enter non-zero denominator for second value\n"
     ]
    }
   ],
   "source": [
    "divide(10,0)"
   ]
  }
 ],
 "metadata": {
  "kernelspec": {
   "display_name": "Python 3",
   "language": "python",
   "name": "python3"
  },
  "language_info": {
   "codemirror_mode": {
    "name": "ipython",
    "version": 3
   },
   "file_extension": ".py",
   "mimetype": "text/x-python",
   "name": "python",
   "nbconvert_exporter": "python",
   "pygments_lexer": "ipython3",
   "version": "3.7.4"
  }
 },
 "nbformat": 4,
 "nbformat_minor": 2
}
