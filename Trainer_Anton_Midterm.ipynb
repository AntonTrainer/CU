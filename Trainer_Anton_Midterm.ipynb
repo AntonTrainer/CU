{
 "cells": [
  {
   "cell_type": "markdown",
   "metadata": {},
   "source": [
    "# BAIM 3220: Introduction to Python\n",
    "#### Midterm: Python Fundamentals: Variables, Flow Control, Functions, Data Structures\n",
    ">- This exam is designed to assess your understanding of Python programming fundamentals\n",
    ">- Time: you will have 75 minutes to complete the exam AND upload your .ipynb file to Canvas\n",
    ">>- Late submissions will receive a 10% deduction in points up to 5 minutes late\n",
    ">>- Late submissions received after 5 minutes late will not be graded and will be recorded as a 0.\n",
    ">- Regrade requests: after receiveing your grade, IF you ask for a regrade you accept that your regrade may result in a *lower* grade.\n",
    ">>- In other words, if your exam is regraded we will regrade other areas of the exam which may result in a lower grade if we find mistakes we did not find the first time grading (this can happen, we are all human and make mistakes :) ) \n",
    "\n",
    "#### Submission: After downloading this .ipynb file from Canvas, resave with the following naming format:\n",
    ">- LastName_FirstName_Midterm.ipynb\n",
    "\n",
    "#### When you are ready to submit your quiz, upload your .ipynb file to Canvas in Midterm "
   ]
  },
  {
   "cell_type": "markdown",
   "metadata": {},
   "source": [
    "# Q1 (3 points) Variable Assignment with Input\n",
    "## In the next cell write code that will ask a user for their name and store the result in a variable called, `name`"
   ]
  },
  {
   "cell_type": "code",
   "execution_count": 1,
   "metadata": {},
   "outputs": [
    {
     "name": "stdout",
     "output_type": "stream",
     "text": [
      "Please enter your name: Anton\n"
     ]
    }
   ],
   "source": [
    "name = input(\"Please enter your name: \")"
   ]
  },
  {
   "cell_type": "markdown",
   "metadata": {},
   "source": [
    "# Q2 (3 points) String Length\n",
    "## In the next cell write the code to return the length of the, `name`, variable assigned in Q1"
   ]
  },
  {
   "cell_type": "code",
   "execution_count": 2,
   "metadata": {},
   "outputs": [
    {
     "data": {
      "text/plain": [
       "5"
      ]
     },
     "execution_count": 2,
     "metadata": {},
     "output_type": "execute_result"
    }
   ],
   "source": [
    "len(name)\n"
   ]
  },
  {
   "cell_type": "markdown",
   "metadata": {},
   "source": [
    "# Q3 (3 points) String Methods\n",
    "## In the next cell write the code to convert, `name`, variable assigned in Q1 to all capital letters"
   ]
  },
  {
   "cell_type": "code",
   "execution_count": 4,
   "metadata": {},
   "outputs": [
    {
     "data": {
      "text/plain": [
       "'ANTON'"
      ]
     },
     "execution_count": 4,
     "metadata": {},
     "output_type": "execute_result"
    }
   ],
   "source": [
    "str.upper(name)"
   ]
  },
  {
   "cell_type": "markdown",
   "metadata": {},
   "source": [
    "# Q4 (3 points) String Methods\n",
    "## In the next cell write the code to check whether, `name`, variable assigned in Q1 only includes capitals for the first word in every word followed by lower case."
   ]
  },
  {
   "cell_type": "code",
   "execution_count": 5,
   "metadata": {},
   "outputs": [
    {
     "data": {
      "text/plain": [
       "True"
      ]
     },
     "execution_count": 5,
     "metadata": {},
     "output_type": "execute_result"
    }
   ],
   "source": [
    "str.istitle(name)"
   ]
  },
  {
   "cell_type": "markdown",
   "metadata": {},
   "source": [
    "# Q5 (3 points) Variable Assignment\n",
    "## In the next cell, type the value of the variable `revenue` after the following code is executed:\n",
    "revenue = 1000\n",
    "\n",
    "revenue + 10"
   ]
  },
  {
   "cell_type": "code",
   "execution_count": 7,
   "metadata": {},
   "outputs": [
    {
     "data": {
      "text/plain": [
       "1010"
      ]
     },
     "execution_count": 7,
     "metadata": {},
     "output_type": "execute_result"
    }
   ],
   "source": [
    "1010"
   ]
  },
  {
   "cell_type": "markdown",
   "metadata": {},
   "source": [
    "# Q6 (3 points) \n",
    "## In the next cell write and execute the Python code to show the remainder when 23 is divided by 3"
   ]
  },
  {
   "cell_type": "code",
   "execution_count": 8,
   "metadata": {},
   "outputs": [
    {
     "data": {
      "text/plain": [
       "2"
      ]
     },
     "execution_count": 8,
     "metadata": {},
     "output_type": "execute_result"
    }
   ],
   "source": [
    "23 % 3"
   ]
  },
  {
   "cell_type": "markdown",
   "metadata": {},
   "source": [
    "# Q7 (3 points) \n",
    "## Correct the control flow given in the next cell so that correct responses will be printed for printing grades based on percentage\n",
    ">- For example, as currently written if grade = 90 the code would currently print 'You got a D' which is certainly not what you want if you earn a 90 in a course. \n",
    ">- Note: don't change any of the values given for grades just the control flow"
   ]
  },
  {
   "cell_type": "raw",
   "metadata": {},
   "source": [
    "grade = 90\n",
    "\n",
    "if grade > 93:\n",
    "\n",
    "      print('You got an A')\n",
    "\n",
    "elif grade >65:\n",
    "\n",
    "      print('You got a D')\n",
    "\n",
    "elif grade >75:\n",
    "\n",
    "     print('You got a C')\n",
    "\n",
    "elif grade > 85:\n",
    "\n",
    "     print('You got a B')\n",
    "\n",
    "else:\n",
    "\n",
    "     print('You got an F')"
   ]
  },
  {
   "cell_type": "markdown",
   "metadata": {},
   "source": [
    "### Correct the code in the next cell"
   ]
  },
  {
   "cell_type": "code",
   "execution_count": 12,
   "metadata": {},
   "outputs": [
    {
     "name": "stdout",
     "output_type": "stream",
     "text": [
      "You got a B\n"
     ]
    }
   ],
   "source": [
    "grade = 90\n",
    "\n",
    "if grade > 93:\n",
    "\n",
    "      print('You got an A')\n",
    "\n",
    "elif grade >65 and grade <= 75:\n",
    "\n",
    "      print('You got a D')\n",
    "\n",
    "elif grade >75 and grade <= 85:\n",
    "\n",
    "     print('You got a C')\n",
    "\n",
    "elif grade > 85 and grade <= 93:\n",
    "\n",
    "     print('You got a B')\n",
    "\n",
    "else:\n",
    "\n",
    "     print('You got an F')"
   ]
  },
  {
   "cell_type": "markdown",
   "metadata": {},
   "source": [
    "# Q8 (10 points) Area of Circle Function\n",
    "## In the next cell define a function, `cirArea`, to calculate and print the area of a circle\n",
    "### Specifications:\n",
    ">- Assume pi=3.14\n",
    ">- Your function should only have one parameter, `diameter`, passed to it\n",
    ">- You must create your own function here, do not use a module\n",
    ">- If you forgot how to calculate the area of a circle, look it up (Google it). \n",
    ">- Print a statement describing the area of the circle \n",
    ">>- For example, if passed 100 as the parameter, your function should print a statement: \"The area of your circle is: 7850 units squared\""
   ]
  },
  {
   "cell_type": "code",
   "execution_count": 14,
   "metadata": {},
   "outputs": [],
   "source": [
    "pi = 3.14\n",
    "\n",
    "def cirArea(diameter):\n",
    "    area = pi * (diameter/2)**2\n",
    "    \n",
    "    print(f'The area of your circle is: {area} units squared')"
   ]
  },
  {
   "cell_type": "markdown",
   "metadata": {},
   "source": [
    "### In the next cell pass 100 to your `cirArea` function and show the result. "
   ]
  },
  {
   "cell_type": "code",
   "execution_count": 15,
   "metadata": {},
   "outputs": [
    {
     "name": "stdout",
     "output_type": "stream",
     "text": [
      "The area of your circle is: 7850.0 units squared\n"
     ]
    }
   ],
   "source": [
    "cirArea(100)"
   ]
  },
  {
   "cell_type": "markdown",
   "metadata": {},
   "source": [
    "# Q9 (10 points) Shipping Level Function Control Flow\n",
    "## In the next cell create a function `shipping` that will return the price of shipping based on the following criteria:\n",
    "1. The function must mass two parameters through the function, country and weight.\n",
    "2. Each possible output line should display \"The shipping cost is $X\"\n",
    "\n",
    "### The criteria for each country is defined below:\n",
    ">- Country:US\n",
    ">>- Price&Weight:\n",
    ">>>- \\$50: Less than 25 pounds\n",
    ">>>- \\$75: Less than 100 pounds\n",
    ">>>- \\$150: Less than 150 pounds\n",
    ">- Country:CAN\n",
    ">>>- Price&Weight:\n",
    ">>>- Free: Less than 50 pounds\n",
    ">>>- \\$100: More than or equal to 50 pounds"
   ]
  },
  {
   "cell_type": "markdown",
   "metadata": {},
   "source": [
    "#### In the next cell write your function but do not call it."
   ]
  },
  {
   "cell_type": "code",
   "execution_count": 18,
   "metadata": {},
   "outputs": [],
   "source": [
    "def shipping(country, weight):\n",
    "    if country == 'US':\n",
    "        if weight < 25:\n",
    "            cost = 50\n",
    "        elif weight >= 25 and weight < 100:\n",
    "            cost = 75\n",
    "        elif weight < 100:\n",
    "            cost = 150\n",
    "    elif country == 'CAN':\n",
    "        if weight < 50:\n",
    "            cost = 0\n",
    "        else:\n",
    "            cost = 100\n",
    "\n",
    "    print(f'The shipping cost is ${cost}')"
   ]
  },
  {
   "cell_type": "markdown",
   "metadata": {},
   "source": [
    "#### In the next cell, call the `shipping` function, pass \"US\" and $99 and show the results"
   ]
  },
  {
   "cell_type": "code",
   "execution_count": 19,
   "metadata": {},
   "outputs": [
    {
     "name": "stdout",
     "output_type": "stream",
     "text": [
      "The shipping cost is $75\n"
     ]
    }
   ],
   "source": [
    "shipping('US', 99)"
   ]
  },
  {
   "cell_type": "markdown",
   "metadata": {},
   "source": [
    "# Q10 (20 points) Odd Number Print \n",
    "## In the next cell, write the Python code that will:\n",
    ">- Print the odd numbers between 0 and 50\n"
   ]
  },
  {
   "cell_type": "code",
   "execution_count": 21,
   "metadata": {},
   "outputs": [
    {
     "name": "stdout",
     "output_type": "stream",
     "text": [
      "1\n",
      "3\n",
      "5\n",
      "7\n",
      "9\n",
      "11\n",
      "13\n",
      "15\n",
      "17\n",
      "19\n",
      "21\n",
      "23\n",
      "25\n",
      "27\n",
      "29\n",
      "31\n",
      "33\n",
      "35\n",
      "37\n",
      "39\n",
      "41\n",
      "43\n",
      "45\n",
      "47\n",
      "49\n"
     ]
    }
   ],
   "source": [
    "for i in range(1,50,2):\n",
    "    print(i)"
   ]
  },
  {
   "cell_type": "markdown",
   "metadata": {},
   "source": [
    "# Q11 (20 points): List Search and Index Print\n",
    ">- In the next cell write the control flow to check whether `target` is in `aList`\n",
    ">- Print the index position of the `target` if it is found in `aList`\n",
    ">>- The print statement should be: \"The target of {value of target} was found at index posistion, {index}\" \n",
    ">>>- Where {value of target} and {index} should be the actual values for target and the index when printed\n",
    ">- If `target` is not in the list print \"Target not found\""
   ]
  },
  {
   "cell_type": "code",
   "execution_count": 29,
   "metadata": {},
   "outputs": [
    {
     "name": "stdout",
     "output_type": "stream",
     "text": [
      "The target of 25 was found at index position, 6\n"
     ]
    }
   ],
   "source": [
    "# The next two lines will start your code with the assignment of aList and target\n",
    "aList = [34,60,67,45,1005,100,25,26]\n",
    "target = 25\n",
    "\n",
    "if target in aList:\n",
    "    index = aList.index(target)\n",
    "    print(f'The target of {target} was found at index position, {index}')\n",
    "\n",
    "else:\n",
    "    print('Target not found')\n",
    "\n"
   ]
  },
  {
   "cell_type": "markdown",
   "metadata": {},
   "source": [
    "# Q12 (20 Points) List Append Cube Function\n",
    ">- Write a function named, `cube`, that when passed a list of numbers as the parameter will return a list of cubes of the integers stored in the original list. \n",
    ">- For example, your function when passed the list [1,2,3,4] would return the list [1,8,27,64]."
   ]
  },
  {
   "cell_type": "code",
   "execution_count": 38,
   "metadata": {},
   "outputs": [],
   "source": [
    "def cube(numbers):\n",
    "    cubes = []\n",
    "    for i in numbers:\n",
    "        cubes.append(i*i*i)\n",
    "    print(cubes)\n",
    "        "
   ]
  },
  {
   "cell_type": "markdown",
   "metadata": {},
   "source": [
    "#### In the next cell, pass the list `[1,2,3,4]` to your `cube` function and show the output. "
   ]
  },
  {
   "cell_type": "code",
   "execution_count": 39,
   "metadata": {
    "scrolled": true
   },
   "outputs": [
    {
     "name": "stdout",
     "output_type": "stream",
     "text": [
      "[1, 8, 27, 64]\n"
     ]
    }
   ],
   "source": [
    "cube([1,2,3,4])"
   ]
  },
  {
   "cell_type": "markdown",
   "metadata": {},
   "source": [
    "# Q13 (20 points) Average Function\n",
    ">- Write a function named, `average`, that when passed a list value as the parameter will return the average of the integers stored in the list. \n",
    ">- For example, your function would return `4.0` when passed the list: [1,3,5,7]"
   ]
  },
  {
   "cell_type": "markdown",
   "metadata": {},
   "source": [
    "### Define the function in the next cell but don't pass a list yet"
   ]
  },
  {
   "cell_type": "code",
   "execution_count": 54,
   "metadata": {},
   "outputs": [],
   "source": [
    "def average(numbers):\n",
    "    count = len(numbers)\n",
    "    summation = sum(numbers)     \n",
    "    \n",
    "    average = summation / count\n",
    "    \n",
    "    print(average)"
   ]
  },
  {
   "cell_type": "markdown",
   "metadata": {},
   "source": [
    "#### In the next cell pass the list, `[100, 90, 75, 70]` to your your `average` function and show the result"
   ]
  },
  {
   "cell_type": "code",
   "execution_count": 55,
   "metadata": {
    "scrolled": true
   },
   "outputs": [
    {
     "name": "stdout",
     "output_type": "stream",
     "text": [
      "83.75\n"
     ]
    }
   ],
   "source": [
    "average([100, 90, 75, 70])\n"
   ]
  },
  {
   "cell_type": "markdown",
   "metadata": {},
   "source": [
    "# A Level Questions"
   ]
  },
  {
   "cell_type": "markdown",
   "metadata": {},
   "source": [
    "# Q14 (40 points, graded with code rubric): Average Salary\n",
    "## The list, `employees`, defined in the next cell contains employee data. \n",
    ">- The lists within employees show department, employee number, last name, first name, gender, salary.\n",
    ">- Use a for loop to calculate the average salary rounded to two decimal places.\n",
    "\n",
    "#### Print three statements that summarize the results in the following format similar to: \n",
    "\n",
    ">- The total salary of all employees is: 1000\n",
    ">- The total number of employees is: 10\n",
    ">- The average salary of all employees is: 100\n",
    "\n",
    ">- Make sure to run the next cell so `employees` is defined in subsequent cells"
   ]
  },
  {
   "cell_type": "code",
   "execution_count": 57,
   "metadata": {},
   "outputs": [],
   "source": [
    "employees = [\n",
    "    ['Production', 10003, 'Bamford', 'Parto', 'M', 43311],\n",
    "    ['Production', 10004, 'Koblick', 'Chirstian', 'M',74057],\n",
    "    ['Human Resources', 10005, 'Maliniak', 'Kyoichi', 'M', 94692],\n",
    "    ['Human Resources', 10013, 'Terkki', 'Eberhardt', 'M', 68901],\n",
    "    ['Marketing', 10017, 'Bouloucos', 'Cristinel', 'F', 99651],\n",
    "    ['Sales', 10018, 'Peha', 'Kazuhide', 'F', 84672],\n",
    "    ['Sales', 10020, 'Warwick', 'Mayuko', 'M', 47017],\n",
    "    ['Production', 10024, 'Pettey', 'Suzette', 'F', 96646]\n",
    "]"
   ]
  },
  {
   "cell_type": "code",
   "execution_count": 132,
   "metadata": {},
   "outputs": [
    {
     "name": "stdout",
     "output_type": "stream",
     "text": [
      "    The total salary of all employees is: $608947\n",
      "    The total number of employees is: 8\n",
      "    The average salary of all employees is: $76118.38\n"
     ]
    }
   ],
   "source": [
    "total_emp = len(employees)\n",
    "    \n",
    "total_sal = 0\n",
    "\n",
    "for i in range(len(employees)):\n",
    "    total_sal += employees[i][5]\n",
    "\n",
    "average_sal = round(total_sal / total_emp,2)\n",
    "\n",
    "print(f'''    The total salary of all employees is: ${total_sal}\n",
    "    The total number of employees is: {total_emp}\n",
    "    The average salary of all employees is: ${average_sal}''')\n",
    "\n"
   ]
  },
  {
   "cell_type": "markdown",
   "metadata": {},
   "source": [
    "# Q15 (40 points, graded with code rubric) Median Control Flow \n",
    ">- A common metric in descriptive analytics/statistics is the median. Roughly speaking, the median is the number that is greater than half the numbers and less than half the numbers in a list of numbers.\n",
    ">- More precisely Median is defined below:\n",
    ">>- If the number of values is odd, the median is the middle number in a sorted list of numbers\n",
    ">>- If the number of values is even, the median is the average of the two middle numbers.\n",
    ">>- For example, 3 is the median of the list of values, [1,3,3,5,7] because it is the middle number in a odd list of sorted values\n",
    ">>- Also, 3 is the median of the list of values, [1,2,4,4] because 3 is the average of the two middle numbers in a list of sorted values\n",
    "\n",
    "### In the next cell, create a function that when passed a list of integers will calculate the median in that list. \n",
    ">- Remember, the median relates to a sorted list of values so make sure your function accounts for this if a user passes an unsorted list to the function\n",
    ">- Do not use a module to answer this question. Define your own median function. "
   ]
  },
  {
   "cell_type": "code",
   "execution_count": 90,
   "metadata": {},
   "outputs": [],
   "source": [
    "def median(numbers):\n",
    "    quot, remainder = divmod(len(numbers), 2)\n",
    "    if remainder:\n",
    "        return sorted(numbers)[quot]\n",
    "    return sum(sorted(numbers)[quot - 1:quot + 1]) / 2\n",
    "    \n",
    "    "
   ]
  },
  {
   "cell_type": "markdown",
   "metadata": {},
   "source": [
    "### In the next cell pass the list, `[90, 100, 80, 50, 50, 60, 100]` to your median function and show the result"
   ]
  },
  {
   "cell_type": "code",
   "execution_count": 134,
   "metadata": {},
   "outputs": [
    {
     "data": {
      "text/plain": [
       "80"
      ]
     },
     "execution_count": 134,
     "metadata": {},
     "output_type": "execute_result"
    }
   ],
   "source": [
    "median([90,100,80,50,50,60,100])\n"
   ]
  },
  {
   "cell_type": "markdown",
   "metadata": {},
   "source": [
    "# Q16 (40 points, graded with code rubric) Summation Function \n",
    ">- Create a function named, `summation` that will return the sum of the numbers in a given range of integers\n",
    ">- Your function should work for any two numbers passed as parameters as long as the first number is less than or equal to the second number \n",
    ">>- For example, summation(1,4) would return 10 if passed 1 for the lower number and 4 for the upper number\n",
    ">>>- Note: The math behind this particular example to help show what this function does is: 1+2+3+4 = 10\n"
   ]
  },
  {
   "cell_type": "code",
   "execution_count": 109,
   "metadata": {},
   "outputs": [],
   "source": [
    "def summation(beg,end):\n",
    "    summ = 0\n",
    "    for num in range(beg,end+1):\n",
    "        summ += num\n",
    "    \n",
    "    print(summ)"
   ]
  },
  {
   "cell_type": "markdown",
   "metadata": {},
   "source": [
    "### In the next cell, call `summation`, pass the numbers 1 and 10 to it, and return the results. "
   ]
  },
  {
   "cell_type": "code",
   "execution_count": 110,
   "metadata": {},
   "outputs": [
    {
     "name": "stdout",
     "output_type": "stream",
     "text": [
      "55\n"
     ]
    }
   ],
   "source": [
    "summation(1,10)"
   ]
  },
  {
   "cell_type": "markdown",
   "metadata": {},
   "source": [
    "# Q17 (40 points, graded with code rubric) One Million Revenue\n",
    ">- The dictionary in the next cell stores information about revenue.\n",
    ">>- The keys are unique records in the database in order of when a customer made a purchase\n",
    ">>- The list within the dictionary stores: Firstname, Lastname, Revenue\n",
    "### Write the python code to answer the following questions: \n",
    ">>- Q: How many customers does it take to reach $1,000,000 in revenue?\n",
    ">>>- What customer put the company over the \\$1,000,000 mark?\n",
    ">>- Include a final print statement that looks like the following with actual data in place of items in {}:\n",
    ">>>- It took {xNumberCustomers} to reach \\$1,000,000.\n",
    ">>>- The customer that put us over the goal was: {Firstname} {Lastname}!"
   ]
  },
  {
   "cell_type": "code",
   "execution_count": 112,
   "metadata": {},
   "outputs": [],
   "source": [
    "# Here is the dictionary of customers and revenue\n",
    "cust = {\n",
    "        1: ['Micah', 'McGee', 245000],\n",
    "        2: ['Sue', 'Smith', 749000],\n",
    "        3: ['Thomas', 'Miller', 850000],\n",
    "        4: ['Bud', 'Weiser', 123789],\n",
    "        5: ['Samuel', 'Adams', 83625],\n",
    "}"
   ]
  },
  {
   "cell_type": "markdown",
   "metadata": {},
   "source": [
    "#### Write your code to answer the questions in the next cell"
   ]
  },
  {
   "cell_type": "code",
   "execution_count": 131,
   "metadata": {},
   "outputs": [
    {
     "name": "stdout",
     "output_type": "stream",
     "text": [
      "It took 3 customers to reach $1,000,000. \n",
      "The customer that put us over the goal was: Thomas Miller\n"
     ]
    }
   ],
   "source": [
    "summ = 0\n",
    "\n",
    "for i in cust:\n",
    "    summ += cust[i][2]\n",
    "    if summ >= 1000000:\n",
    "        print(f'''It took {i} customers to reach $1,000,000. \n",
    "The customer that put us over the goal was: {cust[i][0]} {cust[i][1]}''')\n",
    "        break"
   ]
  }
 ],
 "metadata": {
  "kernelspec": {
   "display_name": "Python 3",
   "language": "python",
   "name": "python3"
  },
  "language_info": {
   "codemirror_mode": {
    "name": "ipython",
    "version": 3
   },
   "file_extension": ".py",
   "mimetype": "text/x-python",
   "name": "python",
   "nbconvert_exporter": "python",
   "pygments_lexer": "ipython3",
   "version": "3.7.4"
  },
  "latex_envs": {
   "LaTeX_envs_menu_present": true,
   "autoclose": false,
   "autocomplete": true,
   "bibliofile": "biblio.bib",
   "cite_by": "apalike",
   "current_citInitial": 1,
   "eqLabelWithNumbers": true,
   "eqNumInitial": 1,
   "hotkeys": {
    "equation": "Ctrl-E",
    "itemize": "Ctrl-I"
   },
   "labels_anchors": false,
   "latex_user_defs": false,
   "report_style_numbering": false,
   "user_envs_cfg": false
  }
 },
 "nbformat": 4,
 "nbformat_minor": 2
}
