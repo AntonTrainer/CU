{
 "cells": [
  {
   "cell_type": "markdown",
   "metadata": {},
   "source": [
    "# Python Flow Control 1: `for`, `while` loops\n",
    "## Teaching Notes\n",
    "***\n",
    "## Learning Objectives\n",
    "In this lesson you will: \n",
    "\n",
    "        1. Learn the fundamentals of the `for` loop\n",
    "        2. Learn the fundamentals of the `while` loop\n",
    "        3. Learn the fundamentals of creating a list variable\n",
    "        4. Write Python code to make decisions using the `for` and `while` loop\n",
    "               \n",
    "## Modules covered in this lesson: \n",
    ">- `random` (only in text, not in the ipynb)\n",
    "\n",
    "## Functions covered in this lesson:\n",
    ">- `range()`\n",
    ">-  `append()`\n",
    "\n",
    "## Links to topics and functions:\n",
    ">- <a id='ForLoops'></a>[for loops](#for-loops)\n",
    ">- <a id='WhileLoops'></a>[while loops](#while-loops)\n",
    ">- <a id='append'></a>[append() Function](#Break-Statement)\n",
    ">- <a id='HW'></a> [Homework](#Homework)\n",
    "\n",
    "### Path to main python folder: C:\\\\Users\\\\mimc2537\\OneDrive - UCB-O365\\python\\week3\n",
    "#### References: Sweigart(2015, pp. 43-58)\n",
    "\n",
    "#### Great tool for testing code and seeing how things are working: http://pythontutor.com/visualize.html#mode=display"
   ]
  },
  {
   "cell_type": "markdown",
   "metadata": {
    "slideshow": {
     "slide_type": "slide"
    }
   },
   "source": [
    "# `for` loops\n",
    "\n",
    ">- We have learned about using `if`, `elif`, and `else` to make decisions\n",
    ">- Loops allow us to do repetitive tasks very quickly\n",
    ">- `for` loops are ususually used to execute a block of code a specified number of times \n",
    ">- To specifiy the number of times to execute a block of code in a `for` loop we use the `range()` function\n",
    "\n",
    "`for` loops include the following:\n",
    "\n",
    "1. The *for* keyword, \n",
    "2. A variable name\n",
    "3. The *in* keyword\n",
    "4. A call to the `range()` function with up to three integers passed to it\n",
    "    >- Note: we don't always use the range() function in loops\n",
    "    >- Loops can be used with a list, tuple, dictionary, a set, or a string\n",
    "    >- Your text focuses on using the range() function but we will also introduce a list variable. \n",
    "5. A colon\n",
    "6. The *for clause* which is the indented block of code following starting on the next line\n",
    "\n",
    "Let's work through some examples to get familiar with a `for` loop."
   ]
  },
  {
   "cell_type": "markdown",
   "metadata": {},
   "source": [
    "## `for` loops with the range() function"
   ]
  },
  {
   "cell_type": "code",
   "execution_count": 2,
   "metadata": {
    "slideshow": {
     "slide_type": "slide"
    }
   },
   "outputs": [
    {
     "name": "stdout",
     "output_type": "stream",
     "text": [
      "Go Buffs! Loop itteration: 0\n",
      "Go Buffs! Loop itteration: 1\n",
      "Go Buffs! Loop itteration: 2\n",
      "Go Buffs! Loop itteration: 3\n",
      "Go Buffs! Loop itteration: 4\n"
     ]
    }
   ],
   "source": [
    "#Task create a program the will print \"Go Buffs!\" 5x \n",
    "#We will also print the loop intteration and the value of a var, i, at each iteration \n",
    "\n",
    "for i in range(5):\n",
    "    print(\"Go Buffs!\" + \" Loop itteration: \" + str(i))"
   ]
  },
  {
   "cell_type": "code",
   "execution_count": 1,
   "metadata": {},
   "outputs": [
    {
     "name": "stdout",
     "output_type": "stream",
     "text": [
      "0 1 2 3 4 5 "
     ]
    }
   ],
   "source": [
    "# Task: print the numbers from 0-5 using a loop\n",
    "\n",
    "for i in range(6):\n",
    "    print(i, end = \" \") #make the numbers print with a space at the end not a new line\n",
    "    "
   ]
  },
  {
   "cell_type": "markdown",
   "metadata": {},
   "source": [
    "## More `for` loop notes\n",
    ">- Loops that count through a range of numbers are called `count-controlled loops`\n",
    ">- The general syntax for this type of loop is:\n",
    "\n",
    "for variable in range(an integer expression):\n",
    "\n",
    "    statement_1\n",
    "    .\n",
    "    .\n",
    "    .\n",
    "    statement_n"
   ]
  },
  {
   "cell_type": "markdown",
   "metadata": {},
   "source": [
    "### Notes on the range() function\n",
    ">- Definition: the `range()` function returns a sequence of numbers, starting from 0 by default, and increments by 1 (by default), and ends at a specified number\n",
    ">- Syntax: range(start, stop, step)\n",
    ">>- start = the number (inclusive) to start the range. This is an optional parameter that defaults to 0. \n",
    ">>- stop = the number (exclusive) to stop the range. This is a required parameter. \n",
    ">>- step = the number specifying how to increment values in the range. Default is 1. "
   ]
  },
  {
   "cell_type": "markdown",
   "metadata": {},
   "source": [
    "### More examples using the range() function"
   ]
  },
  {
   "cell_type": "code",
   "execution_count": 9,
   "metadata": {},
   "outputs": [
    {
     "name": "stdout",
     "output_type": "stream",
     "text": [
      "3 4 5 "
     ]
    }
   ],
   "source": [
    "#Task: assign a var, x, the values in the range strating at 3 and going up to, but excluding 6\n",
    "\n",
    "x = range(3,6)\n",
    "\n",
    "for i in x:\n",
    "    print(i, end = \" \")"
   ]
  },
  {
   "cell_type": "code",
   "execution_count": 1,
   "metadata": {},
   "outputs": [
    {
     "name": "stdout",
     "output_type": "stream",
     "text": [
      "yes\n",
      "yes\n",
      "yes\n",
      "yes\n",
      "yes\n",
      "yes\n",
      "yes\n",
      "yes\n",
      "yes\n",
      "yes\n"
     ]
    }
   ],
   "source": [
    "for i in range(10):\n",
    "    print('yes')"
   ]
  },
  {
   "cell_type": "code",
   "execution_count": 2,
   "metadata": {},
   "outputs": [
    {
     "name": "stdout",
     "output_type": "stream",
     "text": [
      "0 1 2 3 4 "
     ]
    }
   ],
   "source": [
    "for count in range(5):\n",
    "    print(count, end=\" \")"
   ]
  },
  {
   "cell_type": "code",
   "execution_count": 3,
   "metadata": {},
   "outputs": [
    {
     "name": "stdout",
     "output_type": "stream",
     "text": [
      "4\n"
     ]
    }
   ],
   "source": [
    "x =5 \n",
    "y = 4\n",
    "if x >y:\n",
    "    print(y)\n",
    "    \n",
    "else:\n",
    "    print(x)"
   ]
  },
  {
   "cell_type": "code",
   "execution_count": 10,
   "metadata": {},
   "outputs": [
    {
     "name": "stdout",
     "output_type": "stream",
     "text": [
      "10,9,8,7,6,5,4,3,2,1,0,"
     ]
    }
   ],
   "source": [
    "x = range(10, -1, -1)\n",
    "\n",
    "for num in x:\n",
    "    print(num, end = \",\")"
   ]
  },
  {
   "cell_type": "markdown",
   "metadata": {},
   "source": [
    "## for Loops using a list variable\n",
    ">- A list is a collection which is ordered and changeable. \n",
    ">- In Python, lists are written with square,[], brackets\n",
    ">- We will learn more about lists but this is enough to work with them in loops for now"
   ]
  },
  {
   "cell_type": "code",
   "execution_count": 15,
   "metadata": {},
   "outputs": [
    {
     "name": "stdout",
     "output_type": "stream",
     "text": [
      "apple\n",
      "banana\n",
      "cherry\n"
     ]
    }
   ],
   "source": [
    "# Here the variable fruit is a list with various fruits\n",
    "\n",
    "fruits =['apple', 'banana', 'cherry']\n",
    "\n",
    "#Write a for loop that will print all the elements of the list \n",
    "\n",
    "for fruit in fruits:\n",
    "    print(fruit)"
   ]
  },
  {
   "cell_type": "code",
   "execution_count": 16,
   "metadata": {},
   "outputs": [
    {
     "name": "stdout",
     "output_type": "stream",
     "text": [
      "banana\n"
     ]
    }
   ],
   "source": [
    "fruits =['apple', 'banana', 'cherry']\n",
    "\n",
    "for i in fruits:\n",
    "    if i == 'banana':\n",
    "        print(i)"
   ]
  },
  {
   "cell_type": "code",
   "execution_count": 25,
   "metadata": {},
   "outputs": [
    {
     "name": "stdout",
     "output_type": "stream",
     "text": [
      "apple\n",
      "banana\n"
     ]
    }
   ],
   "source": [
    "fruits =['apple', 'banana', 'cherry']\n",
    "\n",
    "for i in fruits:\n",
    "    print(i)\n",
    "    if i == 'banana':\n",
    "        break"
   ]
  },
  {
   "cell_type": "code",
   "execution_count": 32,
   "metadata": {},
   "outputs": [
    {
     "name": "stdout",
     "output_type": "stream",
     "text": [
      "apple\n"
     ]
    }
   ],
   "source": [
    "fruits =['apple', 'banana', 'cherry']\n",
    "\n",
    "for y in fruits:\n",
    "    if y == 'banana':\n",
    "        break\n",
    "    print(y)\n"
   ]
  },
  {
   "cell_type": "markdown",
   "metadata": {},
   "source": [
    "### Break Statement\n",
    ">- The break statement can stop a loop before it has looped through all the items\n",
    ">- If the execution reaches a break statement, it exits the loop's clause\n",
    ">- Note the different output given in the prior two examples based on where we placed if clause and break statement\n",
    ">>- Run those two examples through the python tutor visualization tool to see how each is being processed\n",
    ">- Break statements can be very useful in `while` loops to prevent infinite loops"
   ]
  },
  {
   "cell_type": "code",
   "execution_count": 44,
   "metadata": {},
   "outputs": [
    {
     "name": "stdout",
     "output_type": "stream",
     "text": [
      "ading 0 to the list\n",
      "now the list contains [0]\n",
      "ading 1 to the list\n",
      "now the list contains [0, 1]\n",
      "ading 2 to the list\n",
      "now the list contains [0, 1, 2]\n",
      "ading 3 to the list\n",
      "now the list contains [0, 1, 2, 3]\n",
      "ading 4 to the list\n",
      "now the list contains [0, 1, 2, 3, 4]\n",
      "ading 5 to the list\n",
      "now the list contains [0, 1, 2, 3, 4, 5]\n"
     ]
    },
    {
     "data": {
      "text/plain": [
       "[0, 1, 2, 3, 4, 5]"
      ]
     },
     "execution_count": 44,
     "metadata": {},
     "output_type": "execute_result"
    }
   ],
   "source": [
    "# we can build a list using a for statement and the append() method \n",
    "\n",
    "# First, initialize the list object \n",
    "list_build = []\n",
    "\n",
    "for i in range(0,6):\n",
    "    print(f\"ading {i} to the list\") #f string adds the value in {} to the print statemetn without concat\n",
    "    list_build.append(i)\n",
    "    \n",
    "    print(f'now the list contains {list_build}')\n",
    "\n",
    "list_build"
   ]
  },
  {
   "cell_type": "markdown",
   "metadata": {},
   "source": [
    "## Some more notes on the  `listBuild` code above\n",
    "1. On line `8` we are inserting a print() statement to help us keep track of the loop\n",
    "2. On line `10`, we introduced the `append()` method\n",
    ">- The append method adds values to a list.\n",
    ">>- Code Lingo: we are \"calling the append() method on the list object, listBuild, and passing the loop variable's value at each iteration to the append() method\" which is the value that gets added to the list.\n",
    ">- We haven't covered methods/functions yet but we will introduce these throughout various lessons.\n",
    "3. On line `12`, we insert another print() statement to show us how `listBuild` gets built by this loop\n",
    "4. On line `14`, we are calling our `listBuild` object to show the current value"
   ]
  },
  {
   "cell_type": "markdown",
   "metadata": {},
   "source": [
    "#### Task: write a program that will:\n",
    "1. Sum the numbers from 0-10, \n",
    "2. Store the result/answer in a variable named, total.\n",
    "3. Print out each iteration of the loop showing: \n",
    "     \n",
    "     a. The current value of the loop variable, `num`, defined in the `for` statement\n",
    "     \n",
    "     b. The running total stored in the variable, `total`\n",
    "     \n",
    "4. Print \"This is the end of the loop\" when the variable, `num`, reaches the last number in the range \n",
    "5. Print the final answer of the sum of the numbers from 0-10 (including 10). "
   ]
  },
  {
   "cell_type": "code",
   "execution_count": 51,
   "metadata": {},
   "outputs": [
    {
     "name": "stdout",
     "output_type": "stream",
     "text": [
      "Now num = 1\n",
      "Running total = 1\n",
      "Now num = 2\n",
      "Running total = 3\n",
      "Now num = 3\n",
      "Running total = 6\n",
      "Now num = 4\n",
      "Running total = 10\n",
      "Now num = 5\n",
      "Running total = 15\n",
      "Now num = 6\n",
      "Running total = 21\n",
      "Now num = 7\n",
      "Running total = 28\n",
      "Now num = 8\n",
      "Running total = 36\n",
      "Now num = 9\n",
      "Running total = 45\n",
      "Now num = 10\n",
      "Running total = 55\n",
      "This is the end of the loop\n",
      "The final solution =55\n"
     ]
    }
   ],
   "source": [
    "total = 0\n",
    "\n",
    "for num in range(1,11):\n",
    "    print(f'Now num = {num}')\n",
    "    \n",
    "    total = total + num # this can be written as total += num\n",
    "    \n",
    "    print(f'Running total = {total}')\n",
    "    \n",
    "    if num == 10:\n",
    "        print('This is the end of the loop')\n",
    "print('The final solution =' + str(total))"
   ]
  },
  {
   "cell_type": "markdown",
   "metadata": {},
   "source": [
    "# `while` loops\n",
    ">- `while` loops allows us to perform conditional iteration\n",
    ">>- That is, the process will continue to repeat as long as the condition remains true\n",
    "\n",
    ">- The general syntax for a `while` loop is:\n",
    "\n",
    ">>- while condition:\n",
    "        sequence of statements\n",
    "    \n",
    "`while` loops include the following:\n",
    "\n",
    "1. The *while* keyword, \n",
    "2. A condition/expression that evaluates to True or False \n",
    "3. A colon\n",
    "4. The *while clause* which is the indented block of code starting on the next line\n",
    "\n",
    "Some more notes on `while` loops:\n",
    ">- `while` loops are similar to an `if` statement but instead of doing the evaluation once, they jump back to the start and test again\n",
    ">- A `while` loop will run until the condition evaluates to False\n",
    ">- Infinite loops are loops that never evaluate to False. Here's some tips on how to avoid an infinite loop:\n",
    ">>- If you can do the loop with a `for` loop, use the `for` loop\n",
    ">>- Review your `while` statement and make sure that the Boolean test will eventually be False\n",
    ">>- When in doubt, print out your test variable at the top and bottom of the `while` loop to see what's going on\n",
    ">>>- Also use the python tutor visualization tool to see how your `while` loop is working: http://pythontutor.com/visualize.html#mode=edit\n",
    "\n",
    "\n",
    "\n",
    "Let's work through some examples to get familiar with a `while` loop.\n",
    "\n",
    "<a id='top'></a>[TopPage](#Teaching-Notes)\n",
    "    "
   ]
  },
  {
   "cell_type": "markdown",
   "metadata": {},
   "source": [
    "## The annoying `while` loop\n",
    "### Task: create a program to ask a user for their name and if their name does not match 'your name' keep asking them until they input the correct response."
   ]
  },
  {
   "cell_type": "code",
   "execution_count": 2,
   "metadata": {},
   "outputs": [
    {
     "name": "stdout",
     "output_type": "stream",
     "text": [
      "Please type ur name: Anton\n",
      "Please type ur name: your name\n",
      "thank you\n"
     ]
    }
   ],
   "source": [
    "#initialize a variable with a blank string value\n",
    "name = ' ' \n",
    "\n",
    "while name != 'your name':\n",
    "    name = input('Please type ur name: ')\n",
    "print('thank you')\n"
   ]
  },
  {
   "cell_type": "markdown",
   "metadata": {},
   "source": [
    "#### Rewriting the previous `while` loop but with print() statements to see what is going on"
   ]
  },
  {
   "cell_type": "code",
   "execution_count": 2,
   "metadata": {},
   "outputs": [
    {
     "name": "stdout",
     "output_type": "stream",
     "text": [
      "At the top name is   and the bool value is True\n",
      "Please type ur name: anton\n",
      " at the bottome name is anton and the bool value is True\n",
      "At the top name is anton and the bool value is True\n",
      "Please type ur name: your name\n",
      " at the bottome name is your name and the bool value is False\n",
      "thank you\n"
     ]
    }
   ],
   "source": [
    "#initialize a variable with a blank string value\n",
    "name = ' ' \n",
    "\n",
    "while name != 'your name':\n",
    "    print(f\"At the top name is {name} and the bool value is {name != 'your name'}\")\n",
    "    name = input('Please type ur name: ')\n",
    "    print(f' at the bottome name is {name} and the bool value is {name != \"your name\"}')\n",
    "\n",
    "print('thank you')        \n",
    "          \n",
    "          "
   ]
  },
  {
   "cell_type": "markdown",
   "metadata": {},
   "source": [
    "## If you see `In [*]` when running code in jupyter notebooks\n",
    ">- This means the kernal is running\n",
    ">- A `kernal` is a program that runs and examines our code\n",
    ">>- We set the `kernal` to whatever language we are working in (e.g., Python, SQL, R)\n",
    ">>- Seeing `In [*]` for more than a few seconds means the `kernal` is working pretty hard to run our code\n",
    ">- When working with loops it is likely that you will see the `In [*]` at some point\n",
    ">>- If you see this for long periods of time it is usually best to `Restart & Clear All Output`\n",
    ">>- Click on `Kernal` on the jupyter banner then click `Restart & Clear All Output`"
   ]
  },
  {
   "cell_type": "markdown",
   "metadata": {},
   "source": [
    "#### Another while loop that checks for a user name and password\n",
    "Task: \n",
    "1. Ask a user for their name\n",
    "2. Check to see if the name is 'Joe' \n",
    "3. If name is not 'Joe', ask the user again for their name\n",
    "4. If name is 'Joe', ask user for their password\n",
    "5. If password is 'swordfish' print 'Access Granted'\n",
    "6. If password is NOT 'swordfish' make the user start over\n"
   ]
  },
  {
   "cell_type": "code",
   "execution_count": 5,
   "metadata": {},
   "outputs": [
    {
     "name": "stdout",
     "output_type": "stream",
     "text": [
      "what is your name?no\n",
      "what is your name?Joe\n",
      "Hello, Joe, what is the password?\n",
      "enter pass:no\n",
      "what is your name?Joe\n",
      "Hello, Joe, what is the password?\n",
      "enter pass:swrodfish\n",
      "what is your name?Joe\n",
      "Hello, Joe, what is the password?\n",
      "enter pass:swordfish\n",
      "access granted\n"
     ]
    }
   ],
   "source": [
    "while True:\n",
    "    name = input('what is your name?')\n",
    "    if name != 'Joe':\n",
    "        continue\n",
    "    print(f'Hello, {name}, what is the password?')\n",
    "    \n",
    "    password = input('enter pass:')\n",
    "    \n",
    "    if password == 'swordfish':\n",
    "        break\n",
    "print('access granted')\n"
   ]
  },
  {
   "cell_type": "markdown",
   "metadata": {},
   "source": [
    "#### Building a list with a while loop\n"
   ]
  },
  {
   "cell_type": "code",
   "execution_count": 13,
   "metadata": {},
   "outputs": [
    {
     "name": "stdout",
     "output_type": "stream",
     "text": [
      "At the top i = 0\n",
      "Now the numbers list is [0]\n",
      "At the bottom i = 1\n",
      "At the top i = 1\n",
      "Now the numbers list is [0, 1]\n",
      "At the bottom i = 2\n",
      "At the top i = 2\n",
      "Now the numbers list is [0, 1, 2]\n",
      "At the bottom i = 3\n",
      "At the top i = 3\n",
      "Now the numbers list is [0, 1, 2, 3]\n",
      "At the bottom i = 4\n",
      "At the top i = 4\n",
      "Now the numbers list is [0, 1, 2, 3, 4]\n",
      "At the bottom i = 5\n",
      "At the top i = 5\n",
      "Now the numbers list is [0, 1, 2, 3, 4, 5]\n",
      "At the bottom i = 6\n",
      "At the top i = 6\n",
      "Now the numbers list is [0, 1, 2, 3, 4, 5, 6]\n",
      "At the bottom i = 7\n",
      "At the top i = 7\n",
      "Now the numbers list is [0, 1, 2, 3, 4, 5, 6, 7]\n",
      "At the bottom i = 8\n",
      "At the top i = 8\n",
      "Now the numbers list is [0, 1, 2, 3, 4, 5, 6, 7, 8]\n",
      "At the bottom i = 9\n",
      "At the top i = 9\n",
      "Now the numbers list is [0, 1, 2, 3, 4, 5, 6, 7, 8, 9]\n",
      "At the bottom i = 10\n",
      "The numbers appened to our list are: \n",
      "0 1 2 3 4 5 6 7 8 9 "
     ]
    }
   ],
   "source": [
    "#initialize a variable, i, with the value = 0\n",
    "\n",
    "i = 0\n",
    "\n",
    "#initialize a variable, numbers, with a blank list\n",
    "\n",
    "numbers = []\n",
    "\n",
    "while i < 10:\n",
    "    print(f'At the top i = {i}')\n",
    "    numbers.append(i)\n",
    "    i += 1\n",
    "    print(f'Now the numbers list is {numbers}')\n",
    "    print(f'At the bottom i = {i}')\n",
    "    \n",
    "print('The numbers appened to our list are: ')\n",
    "\n",
    "for num in numbers:\n",
    "    print(num, end= ' ')"
   ]
  },
  {
   "cell_type": "markdown",
   "metadata": {},
   "source": [
    "# Some Final Notes on loops\n",
    ">- From a practical standpoint, `for` loops are usually better in terms of readability and precision. \n",
    ">- Based on experience and from talking to programmers, the most common loop in practice is the `for` loop\n",
    ">- In general, here are some notes on when to use one loop over the other:\n",
    ">>- Use `for` loops when you know the number of iterations (loops) you need\n",
    ">>- Use `while` when you don't know the number of iterations (loops) you need\n",
    ">>>- The word of caution here is that you want to make sure your loop will stop at some point\n",
    ">>- If you ever create a loop that never stops here are some ways to stop it:\n",
    ">>>- In jupyter notebooks, click Kernel --> 'Restart & Clear All Output'\n",
    ">>>- Other programs will use `Ctrl+C` \n",
    ">>>- If everything is locked up, restart your computer"
   ]
  },
  {
   "cell_type": "markdown",
   "metadata": {},
   "source": [
    "# Homework"
   ]
  },
  {
   "cell_type": "markdown",
   "metadata": {},
   "source": [
    "1.  using a `for` loop, write a program that will print the even numbers from 0 to 20"
   ]
  },
  {
   "cell_type": "code",
   "execution_count": null,
   "metadata": {},
   "outputs": [],
   "source": []
  },
  {
   "cell_type": "markdown",
   "metadata": {},
   "source": [
    "2.  using a `while` loop, write a program that will print the even numbers from 0 to 20"
   ]
  },
  {
   "cell_type": "code",
   "execution_count": null,
   "metadata": {},
   "outputs": [],
   "source": []
  },
  {
   "cell_type": "markdown",
   "metadata": {},
   "source": [
    "3. Follow the directions below to write a program that will:\n",
    ">- create a list variable, fruits, and initilize it with these values\n",
    ">>- 'apples', 'oranges', 'pears'\n",
    ">- add new fruits to the fruits variable from another variable list called, newFruit\n",
    ">>- The new fruits added to the produce department are: kiwi, grapes, apricots\n",
    ">- print all the fruits now in the fruits variable\n",
    "\n"
   ]
  },
  {
   "cell_type": "code",
   "execution_count": null,
   "metadata": {},
   "outputs": [],
   "source": []
  },
  {
   "cell_type": "markdown",
   "metadata": {},
   "source": [
    "<a id='top'></a>[TopPage](#Teaching-Notes)"
   ]
  }
 ],
 "metadata": {
  "kernelspec": {
   "display_name": "Python 3",
   "language": "python",
   "name": "python3"
  },
  "language_info": {
   "codemirror_mode": {
    "name": "ipython",
    "version": 3
   },
   "file_extension": ".py",
   "mimetype": "text/x-python",
   "name": "python",
   "nbconvert_exporter": "python",
   "pygments_lexer": "ipython3",
   "version": "3.7.4"
  }
 },
 "nbformat": 4,
 "nbformat_minor": 4
}
