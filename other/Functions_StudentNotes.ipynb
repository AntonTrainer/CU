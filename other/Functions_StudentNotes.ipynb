{
 "cells": [
  {
   "cell_type": "markdown",
   "metadata": {},
   "source": [
    "# Python Functions\n",
    "## Student Notes\n",
    "***\n",
    "## Learning Objectives\n",
    "In this lesson you will: \n",
    "\n",
    "        1. Learn the fundamentals of functions in Python\n",
    "        2. Understand the difference between local and global variables\n",
    "        3. Write Python code to define and call your own functions\n",
    "        4. Import a module to expand Python's functionality\n",
    "               \n",
    "## New modules covered in this lesson: \n",
    ">- `random` \n",
    "\n",
    "## New functions covered in this lesson:\n",
    ">- `random.randint()`\n",
    "\n",
    "\n",
    "## Links to topics and functions:\n",
    ">- <a id='def'></a>[def Statement](#def-Statements-with-Parameters)\n",
    ">- <a id='LocalGlobal'></a>[Local and Global Scope](#Local-and-Global-Scope)\n",
    ">- <a id='random'></a>[random() Function](#Return-values-and-return-statements)\n",
    ">- <a id='HW'></a> [Homework](#Homework)\n",
    "\n",
    "### Path to main python folder: C:\\\\Users\\\\mimc2537\\OneDrive - UCB-O365\\python\\week5\n",
    "#### References: Sweigart(2015, pp. 61-77)\n",
    "\n",
    "#### Great tool for testing code and seeing how your code is working: http://pythontutor.com/visualize.html#mode=display"
   ]
  },
  {
   "cell_type": "markdown",
   "metadata": {
    "slideshow": {
     "slide_type": "slide"
    }
   },
   "source": [
    "# Initial Notes on Functions\n",
    ">- We have learned how to use some Python built-in functions such as: `print()`, `input()`, and `list.append()`\n",
    ">- A main reason for the use of functions is to group code that gets executed multiple times \n",
    ">>- If you find yourself duplicating code that is usually a cue that you could write a function to be more efficient in your code\n",
    ">- One of the strengths of Python is that people are continually creating functions for various tasks\n",
    ">>- Many people rely on various Python modules with built-in functions to write  code\n",
    ">>- However, there could be instances where you would need to create your own functions\n",
    ">>- Regardless if you ever have to write your own functions in practice or not, it is still good to understand the fundamentals of functions\n",
    "\n",
    "### Some Function Basic Notes and \"Talking\" Functions\n",
    "\n",
    "1. \"Calling\" a function is when you write the function in your code: print(), input(), etc are \"calls\" to these functions \n",
    "2. \"Passing\" in values, called arguments, is when you input something into the function. For example: \n",
    ">- In general: print(*argument*) \n",
    ">- A specific argument: print('Hello World')\n",
    ">>- Here we are \"calling\" the print function and \"passing\" the value/argument 'Hello World' into it\n",
    "3. A *parameter* is a variable that an argument is stored in when a function is called\n",
    "\n",
    "Let's work through some examples to get more familiar with functions."
   ]
  },
  {
   "cell_type": "code",
   "execution_count": 5,
   "metadata": {},
   "outputs": [],
   "source": [
    "def buffs():\n",
    "    print('Give me a C!')\n",
    "    print('Give me a U!')\n",
    "    print('Give me a Buffs!')\n",
    "    print('GO CU BUFFS!')\n"
   ]
  },
  {
   "cell_type": "markdown",
   "metadata": {},
   "source": [
    "##### Notice when we run the previous cell we do not see an output. Why?"
   ]
  },
  {
   "cell_type": "code",
   "execution_count": 7,
   "metadata": {},
   "outputs": [
    {
     "name": "stdout",
     "output_type": "stream",
     "text": [
      "Give me a C!\n",
      "Give me a U!\n",
      "Give me a Buffs!\n",
      "GO CU BUFFS!\n"
     ]
    }
   ],
   "source": [
    "buffs()"
   ]
  },
  {
   "cell_type": "markdown",
   "metadata": {},
   "source": [
    "##### Can we \"pass\" our buffs() function to another function?"
   ]
  },
  {
   "cell_type": "code",
   "execution_count": 8,
   "metadata": {},
   "outputs": [
    {
     "name": "stdout",
     "output_type": "stream",
     "text": [
      "Give me a C!\n",
      "Give me a U!\n",
      "Give me a Buffs!\n",
      "GO CU BUFFS!\n",
      "None\n"
     ]
    }
   ],
   "source": [
    "print(buffs())"
   ]
  },
  {
   "cell_type": "markdown",
   "metadata": {},
   "source": [
    "##### Why did we get the extra line of output of 'None'? \n",
    ">- Because we did not specify a return statement, Python automatically added a return None value to our function\n",
    ">>- So, when we called buffs() in the print() function, the code runs through all of the buffs() function plus prints the return value \n",
    ">>- More on function returns later in this lesson"
   ]
  },
  {
   "cell_type": "code",
   "execution_count": 9,
   "metadata": {},
   "outputs": [
    {
     "name": "stdout",
     "output_type": "stream",
     "text": [
      "Give me a C!\n",
      "Give me a U!\n",
      "Give me a Buffs!\n",
      "GO CU BUFFS!\n"
     ]
    }
   ],
   "source": [
    "print('Give me a C!')\n",
    "print('Give me a U!')\n",
    "print('Give me a Buffs!')\n",
    "print('GO CU BUFFS!')"
   ]
  },
  {
   "cell_type": "markdown",
   "metadata": {},
   "source": [
    "### The answer to the previous question is, yes, you could get those 4 print() statements without building a function\n",
    "But consider this programming scenario:\n",
    ">- You have a program with hundreds of lines of code\n",
    ">- You need to print the previous 4 print statements multiple times throughout your longer program\n",
    ">- Then, someone requests that instead of 'BUFFS', we want 'Buffaloes!' printed\n",
    ">>- If you use a function to define and call the 4 print statements, you only have to update 'BUFFS' to 'Buffaloes' one time in the function\n",
    ">>- If you copy and pasted those 4 lines throughout your program, you would have to update 'BUFFS' to 'Buffaloes' every where in your code"
   ]
  },
  {
   "cell_type": "markdown",
   "metadata": {},
   "source": [
    "# `def` Statements with Parameters\n"
   ]
  },
  {
   "cell_type": "markdown",
   "metadata": {},
   "source": [
    "## Task: create a program using a function that:\n",
    "1. Prints \"Hello {name}\" on one line\n",
    "2. Prints \"What did you do this weekend, {name}\" on the other line\n",
    "\n",
    "Note: the {name} in the print statements should be values passed to the function. "
   ]
  },
  {
   "cell_type": "code",
   "execution_count": 11,
   "metadata": {
    "slideshow": {
     "slide_type": "slide"
    }
   },
   "outputs": [],
   "source": [
    "def hi(name):\n",
    "    print(f'Hello {name}')\n",
    "    print(f'What did you do this weekend, {name}?')\n",
    "    "
   ]
  },
  {
   "cell_type": "code",
   "execution_count": 12,
   "metadata": {},
   "outputs": [
    {
     "name": "stdout",
     "output_type": "stream",
     "text": [
      "Hello Anton\n",
      "What did you do this weekend, Anton?\n"
     ]
    }
   ],
   "source": [
    "hi('Anton')"
   ]
  },
  {
   "cell_type": "markdown",
   "metadata": {},
   "source": [
    "#### Notes on the previous example\n",
    "1. def hi(name): #here we are defining a function named, hi(), with a *parameter*, name. \n",
    "2. The next two lines of code define what our function will do. Print two statements. \n",
    "3. Then in the next cell we \"called\" our hi(name) function\n",
    ">- Then we \"passed\" specific values to the name *parameter*"
   ]
  },
  {
   "cell_type": "markdown",
   "metadata": {},
   "source": [
    "## Could we write our previous function to ask for user inputted name values? Let's try it."
   ]
  },
  {
   "cell_type": "code",
   "execution_count": 25,
   "metadata": {},
   "outputs": [],
   "source": [
    "def hello():\n",
    "    name = input(\"Enter your name: \")\n",
    "    print(f'Hello {name}. \\nWhat did you do this weekend, {name}?')\n",
    "    "
   ]
  },
  {
   "cell_type": "markdown",
   "metadata": {},
   "source": [
    "Now call your hello() function and see what happens\n"
   ]
  },
  {
   "cell_type": "code",
   "execution_count": 26,
   "metadata": {},
   "outputs": [
    {
     "name": "stdout",
     "output_type": "stream",
     "text": [
      "Enter your name: Anton\n",
      "Hello Anton. \n",
      "What did you do this weekend, Anton?\n"
     ]
    }
   ],
   "source": [
    "hello()"
   ]
  },
  {
   "cell_type": "markdown",
   "metadata": {},
   "source": [
    "##### Q: What value is stored in the name variable now?\n",
    "\n",
    "Try it and see what we get if we ask Python to show us name"
   ]
  },
  {
   "cell_type": "code",
   "execution_count": 30,
   "metadata": {},
   "outputs": [
    {
     "ename": "NameError",
     "evalue": "name 'name' is not defined",
     "output_type": "error",
     "traceback": [
      "\u001b[1;31m---------------------------------------------------------------------------\u001b[0m",
      "\u001b[1;31mNameError\u001b[0m                                 Traceback (most recent call last)",
      "\u001b[1;32m<ipython-input-30-7fec7a7899b6>\u001b[0m in \u001b[0;36m<module>\u001b[1;34m\u001b[0m\n\u001b[1;32m----> 1\u001b[1;33m \u001b[0mname\u001b[0m \u001b[1;31m#<-------- name is a local variable and is not defined globally\u001b[0m\u001b[1;33m\u001b[0m\u001b[1;33m\u001b[0m\u001b[0m\n\u001b[0m",
      "\u001b[1;31mNameError\u001b[0m: name 'name' is not defined"
     ]
    }
   ],
   "source": [
    "name #<-------- name is a local variable and is not defined globally"
   ]
  },
  {
   "cell_type": "markdown",
   "metadata": {},
   "source": [
    "#### We should have gotten a \"NameError: name 'name' is not defined\". Why?\n",
    ">- Notice that we defined the name variable inside of the function defintion, or within it's local scope"
   ]
  },
  {
   "cell_type": "markdown",
   "metadata": {},
   "source": [
    "# Local and Global Scope\n",
    "\n",
    "Parameters and variables that are assigned in a called function are said to exist in that function's `Local Scope`\n",
    ">- A variable that exists in a local scope, is called a *local variable*\n",
    "\n",
    "Parameters and variables that are assigned outside all functions are said to exist in the `Global Scope`\n",
    ">- A variable that exists in the global scope is called a *global variable*\n",
    "\n",
    "Some Notes on `scope`\n",
    ">- Think of the scope as a storage container for variables\n",
    ">>- Once the scope is destroyed, all the values stored in the scope's variables are forgotten\n",
    ">- There is only one global scope and it is created when your program begins\n",
    ">>- When the program terminates, the global scope is destroyed and all variable values are forgotten\n",
    ">- A local scope is created whenever a function is called\n",
    ">>- Any variables defined within the function belong to the local scope\n",
    ">>- When a function returns, the local scope is destroyed and any values in the local variables are forgotten\n",
    "\n",
    "Why do we need to understand scope?\n",
    "1. Code written in the global scope cannot use any local variables\n",
    "2. But, a local scope can access global variables\n",
    "3. Code written in one function's local scope cannot use variables from another local scope\n",
    "4. You can use the same name for different variables if they are in different scopes\n",
    "\n",
    "Why does Python use different scopes? \n",
    ">- Mainly to help with debugging our code\n",
    ">>- As programs get to be 100's if not 1000's of lines of code scope becomes more important\n",
    ">>- If all variables were global, it is usually harder to debug a program\n",
    ">>- By using local variables, the error code can more accurately point us to the potential problem\n",
    "\n",
    "Let's work through some examples to get familiar with global and local scope\n",
    "\n",
    "<a id='top'></a>[TopPage](#Student-Notes)\n",
    "    "
   ]
  },
  {
   "cell_type": "code",
   "execution_count": 1,
   "metadata": {},
   "outputs": [
    {
     "ename": "NameError",
     "evalue": "name 'eggs' is not defined",
     "output_type": "error",
     "traceback": [
      "\u001b[1;31m---------------------------------------------------------------------------\u001b[0m",
      "\u001b[1;31mNameError\u001b[0m                                 Traceback (most recent call last)",
      "\u001b[1;32m<ipython-input-1-e196cc07a43c>\u001b[0m in \u001b[0;36m<module>\u001b[1;34m\u001b[0m\n\u001b[0;32m      3\u001b[0m \u001b[0mspam\u001b[0m\u001b[1;33m(\u001b[0m\u001b[1;33m)\u001b[0m\u001b[1;33m\u001b[0m\u001b[1;33m\u001b[0m\u001b[0m\n\u001b[0;32m      4\u001b[0m \u001b[1;33m\u001b[0m\u001b[0m\n\u001b[1;32m----> 5\u001b[1;33m \u001b[0mprint\u001b[0m\u001b[1;33m(\u001b[0m\u001b[0meggs\u001b[0m\u001b[1;33m)\u001b[0m \u001b[1;31m#outside of the function now we are in the global scope\u001b[0m\u001b[1;33m\u001b[0m\u001b[1;33m\u001b[0m\u001b[0m\n\u001b[0m",
      "\u001b[1;31mNameError\u001b[0m: name 'eggs' is not defined"
     ]
    }
   ],
   "source": [
    "def spam():\n",
    "    eggs = 3 #local variable \n",
    "spam()\n",
    "\n",
    "print(eggs) #outside of the function now we are in the global scope \n"
   ]
  },
  {
   "cell_type": "code",
   "execution_count": 7,
   "metadata": {},
   "outputs": [
    {
     "name": "stdout",
     "output_type": "stream",
     "text": [
      "12\n"
     ]
    }
   ],
   "source": [
    "def spam():\n",
    "    eggs = 12\n",
    "    bacon()\n",
    "    print(eggs)\n",
    "    \n",
    "def bacon():\n",
    "    ham = 101\n",
    "    eggs = 0\n",
    "    \n",
    "\n",
    "spam()    "
   ]
  },
  {
   "cell_type": "markdown",
   "metadata": {},
   "source": [
    "##### Walk through the previous example in the Python visualization tool to see what is going on\n",
    "\n",
    "http://pythontutor.com/visualize.html#mode=display\n",
    "\n",
    "Q: Why is the output 1234 and not 0?\n",
    "\n",
    "because bacon is not set to return anything"
   ]
  },
  {
   "cell_type": "markdown",
   "metadata": {},
   "source": [
    "#### Another example to help understand local and global variables\n",
    "##### We will run this code through the visualizer tool"
   ]
  },
  {
   "cell_type": "code",
   "execution_count": 8,
   "metadata": {},
   "outputs": [
    {
     "name": "stdout",
     "output_type": "stream",
     "text": [
      "in the bacon function eggs = bacon function eggs\n",
      "In the spam function, eggs = local eggs in spam\n",
      "bacon function eggs\n",
      "In global scope eggs = global eggs\n"
     ]
    }
   ],
   "source": [
    "def spam():\n",
    "    eggs = 'local eggs in spam'\n",
    "    print(f'In the spam function, eggs = {eggs}')\n",
    "    \n",
    "def bacon():\n",
    "    eggs = 'bacon function eggs'\n",
    "    print(f'in the bacon function eggs = {eggs}')\n",
    "    spam()\n",
    "    print(eggs)\n",
    "eggs = 'global eggs'\n",
    "\n",
    "bacon()\n",
    "\n",
    "print(f'In global scope eggs = {eggs}')"
   ]
  },
  {
   "cell_type": "markdown",
   "metadata": {},
   "source": [
    "### 4 Rules to determine whether a variable is local or global\n",
    "1. If a variable is being used in the global scope(always outside of functions), then it is always global\n",
    "2. If there is a global statement for a variable in a function, it is a global variable\n",
    ">- For example, the following uses the global statement to define eggs as a global variable\n",
    "            def spam():\n",
    "                global eggs\n",
    "                eggs = 'spam'\n",
    "3. If the global statement is not used and the variable is used in an assignment statement in a fuction, it is a local variable\n",
    ">- For example, eggs is local to the bacon() function below:\n",
    "            def bacon():\n",
    "                eggs = 1234\n",
    "4. But if a variable is used in a function but not in an assignment statement, it is a global variable. \n",
    ">- For example, because eggs in the following code is not used in a assignement statement it is global\n",
    "            def ham():\n",
    "                print(eggs)\n",
    "         "
   ]
  },
  {
   "cell_type": "markdown",
   "metadata": {},
   "source": [
    "## Return values and return statements\n",
    ">- Definition: a *return value* is the value that a function call evaluates to.\n",
    ">>- If a function does not have a return statement, Python automatically adds return None \n",
    ">>- The None value is the only value of the NoneType data type\n",
    "\n",
    "### Importing the module, random\n",
    "\n",
    "Task: Create a Magic 8 Ball program that randomly returns the various answers of the Magic 8 Ball game to the screen. \n",
    "1. Create a function called getAnswer that has the parameter variable, answerNumber\n",
    "2. Pick 9 of the possible responses from the Magic 8 Ball designed by Mattel in the 1950s\n",
    "3. Design a control flow in your getAnswer function that will output the various Magic 8 Ball text\n",
    "4. Create a variable, randNum, that is assigned random numbers from 1-9\n",
    "5. Print a user's fortune when the function is called\n",
    "\n",
    "Hint: you will need to import the random module and call the randint() function in order to assign your randNum variable random values. "
   ]
  },
  {
   "cell_type": "code",
   "execution_count": 16,
   "metadata": {},
   "outputs": [],
   "source": [
    "def getAnswer(answerNumber):\n",
    "    if answerNumber ==1:\n",
    "        return 'it is centain'\n",
    "    elif answerNumber == 2:\n",
    "        return 'it is decidedly so'\n",
    "    elif answerNumber == 3:\n",
    "        return 'yes'\n",
    "    elif answerNumber == 4:\n",
    "        return 'rep hazy try again'\n",
    "    elif answerNumber == 5:\n",
    "        return 'ask again later'\n",
    "    elif answerNumber == 6:\n",
    "        return 'no'\n",
    "    elif answerNumber == 7:\n",
    "        return 'dont know'\n",
    "    elif answerNumber == 8:\n",
    "        return 'output not good'\n",
    "    else:\n",
    "        return 'doubtful'\n"
   ]
  },
  {
   "cell_type": "markdown",
   "metadata": {},
   "source": [
    "Now, let's try inputting a few values into our new function to see if it is working correctly. "
   ]
  },
  {
   "cell_type": "code",
   "execution_count": 17,
   "metadata": {},
   "outputs": [
    {
     "data": {
      "text/plain": [
       "'doubtful'"
      ]
     },
     "execution_count": 17,
     "metadata": {},
     "output_type": "execute_result"
    }
   ],
   "source": [
    "getAnswer(10)\n"
   ]
  },
  {
   "cell_type": "markdown",
   "metadata": {},
   "source": [
    "##### Next, let's figure out a way to get random numbers as values for our answerNumber parameter\n",
    ">- Google random functions for Python and see what you get. \n",
    ">- I found there is a module called, random, with a function in it called, randint(a, b)\n",
    ">>- The documentation on randint(a,b) says that it returns random values in a range with a,b parameters inclusive"
   ]
  },
  {
   "cell_type": "code",
   "execution_count": 62,
   "metadata": {},
   "outputs": [
    {
     "data": {
      "text/plain": [
       "5"
      ]
     },
     "execution_count": 62,
     "metadata": {},
     "output_type": "execute_result"
    }
   ],
   "source": [
    "import random \n",
    "\n",
    "random.randint(1,9)\n",
    "\n"
   ]
  },
  {
   "cell_type": "markdown",
   "metadata": {},
   "source": [
    "##### Now, how do we combine the random number generator with our getAnswer function to generate random Magic 8 Ball responses? \n",
    "1. What does our function ask for in terms of parameter(s)?\n",
    "2. What does the random.randint() function return? \n",
    "3. How can we write code that combines (1) and (2) to generate random Magic 8 ball responses? "
   ]
  },
  {
   "cell_type": "code",
   "execution_count": 82,
   "metadata": {},
   "outputs": [
    {
     "data": {
      "text/plain": [
       "'dont know'"
      ]
     },
     "execution_count": 82,
     "metadata": {},
     "output_type": "execute_result"
    }
   ],
   "source": [
    "random_number = random.randint(1,9)\n",
    "\n",
    "getAnswer(random_number)"
   ]
  },
  {
   "cell_type": "code",
   "execution_count": null,
   "metadata": {},
   "outputs": [],
   "source": []
  },
  {
   "cell_type": "code",
   "execution_count": null,
   "metadata": {},
   "outputs": [],
   "source": []
  },
  {
   "cell_type": "markdown",
   "metadata": {},
   "source": [
    "# Exception Handling\n",
    ">- Exception handling is writing code so that our program can try and fix errors instead of completing crashing with error codes\n",
    ">>- We handle errors with the `try` and `except` statements\n",
    ">>- Good exception statements will try and point the user to the mistake so they can easily fix it\n",
    "\n",
    "Let's look at some examples of how to do this"
   ]
  },
  {
   "cell_type": "markdown",
   "metadata": {},
   "source": [
    "#### Task: create a function, percent(), that accepts two arguments, num and denom, and returns the quotient"
   ]
  },
  {
   "cell_type": "code",
   "execution_count": 39,
   "metadata": {},
   "outputs": [],
   "source": [
    "def percent(num, denom):\n",
    "    return num / denom \n",
    "    "
   ]
  },
  {
   "cell_type": "markdown",
   "metadata": {},
   "source": [
    "Now, pass the the percent() function to several print statements with varoius values for num and demom\n"
   ]
  },
  {
   "cell_type": "code",
   "execution_count": 40,
   "metadata": {},
   "outputs": [
    {
     "name": "stdout",
     "output_type": "stream",
     "text": [
      "0.1\n"
     ]
    }
   ],
   "source": [
    "print(percent(10,100))"
   ]
  },
  {
   "cell_type": "markdown",
   "metadata": {},
   "source": [
    "But what if someone was using our percent(num, denom) function and passed a 0 value to the denom parameter?"
   ]
  },
  {
   "cell_type": "code",
   "execution_count": null,
   "metadata": {},
   "outputs": [],
   "source": []
  },
  {
   "cell_type": "markdown",
   "metadata": {},
   "source": [
    "##### How can we fix the division by zero error in our function?"
   ]
  },
  {
   "cell_type": "markdown",
   "metadata": {},
   "source": [
    "Here's one way using the error code"
   ]
  },
  {
   "cell_type": "code",
   "execution_count": 41,
   "metadata": {},
   "outputs": [],
   "source": [
    "def percent2(num, denom):\n",
    "    try:\n",
    "        return num / denom\n",
    "    except ZeroDivisionError:\n",
    "        print(\"cannot divide by 0, enter non 0 second value\")"
   ]
  },
  {
   "cell_type": "code",
   "execution_count": 42,
   "metadata": {},
   "outputs": [
    {
     "name": "stdout",
     "output_type": "stream",
     "text": [
      "cannot divide by 0, enter non 0 second value\n"
     ]
    }
   ],
   "source": [
    "percent2( 10,0)"
   ]
  },
  {
   "cell_type": "markdown",
   "metadata": {},
   "source": [
    "Another way using an `if` statement"
   ]
  },
  {
   "cell_type": "code",
   "execution_count": null,
   "metadata": {},
   "outputs": [],
   "source": []
  },
  {
   "cell_type": "code",
   "execution_count": null,
   "metadata": {},
   "outputs": [],
   "source": []
  },
  {
   "cell_type": "markdown",
   "metadata": {},
   "source": [
    "<a id='top'></a>[TopPage](#Student-Notes)"
   ]
  },
  {
   "cell_type": "markdown",
   "metadata": {},
   "source": [
    "# Homework"
   ]
  },
  {
   "cell_type": "markdown",
   "metadata": {},
   "source": [
    "## Task1: Write a function that will calculate your final grade in this class.\n",
    "\n",
    "Specifications:\n",
    "1. Call your function, grade\n",
    "2. Include 4 parameters in your function for: practice, quiz, midterm, final\n",
    "3. Use the weights given in the syllabus to apply to the course component grades.\n",
    "4. Test your function with the following values for your parameters.\n",
    ">- practice = 100\n",
    ">- quiz = 90\n",
    ">- midterm = 70\n",
    ">- final = 85\n",
    ">- The final grade using these parameter values should be: 84.75\n",
    "5. The output of this function should look like:\n",
    ">- Your final course crade is: {courseGrade}\n",
    "6. Write a final grade calculator for all your courses this semester.\n",
    ">- You can use these calculators to estimate your grade based on what you input"
   ]
  },
  {
   "cell_type": "markdown",
   "metadata": {},
   "source": [
    "### Write your function in the next cell but don't call it yet."
   ]
  },
  {
   "cell_type": "code",
   "execution_count": null,
   "metadata": {},
   "outputs": [],
   "source": []
  },
  {
   "cell_type": "markdown",
   "metadata": {},
   "source": [
    "### Call your function in the next cell and pass the values given in the specifications."
   ]
  },
  {
   "cell_type": "code",
   "execution_count": null,
   "metadata": {},
   "outputs": [],
   "source": []
  },
  {
   "cell_type": "markdown",
   "metadata": {},
   "source": [
    "## Task2: Write a function that, when called, will ask a user to take up to 3 guesses at a randomly generated number.\n",
    "\n",
    "Specifications:\n",
    "1. Call your function, numbersGame\n",
    "2. Tell the user that the program is thinking of a number between 0 and 10.\n",
    "3. Tell the user they have 3 guesses to guess the correct number and enter a number.\n",
    ">- At each guess, tell the user how many guesses they have left\n",
    "4. Let the user enter up to 3 guesses before exiting the program.\n",
    "5. The number the program is \"thinking\" of must be a randomly generated number that resets every time the function is called\n",
    "6. If the user guesses correctly, tell them how many attempts it took them and a congratulatory note.\n",
    "7. After 3 guesses, if the user doesn't guess correctly, exit the program\n",
    ">- Have the program tell the user a note that they didn't get the correct response and show the correct number\n"
   ]
  },
  {
   "cell_type": "code",
   "execution_count": null,
   "metadata": {},
   "outputs": [],
   "source": []
  },
  {
   "cell_type": "markdown",
   "metadata": {},
   "source": [
    "<a id='top'></a>[TopPage](#Student-Notes)"
   ]
  }
 ],
 "metadata": {
  "kernelspec": {
   "display_name": "Python 3",
   "language": "python",
   "name": "python3"
  },
  "language_info": {
   "codemirror_mode": {
    "name": "ipython",
    "version": 3
   },
   "file_extension": ".py",
   "mimetype": "text/x-python",
   "name": "python",
   "nbconvert_exporter": "python",
   "pygments_lexer": "ipython3",
   "version": "3.7.4"
  }
 },
 "nbformat": 4,
 "nbformat_minor": 4
}
