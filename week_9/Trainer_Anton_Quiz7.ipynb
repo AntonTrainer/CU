{
 "cells": [
  {
   "cell_type": "markdown",
   "metadata": {},
   "source": [
    "# BAIM 3220: Introduction to Python\n",
    "## Quiz #7: Intro to Pandas\n",
    "### The goal of this quiz is to show your understanding of the following concepts:\n",
    "1. Use preliminary steps to understand your data: importing the pandas module and checking directory\n",
    "2. Read data into a DataFrame or Series\n",
    "3. Examine a DataFrame's basic structure\n",
    "4. Extract specific data from a pandas DataFrame\n",
    "5. Lastly, we revisit python fundamentals to keep those skills fresh\n",
    "\n",
    "## After downloading this .ipynb file from Canvas, resave with the following naming format:\n",
    ">- LastName_FirstName_Quiz7.ipynb\n",
    "\n",
    "## When you are ready to submit your quiz, upload your .ipynb file to Canvas in Quiz#7  "
   ]
  },
  {
   "cell_type": "markdown",
   "metadata": {},
   "source": [
    "# Question Set 1: (28 points)\n",
    "## The next set of questions use the `students100.xlsx` file\n",
    ">- Download the `students100.xlsx` file from Canvas under the `Week 9` module"
   ]
  },
  {
   "cell_type": "markdown",
   "metadata": {},
   "source": [
    "## Q1 (2 Points): Import Pandas and give it a alias as pd"
   ]
  },
  {
   "cell_type": "code",
   "execution_count": 1,
   "metadata": {},
   "outputs": [],
   "source": [
    "import pandas as pd"
   ]
  },
  {
   "cell_type": "markdown",
   "metadata": {},
   "source": [
    "## Q2: (2 points): Check your working directory"
   ]
  },
  {
   "cell_type": "code",
   "execution_count": 3,
   "metadata": {
    "scrolled": true
   },
   "outputs": [
    {
     "name": "stdout",
     "output_type": "stream",
     "text": [
      "C:\\Users\\ATrain\\Documents\\BAIM 3220 Python\\week_9\n"
     ]
    }
   ],
   "source": [
    "import os \n",
    "\n",
    "print(os.getcwd())"
   ]
  },
  {
   "cell_type": "markdown",
   "metadata": {},
   "source": [
    "## Q3 (6 Points): Define pandas DataFrame \n",
    ">- (2) Assign the `student100.xlsx` data to a DataFrame object named, `student`\n",
    ">- (2) Read the `students100.xlsx` \n",
    ">- (2) Set the index for the `student` DataFrame to the 'studentID' column"
   ]
  },
  {
   "cell_type": "code",
   "execution_count": 13,
   "metadata": {},
   "outputs": [],
   "source": [
    "student = pd.DataFrame()\n",
    "\n",
    "student = pd.read_excel('students100-1.xlsx', index_col = 0) #using -1 because I had to download from the module week_9 and that was the name \n",
    "\n"
   ]
  },
  {
   "cell_type": "markdown",
   "metadata": {},
   "source": [
    "## Q4 (2 points): Show Sample Data\n",
    ">- Show the first 7 rows of the `student` dataframe"
   ]
  },
  {
   "cell_type": "code",
   "execution_count": 14,
   "metadata": {
    "scrolled": true
   },
   "outputs": [
    {
     "data": {
      "text/html": [
       "<div>\n",
       "<style scoped>\n",
       "    .dataframe tbody tr th:only-of-type {\n",
       "        vertical-align: middle;\n",
       "    }\n",
       "\n",
       "    .dataframe tbody tr th {\n",
       "        vertical-align: top;\n",
       "    }\n",
       "\n",
       "    .dataframe thead th {\n",
       "        text-align: right;\n",
       "    }\n",
       "</style>\n",
       "<table border=\"1\" class=\"dataframe\">\n",
       "  <thead>\n",
       "    <tr style=\"text-align: right;\">\n",
       "      <th></th>\n",
       "      <th>firstName</th>\n",
       "      <th>lastName</th>\n",
       "      <th>birthdate</th>\n",
       "      <th>Quiz1</th>\n",
       "      <th>Quiz2</th>\n",
       "    </tr>\n",
       "    <tr>\n",
       "      <th>studentID</th>\n",
       "      <th></th>\n",
       "      <th></th>\n",
       "      <th></th>\n",
       "      <th></th>\n",
       "      <th></th>\n",
       "    </tr>\n",
       "  </thead>\n",
       "  <tbody>\n",
       "    <tr>\n",
       "      <td>1001</td>\n",
       "      <td>Amy</td>\n",
       "      <td>Willis</td>\n",
       "      <td>1991-10-23</td>\n",
       "      <td>4.140812</td>\n",
       "      <td>91</td>\n",
       "    </tr>\n",
       "    <tr>\n",
       "      <td>1002</td>\n",
       "      <td>Donald</td>\n",
       "      <td>Pierce</td>\n",
       "      <td>1990-04-07</td>\n",
       "      <td>61.519937</td>\n",
       "      <td>100</td>\n",
       "    </tr>\n",
       "    <tr>\n",
       "      <td>1003</td>\n",
       "      <td>Adam</td>\n",
       "      <td>Holmes</td>\n",
       "      <td>1991-05-16</td>\n",
       "      <td>9.836241</td>\n",
       "      <td>67</td>\n",
       "    </tr>\n",
       "    <tr>\n",
       "      <td>1004</td>\n",
       "      <td>Patrick</td>\n",
       "      <td>Payne</td>\n",
       "      <td>1990-12-29</td>\n",
       "      <td>66.732694</td>\n",
       "      <td>73</td>\n",
       "    </tr>\n",
       "    <tr>\n",
       "      <td>1005</td>\n",
       "      <td>Chris</td>\n",
       "      <td>Lynch</td>\n",
       "      <td>1990-10-03</td>\n",
       "      <td>31.576606</td>\n",
       "      <td>85</td>\n",
       "    </tr>\n",
       "    <tr>\n",
       "      <td>1006</td>\n",
       "      <td>Clarence</td>\n",
       "      <td>George</td>\n",
       "      <td>1988-04-29</td>\n",
       "      <td>62.222653</td>\n",
       "      <td>97</td>\n",
       "    </tr>\n",
       "    <tr>\n",
       "      <td>1007</td>\n",
       "      <td>James</td>\n",
       "      <td>Lawson</td>\n",
       "      <td>1989-10-17</td>\n",
       "      <td>42.533444</td>\n",
       "      <td>54</td>\n",
       "    </tr>\n",
       "  </tbody>\n",
       "</table>\n",
       "</div>"
      ],
      "text/plain": [
       "          firstName lastName  birthdate      Quiz1  Quiz2\n",
       "studentID                                                \n",
       "1001            Amy   Willis 1991-10-23   4.140812     91\n",
       "1002         Donald   Pierce 1990-04-07  61.519937    100\n",
       "1003           Adam   Holmes 1991-05-16   9.836241     67\n",
       "1004        Patrick    Payne 1990-12-29  66.732694     73\n",
       "1005          Chris    Lynch 1990-10-03  31.576606     85\n",
       "1006       Clarence   George 1988-04-29  62.222653     97\n",
       "1007          James   Lawson 1989-10-17  42.533444     54"
      ]
     },
     "execution_count": 14,
     "metadata": {},
     "output_type": "execute_result"
    }
   ],
   "source": [
    "student.head(7)"
   ]
  },
  {
   "cell_type": "markdown",
   "metadata": {},
   "source": [
    "## Q5 (2 Points) Show what datatypes are in the dataframe\n",
    ">- Note: this is a \"look it up\" question because we didn't cover this in class"
   ]
  },
  {
   "cell_type": "code",
   "execution_count": 16,
   "metadata": {},
   "outputs": [
    {
     "data": {
      "text/plain": [
       "firstName            object\n",
       "lastName             object\n",
       "birthdate    datetime64[ns]\n",
       "Quiz1               float64\n",
       "Quiz2                 int64\n",
       "dtype: object"
      ]
     },
     "execution_count": 16,
     "metadata": {},
     "output_type": "execute_result"
    }
   ],
   "source": [
    "student.dtypes"
   ]
  },
  {
   "cell_type": "markdown",
   "metadata": {},
   "source": [
    "## Q6 (2 Points) Show the number of records/rows in the dataset\n",
    ">- Just the number of rows, nothing else\n",
    ">- Assign a variable to this called, `totRecords`"
   ]
  },
  {
   "cell_type": "code",
   "execution_count": 19,
   "metadata": {},
   "outputs": [
    {
     "name": "stdout",
     "output_type": "stream",
     "text": [
      "100\n"
     ]
    }
   ],
   "source": [
    "totRecords = student.shape[0]\n",
    "\n",
    "print(totRecords)"
   ]
  },
  {
   "cell_type": "markdown",
   "metadata": {},
   "source": [
    "## Q7 (2 Points) Show the number of columns/fields in the dataset\n",
    ">- Just the number of columns, nothing else"
   ]
  },
  {
   "cell_type": "code",
   "execution_count": 22,
   "metadata": {
    "scrolled": true
   },
   "outputs": [
    {
     "name": "stdout",
     "output_type": "stream",
     "text": [
      "5\n",
      "6\n"
     ]
    }
   ],
   "source": [
    "print(student.shape[1]) #doesn't include the index column\n",
    "\n",
    "print(student.shape[1]+1) #includes the index column"
   ]
  },
  {
   "cell_type": "markdown",
   "metadata": {},
   "source": [
    "## Q8 (2 Points) Show the `Quiz2` score of the student with the ID `1046`"
   ]
  },
  {
   "cell_type": "code",
   "execution_count": 29,
   "metadata": {},
   "outputs": [
    {
     "data": {
      "text/plain": [
       "96"
      ]
     },
     "execution_count": 29,
     "metadata": {},
     "output_type": "execute_result"
    }
   ],
   "source": [
    "student['Quiz2'][1046]"
   ]
  },
  {
   "cell_type": "markdown",
   "metadata": {},
   "source": [
    "## Q9 (2 points) Show the `birthdate` of the student with the ID `1077`"
   ]
  },
  {
   "cell_type": "code",
   "execution_count": 30,
   "metadata": {},
   "outputs": [
    {
     "data": {
      "text/plain": [
       "Timestamp('1991-03-15 00:00:00')"
      ]
     },
     "execution_count": 30,
     "metadata": {},
     "output_type": "execute_result"
    }
   ],
   "source": [
    "student['birthdate'][1077]"
   ]
  },
  {
   "cell_type": "markdown",
   "metadata": {},
   "source": [
    "## Q10 (2 Points) Show the third through the 10th records\n",
    ">- Show all the fields/columns related to these records"
   ]
  },
  {
   "cell_type": "code",
   "execution_count": 32,
   "metadata": {},
   "outputs": [
    {
     "data": {
      "text/html": [
       "<div>\n",
       "<style scoped>\n",
       "    .dataframe tbody tr th:only-of-type {\n",
       "        vertical-align: middle;\n",
       "    }\n",
       "\n",
       "    .dataframe tbody tr th {\n",
       "        vertical-align: top;\n",
       "    }\n",
       "\n",
       "    .dataframe thead th {\n",
       "        text-align: right;\n",
       "    }\n",
       "</style>\n",
       "<table border=\"1\" class=\"dataframe\">\n",
       "  <thead>\n",
       "    <tr style=\"text-align: right;\">\n",
       "      <th></th>\n",
       "      <th>firstName</th>\n",
       "      <th>lastName</th>\n",
       "      <th>birthdate</th>\n",
       "      <th>Quiz1</th>\n",
       "      <th>Quiz2</th>\n",
       "    </tr>\n",
       "    <tr>\n",
       "      <th>studentID</th>\n",
       "      <th></th>\n",
       "      <th></th>\n",
       "      <th></th>\n",
       "      <th></th>\n",
       "      <th></th>\n",
       "    </tr>\n",
       "  </thead>\n",
       "  <tbody>\n",
       "    <tr>\n",
       "      <td>1003</td>\n",
       "      <td>Adam</td>\n",
       "      <td>Holmes</td>\n",
       "      <td>1991-05-16</td>\n",
       "      <td>9.836241</td>\n",
       "      <td>67</td>\n",
       "    </tr>\n",
       "    <tr>\n",
       "      <td>1004</td>\n",
       "      <td>Patrick</td>\n",
       "      <td>Payne</td>\n",
       "      <td>1990-12-29</td>\n",
       "      <td>66.732694</td>\n",
       "      <td>73</td>\n",
       "    </tr>\n",
       "    <tr>\n",
       "      <td>1005</td>\n",
       "      <td>Chris</td>\n",
       "      <td>Lynch</td>\n",
       "      <td>1990-10-03</td>\n",
       "      <td>31.576606</td>\n",
       "      <td>85</td>\n",
       "    </tr>\n",
       "    <tr>\n",
       "      <td>1006</td>\n",
       "      <td>Clarence</td>\n",
       "      <td>George</td>\n",
       "      <td>1988-04-29</td>\n",
       "      <td>62.222653</td>\n",
       "      <td>97</td>\n",
       "    </tr>\n",
       "    <tr>\n",
       "      <td>1007</td>\n",
       "      <td>James</td>\n",
       "      <td>Lawson</td>\n",
       "      <td>1989-10-17</td>\n",
       "      <td>42.533444</td>\n",
       "      <td>54</td>\n",
       "    </tr>\n",
       "    <tr>\n",
       "      <td>1008</td>\n",
       "      <td>Barbara</td>\n",
       "      <td>Robertson</td>\n",
       "      <td>1991-12-05</td>\n",
       "      <td>42.743908</td>\n",
       "      <td>64</td>\n",
       "    </tr>\n",
       "    <tr>\n",
       "      <td>1009</td>\n",
       "      <td>Louis</td>\n",
       "      <td>Simpson</td>\n",
       "      <td>1990-12-13</td>\n",
       "      <td>42.614158</td>\n",
       "      <td>77</td>\n",
       "    </tr>\n",
       "    <tr>\n",
       "      <td>1010</td>\n",
       "      <td>Dennis</td>\n",
       "      <td>Gilbert</td>\n",
       "      <td>1990-12-07</td>\n",
       "      <td>25.074897</td>\n",
       "      <td>74</td>\n",
       "    </tr>\n",
       "  </tbody>\n",
       "</table>\n",
       "</div>"
      ],
      "text/plain": [
       "          firstName   lastName  birthdate      Quiz1  Quiz2\n",
       "studentID                                                  \n",
       "1003           Adam     Holmes 1991-05-16   9.836241     67\n",
       "1004        Patrick      Payne 1990-12-29  66.732694     73\n",
       "1005          Chris      Lynch 1990-10-03  31.576606     85\n",
       "1006       Clarence     George 1988-04-29  62.222653     97\n",
       "1007          James     Lawson 1989-10-17  42.533444     54\n",
       "1008        Barbara  Robertson 1991-12-05  42.743908     64\n",
       "1009          Louis    Simpson 1990-12-13  42.614158     77\n",
       "1010         Dennis    Gilbert 1990-12-07  25.074897     74"
      ]
     },
     "execution_count": 32,
     "metadata": {},
     "output_type": "execute_result"
    }
   ],
   "source": [
    "student[2:10]"
   ]
  },
  {
   "cell_type": "markdown",
   "metadata": {},
   "source": [
    "## Q11 (2 Points) Show all rows for columns 2 to 4 (birthday-Quiz1)"
   ]
  },
  {
   "cell_type": "code",
   "execution_count": 57,
   "metadata": {
    "scrolled": true
   },
   "outputs": [
    {
     "data": {
      "text/html": [
       "<div>\n",
       "<style scoped>\n",
       "    .dataframe tbody tr th:only-of-type {\n",
       "        vertical-align: middle;\n",
       "    }\n",
       "\n",
       "    .dataframe tbody tr th {\n",
       "        vertical-align: top;\n",
       "    }\n",
       "\n",
       "    .dataframe thead th {\n",
       "        text-align: right;\n",
       "    }\n",
       "</style>\n",
       "<table border=\"1\" class=\"dataframe\">\n",
       "  <thead>\n",
       "    <tr style=\"text-align: right;\">\n",
       "      <th></th>\n",
       "      <th>birthdate</th>\n",
       "      <th>Quiz1</th>\n",
       "    </tr>\n",
       "    <tr>\n",
       "      <th>studentID</th>\n",
       "      <th></th>\n",
       "      <th></th>\n",
       "    </tr>\n",
       "  </thead>\n",
       "  <tbody>\n",
       "    <tr>\n",
       "      <td>1001</td>\n",
       "      <td>1991-10-23</td>\n",
       "      <td>4.140812</td>\n",
       "    </tr>\n",
       "    <tr>\n",
       "      <td>1002</td>\n",
       "      <td>1990-04-07</td>\n",
       "      <td>61.519937</td>\n",
       "    </tr>\n",
       "    <tr>\n",
       "      <td>1003</td>\n",
       "      <td>1991-05-16</td>\n",
       "      <td>9.836241</td>\n",
       "    </tr>\n",
       "    <tr>\n",
       "      <td>1004</td>\n",
       "      <td>1990-12-29</td>\n",
       "      <td>66.732694</td>\n",
       "    </tr>\n",
       "    <tr>\n",
       "      <td>1005</td>\n",
       "      <td>1990-10-03</td>\n",
       "      <td>31.576606</td>\n",
       "    </tr>\n",
       "    <tr>\n",
       "      <td>...</td>\n",
       "      <td>...</td>\n",
       "      <td>...</td>\n",
       "    </tr>\n",
       "    <tr>\n",
       "      <td>1096</td>\n",
       "      <td>1991-11-05</td>\n",
       "      <td>81.978636</td>\n",
       "    </tr>\n",
       "    <tr>\n",
       "      <td>1097</td>\n",
       "      <td>1990-03-18</td>\n",
       "      <td>96.395876</td>\n",
       "    </tr>\n",
       "    <tr>\n",
       "      <td>1098</td>\n",
       "      <td>1988-12-23</td>\n",
       "      <td>91.205344</td>\n",
       "    </tr>\n",
       "    <tr>\n",
       "      <td>1099</td>\n",
       "      <td>1989-12-06</td>\n",
       "      <td>62.268194</td>\n",
       "    </tr>\n",
       "    <tr>\n",
       "      <td>1100</td>\n",
       "      <td>1990-11-17</td>\n",
       "      <td>17.970791</td>\n",
       "    </tr>\n",
       "  </tbody>\n",
       "</table>\n",
       "<p>100 rows × 2 columns</p>\n",
       "</div>"
      ],
      "text/plain": [
       "           birthdate      Quiz1\n",
       "studentID                      \n",
       "1001      1991-10-23   4.140812\n",
       "1002      1990-04-07  61.519937\n",
       "1003      1991-05-16   9.836241\n",
       "1004      1990-12-29  66.732694\n",
       "1005      1990-10-03  31.576606\n",
       "...              ...        ...\n",
       "1096      1991-11-05  81.978636\n",
       "1097      1990-03-18  96.395876\n",
       "1098      1988-12-23  91.205344\n",
       "1099      1989-12-06  62.268194\n",
       "1100      1990-11-17  17.970791\n",
       "\n",
       "[100 rows x 2 columns]"
      ]
     },
     "execution_count": 57,
     "metadata": {},
     "output_type": "execute_result"
    }
   ],
   "source": [
    "student.iloc[:,2:4]"
   ]
  },
  {
   "cell_type": "markdown",
   "metadata": {},
   "source": [
    "## Q12 (2 Points) Show all data for studentID's from 1071-1076"
   ]
  },
  {
   "cell_type": "code",
   "execution_count": 74,
   "metadata": {
    "scrolled": false
   },
   "outputs": [
    {
     "data": {
      "text/html": [
       "<div>\n",
       "<style scoped>\n",
       "    .dataframe tbody tr th:only-of-type {\n",
       "        vertical-align: middle;\n",
       "    }\n",
       "\n",
       "    .dataframe tbody tr th {\n",
       "        vertical-align: top;\n",
       "    }\n",
       "\n",
       "    .dataframe thead th {\n",
       "        text-align: right;\n",
       "    }\n",
       "</style>\n",
       "<table border=\"1\" class=\"dataframe\">\n",
       "  <thead>\n",
       "    <tr style=\"text-align: right;\">\n",
       "      <th></th>\n",
       "      <th>firstName</th>\n",
       "      <th>lastName</th>\n",
       "      <th>birthdate</th>\n",
       "      <th>Quiz1</th>\n",
       "      <th>Quiz2</th>\n",
       "    </tr>\n",
       "    <tr>\n",
       "      <th>studentID</th>\n",
       "      <th></th>\n",
       "      <th></th>\n",
       "      <th></th>\n",
       "      <th></th>\n",
       "      <th></th>\n",
       "    </tr>\n",
       "  </thead>\n",
       "  <tbody>\n",
       "    <tr>\n",
       "      <td>1071</td>\n",
       "      <td>Kevin</td>\n",
       "      <td>Campbell</td>\n",
       "      <td>1991-09-28</td>\n",
       "      <td>85.034625</td>\n",
       "      <td>94</td>\n",
       "    </tr>\n",
       "    <tr>\n",
       "      <td>1072</td>\n",
       "      <td>Samuel</td>\n",
       "      <td>Elliott</td>\n",
       "      <td>1990-11-22</td>\n",
       "      <td>80.385630</td>\n",
       "      <td>59</td>\n",
       "    </tr>\n",
       "    <tr>\n",
       "      <td>1073</td>\n",
       "      <td>Annie</td>\n",
       "      <td>Hernandez</td>\n",
       "      <td>1989-11-15</td>\n",
       "      <td>83.166151</td>\n",
       "      <td>93</td>\n",
       "    </tr>\n",
       "    <tr>\n",
       "      <td>1074</td>\n",
       "      <td>Willie</td>\n",
       "      <td>Evans</td>\n",
       "      <td>1991-09-04</td>\n",
       "      <td>74.886973</td>\n",
       "      <td>98</td>\n",
       "    </tr>\n",
       "    <tr>\n",
       "      <td>1075</td>\n",
       "      <td>Norma</td>\n",
       "      <td>Lynch</td>\n",
       "      <td>1991-12-02</td>\n",
       "      <td>89.951541</td>\n",
       "      <td>98</td>\n",
       "    </tr>\n",
       "    <tr>\n",
       "      <td>1076</td>\n",
       "      <td>Jason</td>\n",
       "      <td>Freeman</td>\n",
       "      <td>1989-06-01</td>\n",
       "      <td>27.757535</td>\n",
       "      <td>82</td>\n",
       "    </tr>\n",
       "  </tbody>\n",
       "</table>\n",
       "</div>"
      ],
      "text/plain": [
       "          firstName   lastName  birthdate      Quiz1  Quiz2\n",
       "studentID                                                  \n",
       "1071          Kevin   Campbell 1991-09-28  85.034625     94\n",
       "1072         Samuel    Elliott 1990-11-22  80.385630     59\n",
       "1073          Annie  Hernandez 1989-11-15  83.166151     93\n",
       "1074         Willie      Evans 1991-09-04  74.886973     98\n",
       "1075          Norma      Lynch 1991-12-02  89.951541     98\n",
       "1076          Jason    Freeman 1989-06-01  27.757535     82"
      ]
     },
     "execution_count": 74,
     "metadata": {},
     "output_type": "execute_result"
    }
   ],
   "source": [
    "student.loc[1071:1076]"
   ]
  },
  {
   "cell_type": "markdown",
   "metadata": {},
   "source": [
    "# Question Set 2: Python Fundamentals "
   ]
  },
  {
   "cell_type": "markdown",
   "metadata": {},
   "source": [
    "## Q15 (40 Points) Write a program that allows or denies access based on a given list of approved users\n",
    "\n",
    "### Your program should follow the below specifications\n",
    "\n",
    ">- Your program should prompt the user to enter a login with \"What is your login?\"\n",
    ">- If the input is in the allowed users list your program should print \"Access granted\"\n",
    ">- If the input is not in the allowed users list your program should print \"Access denied, try again\"\n",
    ">- Allow the program to continue for up to 5 user attempts at the login\n",
    ">>- After 5 unsuccessful attempts print to the screen: \"Too many attempts, the account is locked.\"\n",
    ">- Your program should be case `insensitive`\n",
    ">- The following code cell gives the allowed user list. "
   ]
  },
  {
   "cell_type": "code",
   "execution_count": 65,
   "metadata": {},
   "outputs": [],
   "source": [
    "allowed_users = ['admin','micah', 'kadence','karina','jack','david']"
   ]
  },
  {
   "cell_type": "code",
   "execution_count": 76,
   "metadata": {},
   "outputs": [
    {
     "name": "stdout",
     "output_type": "stream",
     "text": [
      "What is your login?dsfg\n",
      "Access denied, try again\n",
      "What is your login?dfg\n",
      "Access denied, try again\n",
      "What is your login?sdfg\n",
      "Access denied, try again\n",
      "What is your login?sdfg\n",
      "Access denied, try again\n",
      "What is your login?sdfg\n",
      "Too many attempts, the account is locked.\n"
     ]
    }
   ],
   "source": [
    "\n",
    "\n",
    "count = 0\n",
    "while count < 5:\n",
    "    user = input('What is your login?')\n",
    "    \n",
    "    if user in allowed_users:\n",
    "        print('Access granted')\n",
    "        break\n",
    "    \n",
    "    else:\n",
    "        count +=1 \n",
    "        \n",
    "        if count < 5:\n",
    "                print('Access denied, try again')\n",
    "        \n",
    "        elif count == 5:\n",
    "            print('Too many attempts, the account is locked.')\n",
    "            break"
   ]
  }
 ],
 "metadata": {
  "kernelspec": {
   "display_name": "Python 3",
   "language": "python",
   "name": "python3"
  },
  "language_info": {
   "codemirror_mode": {
    "name": "ipython",
    "version": 3
   },
   "file_extension": ".py",
   "mimetype": "text/x-python",
   "name": "python",
   "nbconvert_exporter": "python",
   "pygments_lexer": "ipython3",
   "version": "3.7.4"
  },
  "latex_envs": {
   "LaTeX_envs_menu_present": true,
   "autoclose": false,
   "autocomplete": true,
   "bibliofile": "biblio.bib",
   "cite_by": "apalike",
   "current_citInitial": 1,
   "eqLabelWithNumbers": true,
   "eqNumInitial": 1,
   "hotkeys": {
    "equation": "Ctrl-E",
    "itemize": "Ctrl-I"
   },
   "labels_anchors": false,
   "latex_user_defs": false,
   "report_style_numbering": false,
   "user_envs_cfg": false
  }
 },
 "nbformat": 4,
 "nbformat_minor": 2
}
