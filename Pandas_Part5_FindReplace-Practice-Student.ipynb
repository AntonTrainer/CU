{
 "cells": [
  {
   "cell_type": "markdown",
   "metadata": {},
   "source": [
    "# `pandas` Part 5: Finding and Replacing Values - Practice Exercise\n",
    "\n",
    "# Learning Objectives\n",
    "## Complete these practice exercises to help learn how to:\n",
    "1. Check datatypes with `dtype`\n",
    "2. Find and replace missing (null) values with `fillna()`\n",
    " \n",
    "\n",
    "## Files Needed: `winemag-data-130k-v2.csv`\n",
    ">- Download this csv from Canvas prior to the lesson"
   ]
  },
  {
   "cell_type": "markdown",
   "metadata": {},
   "source": [
    "### Ex1: What is the data type of the `points` column in the winemag csv?\n",
    ">- Write the python code to answer this question"
   ]
  },
  {
   "cell_type": "code",
   "execution_count": null,
   "metadata": {},
   "outputs": [],
   "source": []
  },
  {
   "cell_type": "code",
   "execution_count": null,
   "metadata": {},
   "outputs": [],
   "source": []
  },
  {
   "cell_type": "code",
   "execution_count": null,
   "metadata": {},
   "outputs": [],
   "source": []
  },
  {
   "cell_type": "markdown",
   "metadata": {},
   "source": [
    "### Ex2: Create a Series from the records in the `points` column:\n",
    ">- Convert the entries to strings\n",
    ">- Name your Series `points_string`\n",
    ">- Hint: look up the `astype` function"
   ]
  },
  {
   "cell_type": "code",
   "execution_count": null,
   "metadata": {},
   "outputs": [],
   "source": []
  },
  {
   "cell_type": "code",
   "execution_count": null,
   "metadata": {},
   "outputs": [],
   "source": []
  },
  {
   "cell_type": "markdown",
   "metadata": {},
   "source": [
    "### Ex3: How many reviews in the dataset are missing a price? \n",
    ">- Write the python code to answer this question by:\n",
    "1. Define a variable called: `missing_price_reviews` that will store all the missing price reviews\n",
    "2. Count how many reviews are missing a price"
   ]
  },
  {
   "cell_type": "code",
   "execution_count": null,
   "metadata": {},
   "outputs": [],
   "source": []
  },
  {
   "cell_type": "markdown",
   "metadata": {},
   "source": [
    "#### After finding one way to answer the question try to find another way"
   ]
  },
  {
   "cell_type": "code",
   "execution_count": null,
   "metadata": {},
   "outputs": [],
   "source": []
  },
  {
   "cell_type": "markdown",
   "metadata": {},
   "source": [
    "#### There is also at least one other way to get the answer... try to find another way"
   ]
  },
  {
   "cell_type": "code",
   "execution_count": null,
   "metadata": {},
   "outputs": [],
   "source": []
  },
  {
   "cell_type": "markdown",
   "metadata": {},
   "source": [
    "### Ex4: What are the most common wine-producing regions? \n",
    ">- Define a Series named, `reviews_per_region`, that will store the results\n",
    ">- Use `region_1` as the region field you are trying to count\n",
    ">- Replace null/missing values with 'Unknown'\n",
    ">- Sort the results in descending order\n",
    ">- Hint: use `fillna()`, `value_counts()`, and `sort_values()` to help answer this question"
   ]
  },
  {
   "cell_type": "code",
   "execution_count": null,
   "metadata": {},
   "outputs": [],
   "source": []
  }
 ],
 "metadata": {
  "kernelspec": {
   "display_name": "Python 3",
   "language": "python",
   "name": "python3"
  },
  "language_info": {
   "codemirror_mode": {
    "name": "ipython",
    "version": 3
   },
   "file_extension": ".py",
   "mimetype": "text/x-python",
   "name": "python",
   "nbconvert_exporter": "python",
   "pygments_lexer": "ipython3",
   "version": "3.7.3"
  }
 },
 "nbformat": 4,
 "nbformat_minor": 2
}
