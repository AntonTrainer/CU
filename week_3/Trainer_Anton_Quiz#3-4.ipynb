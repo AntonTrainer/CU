{
 "cells": [
  {
   "cell_type": "markdown",
   "metadata": {},
   "source": [
    "# BAIM 3220: Introduction to Python\n",
    "## Quiz #3: Control Flow: if, elif, else & `for` loops\n",
    "## After downloading this .ipynb file from Canvas, resave with the following naming format:\n",
    ">- LastName_FirstName_Quiz#3.ipynb\n",
    "## Work all the problems in this one notebook, then upload the file multiple times on Canvas for each question. \n",
    ">- You will be graded based on the code rubric provided under each upload question.  \n",
    "\n",
    ">- Note: You need to complete the M/C,T/F, fill in the blank questions on the Canvas quiz AND upload this file before the quiz time is up"
   ]
  },
  {
   "cell_type": "markdown",
   "metadata": {},
   "source": [
    "# Question 19: 40 points\n",
    "## Write the Python code that will do the following:\n",
    "### 1) Assign a variable, age, the integer value that a user inputs when given the prompt, \"What is your age:\"\n",
    "### 2) Check to see if the user inputted value for age is less than or equal to 25\n",
    ">- If the age entered is 25 or less, print to the screen the text: \"You are pretty young!\"\n",
    ">- If the age entered is not 25 or less, print to the screen: \"You are getting old!\""
   ]
  },
  {
   "cell_type": "code",
   "execution_count": 26,
   "metadata": {
    "scrolled": true
   },
   "outputs": [
    {
     "name": "stdout",
     "output_type": "stream",
     "text": [
      "What is your age: 23\n",
      "You are pretty young!\n"
     ]
    }
   ],
   "source": [
    "age = int(input(\"What is your age: \"))\n",
    "\n",
    "if age <= 25:\n",
    "    \n",
    "    print(\"You are pretty young!\")\n",
    "    \n",
    "else:\n",
    "    \n",
    "    print(\"You are getting old!\")\n"
   ]
  },
  {
   "cell_type": "markdown",
   "metadata": {},
   "source": [
    "# Question 20: 40 points\n",
    "## Correct the control flow given in the next cell so that correct responses will be printed for printing grades based on percentage\n",
    ">- For example, as currently written if grade = 90 the code would currently print 'You got a D' which is certinaly not what you want if you earn a 90 in a course. \n",
    ">- Note: don't change any of the values given for grades (93,65,75,85) just the control flow"
   ]
  },
  {
   "cell_type": "code",
   "execution_count": 13,
   "metadata": {},
   "outputs": [
    {
     "name": "stdout",
     "output_type": "stream",
     "text": [
      "You got a D\n"
     ]
    }
   ],
   "source": [
    "# Don't change anything in this cell, complete your response in the next code cell provided below:\n",
    "grade = 90\n",
    "\n",
    "if grade >93:\n",
    "\n",
    "      print('You got an A')\n",
    "\n",
    "elif grade >65:\n",
    "\n",
    "      print('You got a D')\n",
    "\n",
    "elif grade >75:\n",
    "\n",
    "     print('You got a C')\n",
    "\n",
    "elif grade > 85:\n",
    "\n",
    "     print('You got a B')\n",
    "\n",
    "else:\n",
    "\n",
    "     print('You got an F')"
   ]
  },
  {
   "cell_type": "markdown",
   "metadata": {},
   "source": [
    "### Correct the code in the next cell"
   ]
  },
  {
   "cell_type": "code",
   "execution_count": 34,
   "metadata": {},
   "outputs": [
    {
     "name": "stdout",
     "output_type": "stream",
     "text": [
      "You got a B\n"
     ]
    }
   ],
   "source": [
    "grade = 90\n",
    "\n",
    "if grade >93:\n",
    "\n",
    "      print('You got an A')\n",
    "\n",
    "elif grade >65 and grade <= 75:\n",
    "\n",
    "      print('You got a D')\n",
    "\n",
    "elif grade >75 and grade <= 85:\n",
    "\n",
    "     print('You got a C')\n",
    "\n",
    "elif grade > 85 and grade <= 93:\n",
    "\n",
    "     print('You got a B')\n",
    "\n",
    "else:\n",
    "\n",
    "     print('You got an F')"
   ]
  },
  {
   "cell_type": "markdown",
   "metadata": {},
   "source": [
    "# Question 21: 40 points\n",
    "## Create a program that prints \"Go Buffs, beat UCLA!\" 3 times. \n",
    "### Specifications:\n",
    ">- 1) You must utilize a loop for this program.\n",
    ">- 2) The first line printed should be: \"Go Buffs, beat UCLA!\"\n",
    ">- 3) On a new line,  print a note that will output the loop iteration at all iterations.\n",
    "\n",
    "Use Python's f-strings formatting when printing out your loop iteration note.\n",
    "In your iteration note, the iteration number must be printed using the current value of the variable you define in your code. (i.e., you cannot just manually enter the iteration numbers and receive full credit) \n"
   ]
  },
  {
   "cell_type": "code",
   "execution_count": 32,
   "metadata": {},
   "outputs": [
    {
     "name": "stdout",
     "output_type": "stream",
     "text": [
      "Go Buffs, beat UCLA!\n",
      "This is itteration #0 \n",
      "\n",
      "Go Buffs, beat UCLA!\n",
      "This is itteration #1 \n",
      "\n",
      "Go Buffs, beat UCLA!\n",
      "This is itteration #2 \n",
      "\n"
     ]
    }
   ],
   "source": [
    "for go in range(3):\n",
    "    \n",
    "    print(\"Go Buffs, beat UCLA!\")\n",
    "    \n",
    "    print(f\"This is itteration #{go} \\n\")"
   ]
  },
  {
   "cell_type": "markdown",
   "metadata": {},
   "source": [
    "# Question 22: 40 points\n",
    "## Print the numbers from 0 to 10\n",
    "### Specifications:\n",
    ">- 1) You must use a for loop\n",
    ">- 2) At the end of the loop return the string, \"The loop has completed\""
   ]
  },
  {
   "cell_type": "code",
   "execution_count": 31,
   "metadata": {},
   "outputs": [
    {
     "name": "stdout",
     "output_type": "stream",
     "text": [
      "0 1 2 3 4 5 6 7 8 9 10 \n",
      "The loop has completed\n"
     ]
    }
   ],
   "source": [
    "for num in range(11):\n",
    "    \n",
    "    print(num, end = \" \")\n",
    "\n",
    "    if num == 10:\n",
    "        \n",
    "        print(\"\\nThe loop has completed\")"
   ]
  },
  {
   "cell_type": "markdown",
   "metadata": {},
   "source": [
    "# Question 23: 40 points\n",
    "## Print the numbers from 75 and ending at 12 (inclusive) counting down from 3\n"
   ]
  },
  {
   "cell_type": "code",
   "execution_count": 30,
   "metadata": {},
   "outputs": [
    {
     "name": "stdout",
     "output_type": "stream",
     "text": [
      "75 72 69 66 63 60 57 54 51 48 45 42 39 36 33 30 27 24 21 18 15 12 "
     ]
    }
   ],
   "source": [
    "for num in range(75, 11, -3):\n",
    "    print(num, end = \" \")"
   ]
  }
 ],
 "metadata": {
  "kernelspec": {
   "display_name": "Python 3",
   "language": "python",
   "name": "python3"
  },
  "language_info": {
   "codemirror_mode": {
    "name": "ipython",
    "version": 3
   },
   "file_extension": ".py",
   "mimetype": "text/x-python",
   "name": "python",
   "nbconvert_exporter": "python",
   "pygments_lexer": "ipython3",
   "version": "3.7.4"
  }
 },
 "nbformat": 4,
 "nbformat_minor": 2
}
