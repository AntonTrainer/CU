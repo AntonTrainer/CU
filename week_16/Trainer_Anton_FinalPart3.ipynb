{
 "cells": [
  {
   "cell_type": "markdown",
   "metadata": {},
   "source": [
    "# BAIM 3220: Final Exam Part 3\n",
    "## Learning Objectives\n",
    "1. Collect and store live stock data using python\n",
    "2. Analyze data using python\n",
    "3. Filter and group data\n",
    "4. Create calculated columns"
   ]
  },
  {
   "cell_type": "markdown",
   "metadata": {},
   "source": [
    "# Directions\n",
    ">- Use this notebook to write python code to answer questions given in the Canvas `Final: Part 3`\n",
    ">- Enter your answers to the questions in Canvas based on your python code\n",
    ">- Note: you may want to copy and paste the text from the Canvas Questions into markdown cells as you work\n",
    ">- You may add or remove code cells as you need but keep all your work under the appropriate question header\n",
    "\n",
    "## General Grading Guidelines\n",
    ">- 2/3 points for reasonable attempt to solve the problem with python\n",
    ">>- Show your work for each question under the appropriate header in this notebook.\n",
    ">>>- You can add/remove code cells as needed but keep all work per question under the appropriate header\n",
    ">>- You can't put anything down in a code cell and receive credit\n",
    ">>- A reasonable attempt can include a variety of the following:\n",
    ">>>- Using python code discussed in class to solve the given problem\n",
    ">>>- Using python code found from an external source that seems reasonable to solve the given problem\n",
    ">>>- The python code is clearly on the right track to solving the problem but the code may contain minor errors\n",
    ">- 1/3 points for correct answer entered on Canvas\n",
    ">>- Show your work in the notebook but make sure to input the correct answer on Canvas"
   ]
  },
  {
   "cell_type": "markdown",
   "metadata": {},
   "source": [
    "# Create Stock DataFrame\n",
    ">- To answer questions for this portion of the final read and store stock data from the web \n",
    "## Read and store stock data  \n",
    "### Use `pandas_datareader` and `yahoo` finance as your source of data (same as we have done in-class)\n",
    "#### You may be asked a variety of questions regarding the following companies (stock symbol in parentheses)\n",
    ">- Microsoft (MSFT) \n",
    ">- Boeing (BA)\n",
    ">- Royal Caribbean Cruises (RCL)\n",
    ">- Southwest Airlines (LUV)\n",
    ">- Wells Fargo (WFC)\n",
    ">- Tesla (TSLA)\n",
    "\n",
    "### Date range of stock data to analyze\n",
    ">- Start Date: 4/22/2015\n",
    ">- End Date: 4/22/2020"
   ]
  },
  {
   "cell_type": "code",
   "execution_count": 25,
   "metadata": {},
   "outputs": [],
   "source": [
    "import pandas as pd \n",
    "import datetime\n",
    "import pandas_datareader as pdr"
   ]
  },
  {
   "cell_type": "code",
   "execution_count": 26,
   "metadata": {},
   "outputs": [],
   "source": [
    "start = datetime.datetime(2015,4,22)\n",
    "end = datetime.datetime(2020, 4, 22)"
   ]
  },
  {
   "cell_type": "code",
   "execution_count": 27,
   "metadata": {},
   "outputs": [
    {
     "data": {
      "text/html": [
       "<div>\n",
       "<style scoped>\n",
       "    .dataframe tbody tr th:only-of-type {\n",
       "        vertical-align: middle;\n",
       "    }\n",
       "\n",
       "    .dataframe tbody tr th {\n",
       "        vertical-align: top;\n",
       "    }\n",
       "\n",
       "    .dataframe thead th {\n",
       "        text-align: right;\n",
       "    }\n",
       "</style>\n",
       "<table border=\"1\" class=\"dataframe\">\n",
       "  <thead>\n",
       "    <tr style=\"text-align: right;\">\n",
       "      <th></th>\n",
       "      <th>High</th>\n",
       "      <th>Low</th>\n",
       "      <th>Open</th>\n",
       "      <th>Close</th>\n",
       "      <th>Volume</th>\n",
       "      <th>Adj Close</th>\n",
       "    </tr>\n",
       "    <tr>\n",
       "      <th>Date</th>\n",
       "      <th></th>\n",
       "      <th></th>\n",
       "      <th></th>\n",
       "      <th></th>\n",
       "      <th></th>\n",
       "      <th></th>\n",
       "    </tr>\n",
       "  </thead>\n",
       "  <tbody>\n",
       "    <tr>\n",
       "      <td>2015-04-22</td>\n",
       "      <td>43.13</td>\n",
       "      <td>42.55</td>\n",
       "      <td>42.67</td>\n",
       "      <td>42.99</td>\n",
       "      <td>25064300.0</td>\n",
       "      <td>38.76</td>\n",
       "    </tr>\n",
       "  </tbody>\n",
       "</table>\n",
       "</div>"
      ],
      "text/plain": [
       "             High    Low   Open  Close      Volume  Adj Close\n",
       "Date                                                         \n",
       "2015-04-22  43.13  42.55  42.67  42.99  25064300.0      38.76"
      ]
     },
     "execution_count": 27,
     "metadata": {},
     "output_type": "execute_result"
    }
   ],
   "source": [
    "msft = round(pdr.DataReader('msft', 'yahoo', start, end),2)\n",
    "ba = round(pdr.DataReader('ba', 'yahoo', start, end),2)\n",
    "rcl = round(pdr.DataReader('rcl', 'yahoo', start, end),2)\n",
    "luv = round(pdr.DataReader('luv', 'yahoo', start, end),2)\n",
    "wfc = round(pdr.DataReader('wfc', 'yahoo', start, end),2)\n",
    "tsla = round(pdr.DataReader('tsla', 'yahoo', start, end),2)\n",
    "\n",
    "msft.head(1)"
   ]
  },
  {
   "cell_type": "markdown",
   "metadata": {},
   "source": [
    "# Show your work to answer Canvas questions\n",
    ">- Use the next cells to answer questions given on the Canvas quiz"
   ]
  },
  {
   "cell_type": "markdown",
   "metadata": {},
   "source": [
    "# Question 1\n",
    "### What is the 261 week high at closing (Column: 'Close') for Microsoft (MSFT)? Round your answer to two decimal places"
   ]
  },
  {
   "cell_type": "code",
   "execution_count": 28,
   "metadata": {
    "scrolled": true
   },
   "outputs": [
    {
     "data": {
      "text/plain": [
       "High              188.84\n",
       "Low               183.25\n",
       "Open              183.58\n",
       "Close             188.70\n",
       "Volume       35844300.00\n",
       "Adj Close         188.19\n",
       "Name: 2020-02-10 00:00:00, dtype: float64"
      ]
     },
     "execution_count": 28,
     "metadata": {},
     "output_type": "execute_result"
    }
   ],
   "source": [
    "msft.loc[msft['Close'].idxmax()]"
   ]
  },
  {
   "cell_type": "markdown",
   "metadata": {},
   "source": [
    "# Question 2\n",
    "### What was the opening price for Southwest Airlines (LUV) on November 30th, 2018? Round your answer to two decimal places."
   ]
  },
  {
   "cell_type": "code",
   "execution_count": 29,
   "metadata": {
    "scrolled": true
   },
   "outputs": [
    {
     "data": {
      "text/plain": [
       "High              54.66\n",
       "Low               53.30\n",
       "Open              53.43\n",
       "Close             54.61\n",
       "Volume       4546900.00\n",
       "Adj Close         53.51\n",
       "Name: 2018-11-30 00:00:00, dtype: float64"
      ]
     },
     "execution_count": 29,
     "metadata": {},
     "output_type": "execute_result"
    }
   ],
   "source": [
    "luv.loc['11-30-2018']"
   ]
  },
  {
   "cell_type": "markdown",
   "metadata": {},
   "source": [
    "# Question 3\n",
    "###  On what date did Royal Caribbean Cruises (RCL) have the highest closing price? (Column: 'Close') \n",
    "*Answer format: YYYY-MM-DD*\n"
   ]
  },
  {
   "cell_type": "code",
   "execution_count": 30,
   "metadata": {},
   "outputs": [
    {
     "data": {
      "text/plain": [
       "High            135.32\n",
       "Low             133.25\n",
       "Open            133.50\n",
       "Close           135.05\n",
       "Volume       906000.00\n",
       "Adj Close       133.72\n",
       "Name: 2020-01-17 00:00:00, dtype: float64"
      ]
     },
     "execution_count": 30,
     "metadata": {},
     "output_type": "execute_result"
    }
   ],
   "source": [
    "rcl.loc[rcl['Close'].idxmax()]"
   ]
  },
  {
   "cell_type": "markdown",
   "metadata": {},
   "source": [
    "# Question 4\n",
    "### On which day was there the most volatility for Southwest Airlines (LUV)?\n",
    "*Answer format: YYYY-MM-DD*\n",
    "\n",
    "*Note: Daily volatility can be taken by calculating the highest price of the day and subtracting the lowest price of the day. The biggest difference between the two numbers would be the most volatile day.*\n"
   ]
  },
  {
   "cell_type": "code",
   "execution_count": 31,
   "metadata": {},
   "outputs": [
    {
     "data": {
      "text/plain": [
       "High                36.42\n",
       "Low                 29.15\n",
       "Open                35.78\n",
       "Close               35.15\n",
       "Volume        14219600.00\n",
       "Adj Close           35.15\n",
       "volatility           7.27\n",
       "Name: 2020-03-18 00:00:00, dtype: float64"
      ]
     },
     "execution_count": 31,
     "metadata": {},
     "output_type": "execute_result"
    }
   ],
   "source": [
    "luv['volatility'] = luv['High'] - luv['Low']\n",
    "luv.head(2)\n",
    "\n",
    "luv.loc[luv['volatility'].idxmax()]"
   ]
  },
  {
   "cell_type": "markdown",
   "metadata": {},
   "source": [
    "# Question 5\n",
    "### What was the market cap for April 1st, 2020 for Wells Fargo (WFC)? Round your answer to two decimal places\n",
    "*Assume: Market cap = volume  * close*  <span style ='color:red'>  ------> THIS IS FACTUALLY INACCURATE</span>\n"
   ]
  },
  {
   "cell_type": "code",
   "execution_count": 42,
   "metadata": {},
   "outputs": [
    {
     "data": {
      "text/plain": [
       "1288575918.0"
      ]
     },
     "execution_count": 42,
     "metadata": {},
     "output_type": "execute_result"
    }
   ],
   "source": [
    "wfc['mkt_cap'] = round(wfc['Volume'] * wfc['Close'],2)\n",
    "\n",
    "wfc.loc['2020-4-1']['mkt_cap']\n"
   ]
  },
  {
   "cell_type": "markdown",
   "metadata": {},
   "source": [
    "# Question 6\n",
    "###  How many days was the closing price (Column: 'Close')  for Microsoft (MSFT) above 100?"
   ]
  },
  {
   "cell_type": "code",
   "execution_count": 66,
   "metadata": {},
   "outputs": [
    {
     "data": {
      "text/plain": [
       "High         466\n",
       "Low          466\n",
       "Open         466\n",
       "Close        466\n",
       "Volume       466\n",
       "Adj Close    466\n",
       "dtype: int64"
      ]
     },
     "execution_count": 66,
     "metadata": {},
     "output_type": "execute_result"
    }
   ],
   "source": [
    "msft[msft['Close'] > 100].count()"
   ]
  },
  {
   "cell_type": "markdown",
   "metadata": {},
   "source": [
    "# Question 7\n",
    "### What was the Yearly Rate of Return for Royal Caribbean Cruises (RCL) in 2018? Round your answer to two decimal places\n",
    "\n",
    "*Note: Not all days are trading days*\n",
    "\n",
    "*Yearly Rate of Return = ((End of Year Value - Start of Year Value)/Start of Year Value) *100*\n",
    "\n",
    "# <span style ='color:red'>Used 'Close' for calcs to be consistent with the rest of the test although Close is meaningless -- was not specified in question which to use  </span>\n"
   ]
  },
  {
   "cell_type": "code",
   "execution_count": 63,
   "metadata": {},
   "outputs": [
    {
     "data": {
      "text/plain": [
       "-20.22"
      ]
     },
     "execution_count": 63,
     "metadata": {},
     "output_type": "execute_result"
    }
   ],
   "source": [
    "# Using adjusted close because close is meaningless -- it was not specified in the question \n",
    "\n",
    "# January 2 and December 28 are the 1st and last trading days of 2018 \n",
    "\n",
    "adj_close_0 = rcl.loc['2018-01-02']['Close']\n",
    "adj_close_1 = rcl.loc['2018-12-28']['Close']\n",
    "\n",
    "year_ret = round((adj_close_1/adj_close_0 - 1)*100,2)\n",
    "\n",
    "year_ret"
   ]
  }
 ],
 "metadata": {
  "kernelspec": {
   "display_name": "Python 3",
   "language": "python",
   "name": "python3"
  },
  "language_info": {
   "codemirror_mode": {
    "name": "ipython",
    "version": 3
   },
   "file_extension": ".py",
   "mimetype": "text/x-python",
   "name": "python",
   "nbconvert_exporter": "python",
   "pygments_lexer": "ipython3",
   "version": "3.7.4"
  },
  "latex_envs": {
   "LaTeX_envs_menu_present": true,
   "autoclose": false,
   "autocomplete": true,
   "bibliofile": "biblio.bib",
   "cite_by": "apalike",
   "current_citInitial": 1,
   "eqLabelWithNumbers": true,
   "eqNumInitial": 1,
   "hotkeys": {
    "equation": "Ctrl-E",
    "itemize": "Ctrl-I"
   },
   "labels_anchors": false,
   "latex_user_defs": false,
   "report_style_numbering": false,
   "user_envs_cfg": false
  }
 },
 "nbformat": 4,
 "nbformat_minor": 2
}
