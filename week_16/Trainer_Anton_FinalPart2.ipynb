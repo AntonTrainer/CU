{
 "cells": [
  {
   "cell_type": "markdown",
   "metadata": {},
   "source": [
    "# BAIM 3220: Final Exam Part 2\n",
    "## Learning Objectives\n",
    "1. Analyze data using python\n",
    "2. Filter and group data\n",
    "3. Join DataFrames\n",
    "4. Create calculated columns"
   ]
  },
  {
   "cell_type": "markdown",
   "metadata": {},
   "source": [
    "# Quiz Directions\n",
    ">- Use this notebook to write python code to answer questions given in the Canvas `Final: Part 2`\n",
    ">- Enter your answers to the questions in Canvas based on your python code\n",
    ">- Note: you may want to copy and paste the text from the Canvas Questions into markdown cells as you work\n",
    "\n",
    "## General Grading Guidelines\n",
    ">- 2/3 points for reasonable attempt to solve the problem with python\n",
    ">>- Show your work for each question under the appropriate header in this notebook.\n",
    ">>>- You can add/remove code cells as needed but keep all work per question under the appropriate header\n",
    ">>- You can't put anything down in a code cell and receive credit\n",
    ">>- A reasonable attempt can include a variety of the following:\n",
    ">>>- Using python code discussed in class to solve the given problem\n",
    ">>>- Using python code found from an external source that seems reasonable to solve the given problem\n",
    ">>>- The python code is clearly on the right track to solving the problem but the code may contain minor errors\n",
    ">- 1/3 points for correct answer entered on Canvas\n",
    ">>- Show your work in the notebook but make sure to input the correct answer on Canvas"
   ]
  },
  {
   "cell_type": "markdown",
   "metadata": {},
   "source": [
    "## Read in a Combined and Cleaned BLS Dataset into a DataFrame\n",
    ">- If you do not have a combined and cleaned dataset you will need to do that prior to answering the analysis questions\n",
    ">- You will need to combine and clean the same BLS datasets we worked with earlier in the class\n",
    ">>- BLS2008.xlsx\n",
    ">>- BLS2009.xlsx\n",
    ">>- BLS2010.xlsx\n",
    ">>- BLS2011.xlsx"
   ]
  },
  {
   "cell_type": "code",
   "execution_count": 2,
   "metadata": {},
   "outputs": [],
   "source": [
    "import pandas as pd"
   ]
  },
  {
   "cell_type": "code",
   "execution_count": 3,
   "metadata": {},
   "outputs": [],
   "source": [
    "bls4 = pd.read_excel('../data/bls4yr.xlsx')"
   ]
  },
  {
   "cell_type": "markdown",
   "metadata": {},
   "source": [
    "# Show your work to answer Canvas questions\n",
    ">- Use the next cells to answer questions given on the Canvas quiz"
   ]
  },
  {
   "cell_type": "markdown",
   "metadata": {},
   "source": [
    "# Question 1\n",
    "### There were several changes made to the detailed occupation categories starting in 2010. In 2009, the OCC code for Training and development managers was 11-3042. What did the code change to in 2010? Type (or copy and paste) the Occupation Code exactly as it shows in the spreadsheet. Your answer must have the form ##-####. "
   ]
  },
  {
   "cell_type": "code",
   "execution_count": 4,
   "metadata": {
    "scrolled": true
   },
   "outputs": [
    {
     "data": {
      "text/html": [
       "<div>\n",
       "<style scoped>\n",
       "    .dataframe tbody tr th:only-of-type {\n",
       "        vertical-align: middle;\n",
       "    }\n",
       "\n",
       "    .dataframe tbody tr th {\n",
       "        vertical-align: top;\n",
       "    }\n",
       "\n",
       "    .dataframe thead th {\n",
       "        text-align: right;\n",
       "    }\n",
       "</style>\n",
       "<table border=\"1\" class=\"dataframe\">\n",
       "  <thead>\n",
       "    <tr style=\"text-align: right;\">\n",
       "      <th></th>\n",
       "      <th>year</th>\n",
       "      <th>occ_code</th>\n",
       "    </tr>\n",
       "  </thead>\n",
       "  <tbody>\n",
       "    <tr>\n",
       "      <td>13</td>\n",
       "      <td>2008</td>\n",
       "      <td>11-3042</td>\n",
       "    </tr>\n",
       "    <tr>\n",
       "      <td>836</td>\n",
       "      <td>2009</td>\n",
       "      <td>11-3042</td>\n",
       "    </tr>\n",
       "    <tr>\n",
       "      <td>1663</td>\n",
       "      <td>2010</td>\n",
       "      <td>11-3131</td>\n",
       "    </tr>\n",
       "    <tr>\n",
       "      <td>2482</td>\n",
       "      <td>2011</td>\n",
       "      <td>11-3131</td>\n",
       "    </tr>\n",
       "  </tbody>\n",
       "</table>\n",
       "</div>"
      ],
      "text/plain": [
       "      year occ_code\n",
       "13    2008  11-3042\n",
       "836   2009  11-3042\n",
       "1663  2010  11-3131\n",
       "2482  2011  11-3131"
      ]
     },
     "execution_count": 4,
     "metadata": {},
     "output_type": "execute_result"
    }
   ],
   "source": [
    "# Training and development managers - list all occ-codes and check the new one \n",
    "\n",
    "bls4.loc[bls4['occ_title'] == 'Training And Development Managers'][['year','occ_code']]\n"
   ]
  },
  {
   "cell_type": "markdown",
   "metadata": {},
   "source": [
    "# Question 2\n",
    "### Which year saw the highest total number employed in Protective service occupations? "
   ]
  },
  {
   "cell_type": "code",
   "execution_count": 6,
   "metadata": {
    "scrolled": true
   },
   "outputs": [
    {
     "data": {
      "text/plain": [
       "year          2011\n",
       "tot_emp    3202500\n",
       "dtype: int64"
      ]
     },
     "execution_count": 6,
     "metadata": {},
     "output_type": "execute_result"
    }
   ],
   "source": [
    "bls4.loc[bls4['occ_title'] == 'Protective Service Occupations'][['year','tot_emp']].max()"
   ]
  },
  {
   "cell_type": "markdown",
   "metadata": {},
   "source": [
    "# Question 3\n",
    "### In the category Building and grounds cleaning and maintenance occupations, how many were employed at the highest point for the years 2008 to 2011? Enter your response without commas"
   ]
  },
  {
   "cell_type": "code",
   "execution_count": 8,
   "metadata": {},
   "outputs": [
    {
     "data": {
      "text/plain": [
       "tot_emp    4429870\n",
       "dtype: int64"
      ]
     },
     "execution_count": 8,
     "metadata": {},
     "output_type": "execute_result"
    }
   ],
   "source": [
    "# Building And Grounds Cleaning And Maintenance Occupations\n",
    "# use tot_emp.max()\n",
    "\n",
    "bls4.loc[bls4['occ_title'] == 'Building And Grounds Cleaning And Maintenance Occupations'][['tot_emp']].max()\n"
   ]
  },
  {
   "cell_type": "markdown",
   "metadata": {},
   "source": [
    "# Question 4\n",
    "### What was the lowest mean annual wage for Office and administrative support occupations between 2008 and 2011? Enter your response without commas or dollar signs."
   ]
  },
  {
   "cell_type": "code",
   "execution_count": 9,
   "metadata": {},
   "outputs": [
    {
     "data": {
      "text/plain": [
       "a_mean    32220.0\n",
       "dtype: float64"
      ]
     },
     "execution_count": 9,
     "metadata": {},
     "output_type": "execute_result"
    }
   ],
   "source": [
    "# Office And Administrative Support Occupations\n",
    "# a_mean min\n",
    "\n",
    "bls4.loc[bls4['occ_title'] == 'Office And Administrative Support Occupations'][['a_mean']].min()\n"
   ]
  },
  {
   "cell_type": "markdown",
   "metadata": {},
   "source": [
    "# Question 5\n",
    "### How did the mean annual wage for Community and social services occupations rank out of all 22 major occupations in 2009? Rank from highest to lowest where rank = 1 means the occupations with the highest mean annual wage. "
   ]
  },
  {
   "cell_type": "code",
   "execution_count": 10,
   "metadata": {},
   "outputs": [
    {
     "name": "stdout",
     "output_type": "stream",
     "text": [
      "Int64Index([11], dtype='int64')\n"
     ]
    }
   ],
   "source": [
    "# Community And Social Service Occupations\n",
    "\n",
    "majors2009 = pd.DataFrame(bls4[(bls4.year == 2009) & (bls4.group == 'major')])\n",
    "\n",
    "sorted2009 = majors2009.sort_values('a_mean', ascending=False)\n",
    "sorted2009.reset_index(inplace=True)\n",
    "\n",
    "print(sorted2009.loc[sorted2009['occ_title'] == 'Community And Social Service Occupations'].index + 1)\n",
    "    #add 1 so that rank 1 = highest instead of 0"
   ]
  },
  {
   "cell_type": "markdown",
   "metadata": {},
   "source": [
    "# Question 6\n",
    "### For jobs that had total employment between 500,000 and 1,000,000 in 2011, which job category had a percentage growth in employment from 2010 to 2011 equal to -0.33%? Type (or copy and paste) the Occupation Code exactly as it shows in the spreadsheet. Your answer must have the form ##-####. "
   ]
  },
  {
   "cell_type": "code",
   "execution_count": 11,
   "metadata": {},
   "outputs": [
    {
     "data": {
      "text/html": [
       "<div>\n",
       "<style scoped>\n",
       "    .dataframe tbody tr th:only-of-type {\n",
       "        vertical-align: middle;\n",
       "    }\n",
       "\n",
       "    .dataframe tbody tr th {\n",
       "        vertical-align: top;\n",
       "    }\n",
       "\n",
       "    .dataframe thead th {\n",
       "        text-align: right;\n",
       "    }\n",
       "</style>\n",
       "<table border=\"1\" class=\"dataframe\">\n",
       "  <thead>\n",
       "    <tr style=\"text-align: right;\">\n",
       "      <th></th>\n",
       "      <th>year</th>\n",
       "      <th>occ_code</th>\n",
       "      <th>occ_title</th>\n",
       "      <th>group</th>\n",
       "      <th>tot_emp</th>\n",
       "      <th>emp_prse</th>\n",
       "      <th>h_mean</th>\n",
       "      <th>a_mean</th>\n",
       "      <th>mean_prse</th>\n",
       "      <th>h_pct10</th>\n",
       "      <th>...</th>\n",
       "      <th>h_pct75</th>\n",
       "      <th>h_pct90</th>\n",
       "      <th>a_pct10</th>\n",
       "      <th>a_pct25</th>\n",
       "      <th>a_median</th>\n",
       "      <th>a_pct75</th>\n",
       "      <th>a_pct90</th>\n",
       "      <th>annual</th>\n",
       "      <th>hourly</th>\n",
       "      <th>pct_growth_tot_emp</th>\n",
       "    </tr>\n",
       "  </thead>\n",
       "  <tbody>\n",
       "    <tr>\n",
       "      <td>2869</td>\n",
       "      <td>2011</td>\n",
       "      <td>35-9021</td>\n",
       "      <td>Dishwashers</td>\n",
       "      <td>detail</td>\n",
       "      <td>504280</td>\n",
       "      <td>0.9</td>\n",
       "      <td>9.06</td>\n",
       "      <td>18840.0</td>\n",
       "      <td>0.3</td>\n",
       "      <td>7.71</td>\n",
       "      <td>...</td>\n",
       "      <td>9.49</td>\n",
       "      <td>11.19</td>\n",
       "      <td>16040.0</td>\n",
       "      <td>17080.0</td>\n",
       "      <td>18360.0</td>\n",
       "      <td>19730.0</td>\n",
       "      <td>23280.0</td>\n",
       "      <td>NaN</td>\n",
       "      <td>NaN</td>\n",
       "      <td>-0.33</td>\n",
       "    </tr>\n",
       "  </tbody>\n",
       "</table>\n",
       "<p>1 rows × 22 columns</p>\n",
       "</div>"
      ],
      "text/plain": [
       "      year occ_code    occ_title   group  tot_emp  emp_prse  h_mean   a_mean  \\\n",
       "2869  2011  35-9021  Dishwashers  detail   504280       0.9    9.06  18840.0   \n",
       "\n",
       "      mean_prse  h_pct10  ...  h_pct75  h_pct90  a_pct10  a_pct25  a_median  \\\n",
       "2869        0.3     7.71  ...     9.49    11.19  16040.0  17080.0   18360.0   \n",
       "\n",
       "      a_pct75  a_pct90  annual  hourly  pct_growth_tot_emp  \n",
       "2869  19730.0  23280.0     NaN     NaN               -0.33  \n",
       "\n",
       "[1 rows x 22 columns]"
      ]
     },
     "execution_count": 11,
     "metadata": {},
     "output_type": "execute_result"
    }
   ],
   "source": [
    "# Add column to store growth \n",
    "bls4['pct_growth_tot_emp'] = round(bls4.sort_values(['year']).groupby('occ_code')[['tot_emp']].pct_change() * 100,2)\n",
    "#bls4.tail()\n",
    "\n",
    "# Filter to 500,000 - 1,000,000 in 2011\n",
    "\n",
    "bls2011_filtered = bls4.loc[(bls4['tot_emp'] >= 500000) & (bls4['tot_emp'] <= 1000000) & (bls4['year'] == 2011)]\n",
    "#bls2011_filtered.head()\n",
    "\n",
    "# Find job with -3.43% growth \n",
    "bls2011_filtered.loc[bls2011_filtered['pct_growth_tot_emp'] == -0.33]"
   ]
  }
 ],
 "metadata": {
  "kernelspec": {
   "display_name": "Python 3",
   "language": "python",
   "name": "python3"
  },
  "language_info": {
   "codemirror_mode": {
    "name": "ipython",
    "version": 3
   },
   "file_extension": ".py",
   "mimetype": "text/x-python",
   "name": "python",
   "nbconvert_exporter": "python",
   "pygments_lexer": "ipython3",
   "version": "3.7.4"
  },
  "latex_envs": {
   "LaTeX_envs_menu_present": true,
   "autoclose": false,
   "autocomplete": true,
   "bibliofile": "biblio.bib",
   "cite_by": "apalike",
   "current_citInitial": 1,
   "eqLabelWithNumbers": true,
   "eqNumInitial": 1,
   "hotkeys": {
    "equation": "Ctrl-E",
    "itemize": "Ctrl-I"
   },
   "labels_anchors": false,
   "latex_user_defs": false,
   "report_style_numbering": false,
   "user_envs_cfg": false
  }
 },
 "nbformat": 4,
 "nbformat_minor": 2
}
